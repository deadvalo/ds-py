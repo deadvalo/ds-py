{
 "cells": [
  {
   "cell_type": "code",
   "execution_count": 1,
   "outputs": [
    {
     "name": "stdout",
     "output_type": "stream",
     "text": [
      "Requirement already satisfied: tensorflow in /home/hassen/pycharm-download/project/lib/python3.8/site-packages (2.11.0)\r\n",
      "Requirement already satisfied: google-pasta>=0.1.1 in /home/hassen/pycharm-download/project/lib/python3.8/site-packages (from tensorflow) (0.2.0)\r\n",
      "Requirement already satisfied: six>=1.12.0 in /home/hassen/pycharm-download/project/lib/python3.8/site-packages (from tensorflow) (1.16.0)\r\n",
      "Requirement already satisfied: termcolor>=1.1.0 in /home/hassen/pycharm-download/project/lib/python3.8/site-packages (from tensorflow) (2.1.1)\r\n",
      "Requirement already satisfied: tensorflow-io-gcs-filesystem>=0.23.1 in /home/hassen/pycharm-download/project/lib/python3.8/site-packages (from tensorflow) (0.28.0)\r\n",
      "Requirement already satisfied: packaging in /home/hassen/pycharm-download/project/lib/python3.8/site-packages (from tensorflow) (21.3)\r\n",
      "Requirement already satisfied: astunparse>=1.6.0 in /home/hassen/pycharm-download/project/lib/python3.8/site-packages (from tensorflow) (1.6.3)\r\n",
      "Requirement already satisfied: grpcio<2.0,>=1.24.3 in /home/hassen/pycharm-download/project/lib/python3.8/site-packages (from tensorflow) (1.51.1)\r\n",
      "Requirement already satisfied: gast<=0.4.0,>=0.2.1 in /home/hassen/pycharm-download/project/lib/python3.8/site-packages (from tensorflow) (0.4.0)\r\n",
      "Requirement already satisfied: h5py>=2.9.0 in /home/hassen/pycharm-download/project/lib/python3.8/site-packages (from tensorflow) (3.7.0)\r\n",
      "Requirement already satisfied: keras<2.12,>=2.11.0 in /home/hassen/pycharm-download/project/lib/python3.8/site-packages (from tensorflow) (2.11.0)\r\n",
      "Requirement already satisfied: absl-py>=1.0.0 in /home/hassen/pycharm-download/project/lib/python3.8/site-packages (from tensorflow) (1.3.0)\r\n",
      "Requirement already satisfied: setuptools in /home/hassen/pycharm-download/project/lib/python3.8/site-packages (from tensorflow) (60.2.0)\r\n",
      "Requirement already satisfied: flatbuffers>=2.0 in /home/hassen/pycharm-download/project/lib/python3.8/site-packages (from tensorflow) (22.11.23)\r\n",
      "Requirement already satisfied: libclang>=13.0.0 in /home/hassen/pycharm-download/project/lib/python3.8/site-packages (from tensorflow) (14.0.6)\r\n",
      "Requirement already satisfied: protobuf<3.20,>=3.9.2 in /home/hassen/pycharm-download/project/lib/python3.8/site-packages (from tensorflow) (3.19.6)\r\n",
      "Requirement already satisfied: typing-extensions>=3.6.6 in /home/hassen/pycharm-download/project/lib/python3.8/site-packages (from tensorflow) (4.4.0)\r\n",
      "Requirement already satisfied: wrapt>=1.11.0 in /home/hassen/pycharm-download/project/lib/python3.8/site-packages (from tensorflow) (1.14.1)\r\n",
      "Requirement already satisfied: opt-einsum>=2.3.2 in /home/hassen/pycharm-download/project/lib/python3.8/site-packages (from tensorflow) (3.3.0)\r\n",
      "Requirement already satisfied: tensorboard<2.12,>=2.11 in /home/hassen/pycharm-download/project/lib/python3.8/site-packages (from tensorflow) (2.11.0)\r\n",
      "Requirement already satisfied: tensorflow-estimator<2.12,>=2.11.0 in /home/hassen/pycharm-download/project/lib/python3.8/site-packages (from tensorflow) (2.11.0)\r\n",
      "Requirement already satisfied: numpy>=1.20 in /home/hassen/pycharm-download/project/lib/python3.8/site-packages (from tensorflow) (1.23.5)\r\n",
      "Requirement already satisfied: wheel<1.0,>=0.23.0 in /home/hassen/pycharm-download/project/lib/python3.8/site-packages (from astunparse>=1.6.0->tensorflow) (0.37.1)\r\n",
      "Requirement already satisfied: tensorboard-plugin-wit>=1.6.0 in /home/hassen/pycharm-download/project/lib/python3.8/site-packages (from tensorboard<2.12,>=2.11->tensorflow) (1.8.1)\r\n",
      "Requirement already satisfied: werkzeug>=1.0.1 in /home/hassen/pycharm-download/project/lib/python3.8/site-packages (from tensorboard<2.12,>=2.11->tensorflow) (2.2.2)\r\n",
      "Requirement already satisfied: google-auth-oauthlib<0.5,>=0.4.1 in /home/hassen/pycharm-download/project/lib/python3.8/site-packages (from tensorboard<2.12,>=2.11->tensorflow) (0.4.6)\r\n",
      "Requirement already satisfied: google-auth<3,>=1.6.3 in /home/hassen/pycharm-download/project/lib/python3.8/site-packages (from tensorboard<2.12,>=2.11->tensorflow) (2.14.1)\r\n",
      "Requirement already satisfied: markdown>=2.6.8 in /home/hassen/pycharm-download/project/lib/python3.8/site-packages (from tensorboard<2.12,>=2.11->tensorflow) (3.4.1)\r\n",
      "Requirement already satisfied: tensorboard-data-server<0.7.0,>=0.6.0 in /home/hassen/pycharm-download/project/lib/python3.8/site-packages (from tensorboard<2.12,>=2.11->tensorflow) (0.6.1)\r\n",
      "Requirement already satisfied: requests<3,>=2.21.0 in /home/hassen/pycharm-download/project/lib/python3.8/site-packages (from tensorboard<2.12,>=2.11->tensorflow) (2.28.1)\r\n",
      "Requirement already satisfied: pyparsing!=3.0.5,>=2.0.2 in /home/hassen/pycharm-download/project/lib/python3.8/site-packages (from packaging->tensorflow) (3.0.9)\r\n",
      "Requirement already satisfied: cachetools<6.0,>=2.0.0 in /home/hassen/pycharm-download/project/lib/python3.8/site-packages (from google-auth<3,>=1.6.3->tensorboard<2.12,>=2.11->tensorflow) (5.2.0)\r\n",
      "Requirement already satisfied: rsa<5,>=3.1.4 in /home/hassen/pycharm-download/project/lib/python3.8/site-packages (from google-auth<3,>=1.6.3->tensorboard<2.12,>=2.11->tensorflow) (4.9)\r\n",
      "Requirement already satisfied: pyasn1-modules>=0.2.1 in /home/hassen/pycharm-download/project/lib/python3.8/site-packages (from google-auth<3,>=1.6.3->tensorboard<2.12,>=2.11->tensorflow) (0.2.8)\r\n",
      "Requirement already satisfied: requests-oauthlib>=0.7.0 in /home/hassen/pycharm-download/project/lib/python3.8/site-packages (from google-auth-oauthlib<0.5,>=0.4.1->tensorboard<2.12,>=2.11->tensorflow) (1.3.1)\r\n",
      "Requirement already satisfied: importlib-metadata>=4.4 in /home/hassen/pycharm-download/project/lib/python3.8/site-packages (from markdown>=2.6.8->tensorboard<2.12,>=2.11->tensorflow) (5.1.0)\r\n",
      "Requirement already satisfied: charset-normalizer<3,>=2 in /home/hassen/pycharm-download/project/lib/python3.8/site-packages (from requests<3,>=2.21.0->tensorboard<2.12,>=2.11->tensorflow) (2.1.1)\r\n",
      "Requirement already satisfied: idna<4,>=2.5 in /home/hassen/pycharm-download/project/lib/python3.8/site-packages (from requests<3,>=2.21.0->tensorboard<2.12,>=2.11->tensorflow) (3.4)\r\n",
      "Requirement already satisfied: urllib3<1.27,>=1.21.1 in /home/hassen/pycharm-download/project/lib/python3.8/site-packages (from requests<3,>=2.21.0->tensorboard<2.12,>=2.11->tensorflow) (1.26.13)\r\n",
      "Requirement already satisfied: certifi>=2017.4.17 in /home/hassen/pycharm-download/project/lib/python3.8/site-packages (from requests<3,>=2.21.0->tensorboard<2.12,>=2.11->tensorflow) (2022.9.24)\r\n",
      "Requirement already satisfied: MarkupSafe>=2.1.1 in /home/hassen/pycharm-download/project/lib/python3.8/site-packages (from werkzeug>=1.0.1->tensorboard<2.12,>=2.11->tensorflow) (2.1.1)\r\n",
      "Requirement already satisfied: zipp>=0.5 in /home/hassen/pycharm-download/project/lib/python3.8/site-packages (from importlib-metadata>=4.4->markdown>=2.6.8->tensorboard<2.12,>=2.11->tensorflow) (3.11.0)\r\n",
      "Requirement already satisfied: pyasn1<0.5.0,>=0.4.6 in /home/hassen/pycharm-download/project/lib/python3.8/site-packages (from pyasn1-modules>=0.2.1->google-auth<3,>=1.6.3->tensorboard<2.12,>=2.11->tensorflow) (0.4.8)\r\n",
      "Requirement already satisfied: oauthlib>=3.0.0 in /home/hassen/pycharm-download/project/lib/python3.8/site-packages (from requests-oauthlib>=0.7.0->google-auth-oauthlib<0.5,>=0.4.1->tensorboard<2.12,>=2.11->tensorflow) (3.2.2)\r\n",
      "\u001B[33mWARNING: You are using pip version 21.3.1; however, version 22.3.1 is available.\r\n",
      "You should consider upgrading via the '/home/hassen/pycharm-download/project/bin/python -m pip install --upgrade pip' command.\u001B[0m\r\n"
     ]
    }
   ],
   "source": [
    "!pip install tensorflow"
   ],
   "metadata": {
    "collapsed": false,
    "pycharm": {
     "name": "#%%\n"
    }
   }
  },
  {
   "cell_type": "code",
   "execution_count": 2,
   "outputs": [
    {
     "name": "stdout",
     "output_type": "stream",
     "text": [
      "Requirement already satisfied: pillow in /home/hassen/pycharm-download/project/lib/python3.8/site-packages (9.3.0)\r\n",
      "Requirement already satisfied: Cython in /home/hassen/pycharm-download/project/lib/python3.8/site-packages (0.29.32)\r\n",
      "Requirement already satisfied: lxml in /home/hassen/pycharm-download/project/lib/python3.8/site-packages (4.9.1)\r\n",
      "Requirement already satisfied: jupyter in /home/hassen/pycharm-download/project/lib/python3.8/site-packages (1.0.0)\r\n",
      "Requirement already satisfied: matplotlib in /home/hassen/pycharm-download/project/lib/python3.8/site-packages (3.6.2)\r\n",
      "Requirement already satisfied: notebook in /home/hassen/pycharm-download/project/lib/python3.8/site-packages (from jupyter) (6.5.2)\r\n",
      "Requirement already satisfied: ipywidgets in /home/hassen/pycharm-download/project/lib/python3.8/site-packages (from jupyter) (8.0.2)\r\n",
      "Requirement already satisfied: nbconvert in /home/hassen/pycharm-download/project/lib/python3.8/site-packages (from jupyter) (7.2.5)\r\n",
      "Requirement already satisfied: jupyter-console in /home/hassen/pycharm-download/project/lib/python3.8/site-packages (from jupyter) (6.4.4)\r\n",
      "Requirement already satisfied: qtconsole in /home/hassen/pycharm-download/project/lib/python3.8/site-packages (from jupyter) (5.4.0)\r\n",
      "Requirement already satisfied: ipykernel in /home/hassen/pycharm-download/project/lib/python3.8/site-packages (from jupyter) (6.17.1)\r\n",
      "Requirement already satisfied: cycler>=0.10 in /home/hassen/pycharm-download/project/lib/python3.8/site-packages (from matplotlib) (0.11.0)\r\n",
      "Requirement already satisfied: numpy>=1.19 in /home/hassen/pycharm-download/project/lib/python3.8/site-packages (from matplotlib) (1.23.5)\r\n",
      "Requirement already satisfied: fonttools>=4.22.0 in /home/hassen/pycharm-download/project/lib/python3.8/site-packages (from matplotlib) (4.38.0)\r\n",
      "Requirement already satisfied: kiwisolver>=1.0.1 in /home/hassen/pycharm-download/project/lib/python3.8/site-packages (from matplotlib) (1.4.4)\r\n",
      "Requirement already satisfied: python-dateutil>=2.7 in /home/hassen/pycharm-download/project/lib/python3.8/site-packages (from matplotlib) (2.8.2)\r\n",
      "Requirement already satisfied: contourpy>=1.0.1 in /home/hassen/pycharm-download/project/lib/python3.8/site-packages (from matplotlib) (1.0.6)\r\n",
      "Requirement already satisfied: packaging>=20.0 in /home/hassen/pycharm-download/project/lib/python3.8/site-packages (from matplotlib) (21.3)\r\n",
      "Requirement already satisfied: pyparsing>=2.2.1 in /home/hassen/pycharm-download/project/lib/python3.8/site-packages (from matplotlib) (3.0.9)\r\n",
      "Requirement already satisfied: six>=1.5 in /home/hassen/pycharm-download/project/lib/python3.8/site-packages (from python-dateutil>=2.7->matplotlib) (1.16.0)\r\n",
      "Requirement already satisfied: matplotlib-inline>=0.1 in /home/hassen/pycharm-download/project/lib/python3.8/site-packages (from ipykernel->jupyter) (0.1.6)\r\n",
      "Requirement already satisfied: jupyter-client>=6.1.12 in /home/hassen/pycharm-download/project/lib/python3.8/site-packages (from ipykernel->jupyter) (7.4.7)\r\n",
      "Requirement already satisfied: pyzmq>=17 in /home/hassen/pycharm-download/project/lib/python3.8/site-packages (from ipykernel->jupyter) (24.0.1)\r\n",
      "Requirement already satisfied: tornado>=6.1 in /home/hassen/pycharm-download/project/lib/python3.8/site-packages (from ipykernel->jupyter) (6.2)\r\n",
      "Requirement already satisfied: traitlets>=5.1.0 in /home/hassen/pycharm-download/project/lib/python3.8/site-packages (from ipykernel->jupyter) (5.6.0)\r\n",
      "Requirement already satisfied: nest-asyncio in /home/hassen/pycharm-download/project/lib/python3.8/site-packages (from ipykernel->jupyter) (1.5.6)\r\n",
      "Requirement already satisfied: ipython>=7.23.1 in /home/hassen/pycharm-download/project/lib/python3.8/site-packages (from ipykernel->jupyter) (8.7.0)\r\n",
      "Requirement already satisfied: debugpy>=1.0 in /home/hassen/pycharm-download/project/lib/python3.8/site-packages (from ipykernel->jupyter) (1.6.4)\r\n",
      "Requirement already satisfied: psutil in /home/hassen/pycharm-download/project/lib/python3.8/site-packages (from ipykernel->jupyter) (5.9.4)\r\n",
      "Requirement already satisfied: jupyterlab-widgets~=3.0 in /home/hassen/pycharm-download/project/lib/python3.8/site-packages (from ipywidgets->jupyter) (3.0.3)\r\n",
      "Requirement already satisfied: widgetsnbextension~=4.0 in /home/hassen/pycharm-download/project/lib/python3.8/site-packages (from ipywidgets->jupyter) (4.0.3)\r\n",
      "Requirement already satisfied: pygments in /home/hassen/pycharm-download/project/lib/python3.8/site-packages (from jupyter-console->jupyter) (2.13.0)\r\n",
      "Requirement already satisfied: prompt-toolkit!=3.0.0,!=3.0.1,<3.1.0,>=2.0.0 in /home/hassen/pycharm-download/project/lib/python3.8/site-packages (from jupyter-console->jupyter) (3.0.33)\r\n",
      "Requirement already satisfied: jupyterlab-pygments in /home/hassen/pycharm-download/project/lib/python3.8/site-packages (from nbconvert->jupyter) (0.2.2)\r\n",
      "Requirement already satisfied: pandocfilters>=1.4.1 in /home/hassen/pycharm-download/project/lib/python3.8/site-packages (from nbconvert->jupyter) (1.5.0)\r\n",
      "Requirement already satisfied: markupsafe>=2.0 in /home/hassen/pycharm-download/project/lib/python3.8/site-packages (from nbconvert->jupyter) (2.1.1)\r\n",
      "Requirement already satisfied: mistune<3,>=2.0.3 in /home/hassen/pycharm-download/project/lib/python3.8/site-packages (from nbconvert->jupyter) (2.0.4)\r\n",
      "Requirement already satisfied: jupyter-core>=4.7 in /home/hassen/pycharm-download/project/lib/python3.8/site-packages (from nbconvert->jupyter) (5.1.0)\r\n",
      "Requirement already satisfied: bleach in /home/hassen/pycharm-download/project/lib/python3.8/site-packages (from nbconvert->jupyter) (5.0.1)\r\n",
      "Requirement already satisfied: nbclient>=0.5.0 in /home/hassen/pycharm-download/project/lib/python3.8/site-packages (from nbconvert->jupyter) (0.7.2)\r\n",
      "Requirement already satisfied: nbformat>=5.1 in /home/hassen/pycharm-download/project/lib/python3.8/site-packages (from nbconvert->jupyter) (5.7.0)\r\n",
      "Requirement already satisfied: beautifulsoup4 in /home/hassen/pycharm-download/project/lib/python3.8/site-packages (from nbconvert->jupyter) (4.11.1)\r\n",
      "Requirement already satisfied: tinycss2 in /home/hassen/pycharm-download/project/lib/python3.8/site-packages (from nbconvert->jupyter) (1.2.1)\r\n",
      "Requirement already satisfied: importlib-metadata>=3.6 in /home/hassen/pycharm-download/project/lib/python3.8/site-packages (from nbconvert->jupyter) (5.1.0)\r\n",
      "Requirement already satisfied: defusedxml in /home/hassen/pycharm-download/project/lib/python3.8/site-packages (from nbconvert->jupyter) (0.7.1)\r\n",
      "Requirement already satisfied: jinja2>=3.0 in /home/hassen/pycharm-download/project/lib/python3.8/site-packages (from nbconvert->jupyter) (3.1.2)\r\n",
      "Requirement already satisfied: Send2Trash>=1.8.0 in /home/hassen/pycharm-download/project/lib/python3.8/site-packages (from notebook->jupyter) (1.8.0)\r\n",
      "Requirement already satisfied: argon2-cffi in /home/hassen/pycharm-download/project/lib/python3.8/site-packages (from notebook->jupyter) (21.3.0)\r\n",
      "Requirement already satisfied: terminado>=0.8.3 in /home/hassen/pycharm-download/project/lib/python3.8/site-packages (from notebook->jupyter) (0.17.0)\r\n",
      "Requirement already satisfied: prometheus-client in /home/hassen/pycharm-download/project/lib/python3.8/site-packages (from notebook->jupyter) (0.15.0)\r\n",
      "Requirement already satisfied: nbclassic>=0.4.7 in /home/hassen/pycharm-download/project/lib/python3.8/site-packages (from notebook->jupyter) (0.4.8)\r\n",
      "Requirement already satisfied: ipython-genutils in /home/hassen/pycharm-download/project/lib/python3.8/site-packages (from notebook->jupyter) (0.2.0)\r\n",
      "Requirement already satisfied: qtpy>=2.0.1 in /home/hassen/pycharm-download/project/lib/python3.8/site-packages (from qtconsole->jupyter) (2.3.0)\r\n",
      "Requirement already satisfied: zipp>=0.5 in /home/hassen/pycharm-download/project/lib/python3.8/site-packages (from importlib-metadata>=3.6->nbconvert->jupyter) (3.11.0)\r\n",
      "Requirement already satisfied: pickleshare in /home/hassen/pycharm-download/project/lib/python3.8/site-packages (from ipython>=7.23.1->ipykernel->jupyter) (0.7.5)\r\n",
      "Requirement already satisfied: backcall in /home/hassen/pycharm-download/project/lib/python3.8/site-packages (from ipython>=7.23.1->ipykernel->jupyter) (0.2.0)\r\n",
      "Requirement already satisfied: jedi>=0.16 in /home/hassen/pycharm-download/project/lib/python3.8/site-packages (from ipython>=7.23.1->ipykernel->jupyter) (0.18.2)\r\n",
      "Requirement already satisfied: stack-data in /home/hassen/pycharm-download/project/lib/python3.8/site-packages (from ipython>=7.23.1->ipykernel->jupyter) (0.6.2)\r\n",
      "Requirement already satisfied: decorator in /home/hassen/pycharm-download/project/lib/python3.8/site-packages (from ipython>=7.23.1->ipykernel->jupyter) (5.1.1)\r\n",
      "Requirement already satisfied: pexpect>4.3 in /home/hassen/pycharm-download/project/lib/python3.8/site-packages (from ipython>=7.23.1->ipykernel->jupyter) (4.8.0)\r\n",
      "Requirement already satisfied: entrypoints in /home/hassen/pycharm-download/project/lib/python3.8/site-packages (from jupyter-client>=6.1.12->ipykernel->jupyter) (0.4)\r\n",
      "Requirement already satisfied: platformdirs>=2.5 in /home/hassen/pycharm-download/project/lib/python3.8/site-packages (from jupyter-core>=4.7->nbconvert->jupyter) (2.5.4)\r\n",
      "Requirement already satisfied: notebook-shim>=0.1.0 in /home/hassen/pycharm-download/project/lib/python3.8/site-packages (from nbclassic>=0.4.7->notebook->jupyter) (0.2.2)\r\n",
      "Requirement already satisfied: jupyter-server>=1.8 in /home/hassen/pycharm-download/project/lib/python3.8/site-packages (from nbclassic>=0.4.7->notebook->jupyter) (1.23.3)\r\n",
      "Requirement already satisfied: jsonschema>=2.6 in /home/hassen/pycharm-download/project/lib/python3.8/site-packages (from nbformat>=5.1->nbconvert->jupyter) (4.17.3)\r\n",
      "Requirement already satisfied: fastjsonschema in /home/hassen/pycharm-download/project/lib/python3.8/site-packages (from nbformat>=5.1->nbconvert->jupyter) (2.16.2)\r\n",
      "Requirement already satisfied: wcwidth in /home/hassen/pycharm-download/project/lib/python3.8/site-packages (from prompt-toolkit!=3.0.0,!=3.0.1,<3.1.0,>=2.0.0->jupyter-console->jupyter) (0.2.5)\r\n",
      "Requirement already satisfied: ptyprocess in /home/hassen/pycharm-download/project/lib/python3.8/site-packages (from terminado>=0.8.3->notebook->jupyter) (0.7.0)\r\n",
      "Requirement already satisfied: argon2-cffi-bindings in /home/hassen/pycharm-download/project/lib/python3.8/site-packages (from argon2-cffi->notebook->jupyter) (21.2.0)\r\n",
      "Requirement already satisfied: soupsieve>1.2 in /home/hassen/pycharm-download/project/lib/python3.8/site-packages (from beautifulsoup4->nbconvert->jupyter) (2.3.2.post1)\r\n",
      "Requirement already satisfied: webencodings in /home/hassen/pycharm-download/project/lib/python3.8/site-packages (from bleach->nbconvert->jupyter) (0.5.1)\r\n",
      "Requirement already satisfied: parso<0.9.0,>=0.8.0 in /home/hassen/pycharm-download/project/lib/python3.8/site-packages (from jedi>=0.16->ipython>=7.23.1->ipykernel->jupyter) (0.8.3)\r\n",
      "Requirement already satisfied: pkgutil-resolve-name>=1.3.10 in /home/hassen/pycharm-download/project/lib/python3.8/site-packages (from jsonschema>=2.6->nbformat>=5.1->nbconvert->jupyter) (1.3.10)\r\n",
      "Requirement already satisfied: importlib-resources>=1.4.0 in /home/hassen/pycharm-download/project/lib/python3.8/site-packages (from jsonschema>=2.6->nbformat>=5.1->nbconvert->jupyter) (5.10.0)\r\n",
      "Requirement already satisfied: attrs>=17.4.0 in /home/hassen/pycharm-download/project/lib/python3.8/site-packages (from jsonschema>=2.6->nbformat>=5.1->nbconvert->jupyter) (22.1.0)\r\n",
      "Requirement already satisfied: pyrsistent!=0.17.0,!=0.17.1,!=0.17.2,>=0.14.0 in /home/hassen/pycharm-download/project/lib/python3.8/site-packages (from jsonschema>=2.6->nbformat>=5.1->nbconvert->jupyter) (0.19.2)\r\n",
      "Requirement already satisfied: anyio<4,>=3.1.0 in /home/hassen/pycharm-download/project/lib/python3.8/site-packages (from jupyter-server>=1.8->nbclassic>=0.4.7->notebook->jupyter) (3.6.2)\r\n",
      "Requirement already satisfied: websocket-client in /home/hassen/pycharm-download/project/lib/python3.8/site-packages (from jupyter-server>=1.8->nbclassic>=0.4.7->notebook->jupyter) (1.4.2)\r\n",
      "Requirement already satisfied: cffi>=1.0.1 in /home/hassen/pycharm-download/project/lib/python3.8/site-packages (from argon2-cffi-bindings->argon2-cffi->notebook->jupyter) (1.15.1)\r\n",
      "Requirement already satisfied: pure-eval in /home/hassen/pycharm-download/project/lib/python3.8/site-packages (from stack-data->ipython>=7.23.1->ipykernel->jupyter) (0.2.2)\r\n",
      "Requirement already satisfied: executing>=1.2.0 in /home/hassen/pycharm-download/project/lib/python3.8/site-packages (from stack-data->ipython>=7.23.1->ipykernel->jupyter) (1.2.0)\r\n",
      "Requirement already satisfied: asttokens>=2.1.0 in /home/hassen/pycharm-download/project/lib/python3.8/site-packages (from stack-data->ipython>=7.23.1->ipykernel->jupyter) (2.2.0)\r\n",
      "Requirement already satisfied: idna>=2.8 in /home/hassen/pycharm-download/project/lib/python3.8/site-packages (from anyio<4,>=3.1.0->jupyter-server>=1.8->nbclassic>=0.4.7->notebook->jupyter) (3.4)\r\n",
      "Requirement already satisfied: sniffio>=1.1 in /home/hassen/pycharm-download/project/lib/python3.8/site-packages (from anyio<4,>=3.1.0->jupyter-server>=1.8->nbclassic>=0.4.7->notebook->jupyter) (1.3.0)\r\n",
      "Requirement already satisfied: pycparser in /home/hassen/pycharm-download/project/lib/python3.8/site-packages (from cffi>=1.0.1->argon2-cffi-bindings->argon2-cffi->notebook->jupyter) (2.21)\r\n",
      "\u001B[33mWARNING: You are using pip version 21.3.1; however, version 22.3.1 is available.\r\n",
      "You should consider upgrading via the '/home/hassen/pycharm-download/project/bin/python -m pip install --upgrade pip' command.\u001B[0m\r\n"
     ]
    }
   ],
   "source": [
    "!pip install pillow Cython lxml jupyter matplotlib"
   ],
   "metadata": {
    "collapsed": false,
    "pycharm": {
     "name": "#%%\n"
    }
   }
  },
  {
   "cell_type": "code",
   "execution_count": 3,
   "outputs": [],
   "source": [
    "import os"
   ],
   "metadata": {
    "collapsed": false,
    "pycharm": {
     "name": "#%%\n"
    }
   }
  },
  {
   "cell_type": "code",
   "execution_count": 4,
   "outputs": [],
   "source": [
    "MODEL_PATH = os.path.join(os.getcwd(), 'models') # Path to models"
   ],
   "metadata": {
    "collapsed": false,
    "pycharm": {
     "name": "#%%\n"
    }
   }
  },
  {
   "cell_type": "code",
   "execution_count": 5,
   "outputs": [
    {
     "data": {
      "text/plain": "'/home/hassen/project/models'"
     },
     "execution_count": 5,
     "metadata": {},
     "output_type": "execute_result"
    }
   ],
   "source": [
    "MODEL_PATH"
   ],
   "metadata": {
    "collapsed": false,
    "pycharm": {
     "name": "#%%\n"
    }
   }
  },
  {
   "cell_type": "code",
   "execution_count": 6,
   "outputs": [],
   "source": [
    "if not os.path.exists(MODEL_PATH): # If models folder does not exist\n",
    "    !mkdir {MODEL_PATH} # Create models folder"
   ],
   "metadata": {
    "collapsed": false,
    "pycharm": {
     "name": "#%%\n"
    }
   }
  },
  {
   "cell_type": "code",
   "execution_count": 13,
   "outputs": [
    {
     "name": "stderr",
     "output_type": "stream",
     "text": [
      "[sudo] password for hassen: "
     ]
    },
    {
     "name": "stdout",
     "output_type": "stream",
     "text": [
      "Reading package lists...\n",
      "Building dependency tree...\n",
      "Reading state information...\n",
      "protobuf-compiler is already the newest version (3.6.1.3-2ubuntu5).\n",
      "The following packages were automatically installed and are no longer required:\n",
      "  mongodb-database-tools mongodb-mongosh\n",
      "Use 'sudo apt autoremove' to remove them.\n",
      "The following additional packages will be installed:\n",
      "  python-backports.functools-lru-cache python-bs4 python-chardet\n",
      "  python-html5lib python-olefile python-pkg-resources python-six\n",
      "  python-soupsieve python-webencodings\n",
      "Suggested packages:\n",
      "  python-genshi python-lxml-dbg python-lxml-doc python-pil-doc python-pil-dbg\n",
      "  python-setuptools\n",
      "The following NEW packages will be installed:\n",
      "  python-backports.functools-lru-cache python-bs4 python-chardet\n",
      "  python-html5lib python-lxml python-olefile python-pil python-pkg-resources\n",
      "  python-six python-soupsieve python-webencodings\n",
      "0 upgraded, 11 newly installed, 0 to remove and 148 not upgraded.\n",
      "Need to get 1,740 kB of archives.\n",
      "After this operation, 9,880 kB of additional disk space will be used.\n",
      "Do you want to continue? [Y/n] Abort.\n",
      "Processing /home/hassen/project/models/models/research\r\n",
      "  Preparing metadata (setup.py) ... \u001B[?25ldone\r\n",
      "\u001B[?25hCollecting avro-python3\r\n",
      "  Downloading avro-python3-1.10.2.tar.gz (38 kB)\r\n",
      "  Preparing metadata (setup.py) ... \u001B[?25ldone\r\n",
      "\u001B[?25hCollecting apache-beam\r\n",
      "  Downloading apache_beam-2.43.0-cp38-cp38-manylinux_2_17_x86_64.manylinux2014_x86_64.whl (14.5 MB)\r\n",
      "     |████████████████████████████████| 14.5 MB 71 kB/s             \r\n",
      "\u001B[?25hRequirement already satisfied: pillow in /home/hassen/pycharm-download/project/lib/python3.8/site-packages (from object-detection==0.1) (9.3.0)\r\n",
      "Requirement already satisfied: lxml in /home/hassen/pycharm-download/project/lib/python3.8/site-packages (from object-detection==0.1) (4.9.1)\r\n",
      "Requirement already satisfied: matplotlib in /home/hassen/pycharm-download/project/lib/python3.8/site-packages (from object-detection==0.1) (3.6.2)\r\n",
      "Requirement already satisfied: Cython in /home/hassen/pycharm-download/project/lib/python3.8/site-packages (from object-detection==0.1) (0.29.32)\r\n",
      "Collecting contextlib2\r\n",
      "  Using cached contextlib2-21.6.0-py2.py3-none-any.whl (13 kB)\r\n",
      "Collecting tf-slim\r\n",
      "  Using cached tf_slim-1.1.0-py2.py3-none-any.whl (352 kB)\r\n",
      "Requirement already satisfied: six in /home/hassen/pycharm-download/project/lib/python3.8/site-packages (from object-detection==0.1) (1.16.0)\r\n",
      "Collecting pycocotools\r\n",
      "  Using cached pycocotools-2.0.6-cp38-cp38-linux_x86_64.whl\r\n",
      "Collecting lvis\r\n",
      "  Downloading lvis-0.5.3-py3-none-any.whl (14 kB)\r\n",
      "Collecting scipy\r\n",
      "  Using cached scipy-1.9.3-cp38-cp38-manylinux_2_17_x86_64.manylinux2014_x86_64.whl (33.8 MB)\r\n",
      "Collecting pandas\r\n",
      "  Downloading pandas-1.5.2-cp38-cp38-manylinux_2_17_x86_64.manylinux2014_x86_64.whl (12.2 MB)\r\n",
      "     |████████████████████████████████| 12.2 MB 3.8 MB/s            \r\n",
      "\u001B[?25hCollecting tf-models-official>=2.5.1\r\n",
      "  Using cached tf_models_official-2.11.0-py2.py3-none-any.whl (2.3 MB)\r\n",
      "Collecting tensorflow_io\r\n",
      "  Using cached tensorflow_io-0.28.0-cp38-cp38-manylinux_2_12_x86_64.manylinux2010_x86_64.whl (26.9 MB)\r\n",
      "Requirement already satisfied: keras in /home/hassen/pycharm-download/project/lib/python3.8/site-packages (from object-detection==0.1) (2.11.0)\r\n",
      "Collecting pyparsing==2.4.7\r\n",
      "  Downloading pyparsing-2.4.7-py2.py3-none-any.whl (67 kB)\r\n",
      "     |████████████████████████████████| 67 kB 992 kB/s            \r\n",
      "\u001B[?25hCollecting sacrebleu<=2.2.0\r\n",
      "  Downloading sacrebleu-2.2.0-py3-none-any.whl (116 kB)\r\n",
      "     |████████████████████████████████| 116 kB 6.3 MB/s            \r\n",
      "\u001B[?25hRequirement already satisfied: numpy>=1.17 in /home/hassen/pycharm-download/project/lib/python3.8/site-packages (from sacrebleu<=2.2.0->object-detection==0.1) (1.23.5)\r\n",
      "Collecting portalocker\r\n",
      "  Using cached portalocker-2.6.0-py2.py3-none-any.whl (15 kB)\r\n",
      "Collecting tabulate>=0.8.9\r\n",
      "  Using cached tabulate-0.9.0-py3-none-any.whl (35 kB)\r\n",
      "Collecting colorama\r\n",
      "  Downloading colorama-0.4.6-py2.py3-none-any.whl (25 kB)\r\n",
      "Collecting regex\r\n",
      "  Using cached regex-2022.10.31-cp38-cp38-manylinux_2_17_x86_64.manylinux2014_x86_64.whl (772 kB)\r\n",
      "Collecting tensorflow-text~=2.11.0\r\n",
      "  Using cached tensorflow_text-2.11.0-cp38-cp38-manylinux_2_17_x86_64.manylinux2014_x86_64.whl (5.8 MB)\r\n",
      "Collecting google-api-python-client>=1.6.7\r\n",
      "  Using cached google_api_python_client-2.68.0-py2.py3-none-any.whl (10.6 MB)\r\n",
      "Collecting seqeval\r\n",
      "  Using cached seqeval-1.2.2-py3-none-any.whl\r\n",
      "Collecting py-cpuinfo>=3.3.0\r\n",
      "  Using cached py_cpuinfo-9.0.0-py3-none-any.whl (22 kB)\r\n",
      "Collecting kaggle>=1.3.9\r\n",
      "  Using cached kaggle-1.5.12-py3-none-any.whl\r\n",
      "Collecting tensorflow-addons\r\n",
      "  Using cached tensorflow_addons-0.18.0-cp38-cp38-manylinux_2_17_x86_64.manylinux2014_x86_64.whl (1.1 MB)\r\n",
      "Collecting tensorflow-hub>=0.6.0\r\n",
      "  Using cached tensorflow_hub-0.12.0-py2.py3-none-any.whl (108 kB)\r\n",
      "Collecting gin-config\r\n",
      "  Using cached gin_config-0.5.0-py3-none-any.whl (61 kB)\r\n",
      "Collecting tensorflow-datasets\r\n",
      "  Using cached tensorflow_datasets-4.7.0-py3-none-any.whl (4.7 MB)\r\n",
      "Collecting oauth2client\r\n",
      "  Using cached oauth2client-4.1.3-py2.py3-none-any.whl (98 kB)\r\n",
      "Collecting immutabledict\r\n",
      "  Using cached immutabledict-2.2.3-py3-none-any.whl (4.0 kB)\r\n",
      "Collecting tensorflow-model-optimization>=0.4.1\r\n",
      "  Using cached tensorflow_model_optimization-0.7.3-py2.py3-none-any.whl (238 kB)\r\n",
      "Collecting opencv-python-headless==4.5.2.52\r\n",
      "  Using cached opencv_python_headless-4.5.2.52-cp38-cp38-manylinux2014_x86_64.whl (38.2 MB)\r\n",
      "Requirement already satisfied: tensorflow~=2.11.0 in /home/hassen/pycharm-download/project/lib/python3.8/site-packages (from tf-models-official>=2.5.1->object-detection==0.1) (2.11.0)\r\n",
      "Collecting sentencepiece\r\n",
      "  Using cached sentencepiece-0.1.97-cp38-cp38-manylinux_2_17_x86_64.manylinux2014_x86_64.whl (1.3 MB)\r\n",
      "Requirement already satisfied: psutil>=5.4.3 in /home/hassen/pycharm-download/project/lib/python3.8/site-packages (from tf-models-official>=2.5.1->object-detection==0.1) (5.9.4)\r\n",
      "Collecting pyyaml<6.0,>=5.1\r\n",
      "  Downloading PyYAML-5.4.1-cp38-cp38-manylinux1_x86_64.whl (662 kB)\r\n",
      "     |████████████████████████████████| 662 kB 33.7 MB/s            \r\n",
      "\u001B[?25hRequirement already satisfied: python-dateutil>=2.8.1 in /home/hassen/pycharm-download/project/lib/python3.8/site-packages (from pandas->object-detection==0.1) (2.8.2)\r\n",
      "Collecting pytz>=2020.1\r\n",
      "  Downloading pytz-2022.6-py2.py3-none-any.whl (498 kB)\r\n",
      "     |████████████████████████████████| 498 kB 7.2 MB/s            \r\n",
      "\u001B[?25hRequirement already satisfied: absl-py>=0.2.2 in /home/hassen/pycharm-download/project/lib/python3.8/site-packages (from tf-slim->object-detection==0.1) (1.3.0)\r\n",
      "Collecting fasteners<1.0,>=0.3\r\n",
      "  Downloading fasteners-0.18-py3-none-any.whl (18 kB)\r\n",
      "Collecting proto-plus<2,>=1.7.1\r\n",
      "  Downloading proto_plus-1.22.1-py3-none-any.whl (47 kB)\r\n",
      "     |████████████████████████████████| 47 kB 784 kB/s            \r\n",
      "\u001B[?25hRequirement already satisfied: requests<3.0.0,>=2.24.0 in /home/hassen/pycharm-download/project/lib/python3.8/site-packages (from apache-beam->object-detection==0.1) (2.28.1)\r\n",
      "Collecting hdfs<3.0.0,>=2.1.0\r\n",
      "  Downloading hdfs-2.7.0-py3-none-any.whl (34 kB)\r\n",
      "Collecting dill<0.3.2,>=0.3.1.1\r\n",
      "  Downloading dill-0.3.1.1.tar.gz (151 kB)\r\n",
      "     |████████████████████████████████| 151 kB 35.3 MB/s            \r\n",
      "\u001B[?25h  Preparing metadata (setup.py) ... \u001B[?25ldone\r\n",
      "\u001B[?25hCollecting crcmod<2.0,>=1.7\r\n",
      "  Downloading crcmod-1.7.tar.gz (89 kB)\r\n",
      "     |████████████████████████████████| 89 kB 2.2 MB/s             \r\n",
      "\u001B[?25h  Preparing metadata (setup.py) ... \u001B[?25ldone\r\n",
      "\u001B[?25hCollecting orjson<4.0\r\n",
      "  Downloading orjson-3.8.2-cp38-cp38-manylinux_2_28_x86_64.whl (144 kB)\r\n",
      "     |████████████████████████████████| 144 kB 43.4 MB/s            \r\n",
      "\u001B[?25hCollecting objsize<0.6.0,>=0.5.2\r\n",
      "  Downloading objsize-0.5.2-py3-none-any.whl (8.2 kB)\r\n",
      "Collecting pydot<2,>=1.2.0\r\n",
      "  Downloading pydot-1.4.2-py2.py3-none-any.whl (21 kB)\r\n",
      "Requirement already satisfied: typing-extensions>=3.7.0 in /home/hassen/pycharm-download/project/lib/python3.8/site-packages (from apache-beam->object-detection==0.1) (4.4.0)\r\n",
      "Requirement already satisfied: grpcio!=1.48.0,<2,>=1.33.1 in /home/hassen/pycharm-download/project/lib/python3.8/site-packages (from apache-beam->object-detection==0.1) (1.51.1)\r\n",
      "Collecting httplib2<0.21.0,>=0.8\r\n",
      "  Downloading httplib2-0.20.4-py3-none-any.whl (96 kB)\r\n",
      "     |████████████████████████████████| 96 kB 1.2 MB/s             \r\n",
      "\u001B[?25hCollecting zstandard<1,>=0.18.0\r\n",
      "  Downloading zstandard-0.19.0-cp38-cp38-manylinux_2_17_x86_64.manylinux2014_x86_64.whl (2.5 MB)\r\n",
      "     |████████████████████████████████| 2.5 MB 34.3 MB/s            \r\n",
      "\u001B[?25hCollecting cloudpickle~=2.2.0\r\n",
      "  Downloading cloudpickle-2.2.0-py3-none-any.whl (25 kB)\r\n",
      "Collecting numpy>=1.17\r\n",
      "  Downloading numpy-1.22.4-cp38-cp38-manylinux_2_17_x86_64.manylinux2014_x86_64.whl (16.9 MB)\r\n",
      "     |████████████████████████████████| 16.9 MB 3.8 MB/s            \r\n",
      "\u001B[?25hCollecting pyarrow<10.0.0,>=0.15.1\r\n",
      "  Downloading pyarrow-9.0.0-cp38-cp38-manylinux_2_17_x86_64.manylinux2014_x86_64.whl (35.3 MB)\r\n",
      "     |████████████████████████████████| 35.3 MB 66 kB/s             \r\n",
      "\u001B[?25hCollecting fastavro<2,>=0.23.6\r\n",
      "  Downloading fastavro-1.7.0-cp38-cp38-manylinux_2_17_x86_64.manylinux2014_x86_64.whl (2.7 MB)\r\n",
      "     |████████████████████████████████| 2.7 MB 4.7 MB/s            \r\n",
      "\u001B[?25hRequirement already satisfied: protobuf<4,>3.12.2 in /home/hassen/pycharm-download/project/lib/python3.8/site-packages (from apache-beam->object-detection==0.1) (3.19.6)\r\n",
      "Collecting pymongo<4.0.0,>=3.8.0\r\n",
      "  Downloading pymongo-3.13.0-cp38-cp38-manylinux_2_17_x86_64.manylinux2014_x86_64.whl (526 kB)\r\n",
      "     |████████████████████████████████| 526 kB 6.5 MB/s            \r\n",
      "\u001B[?25hCollecting opencv-python>=4.1.0.25\r\n",
      "  Using cached opencv_python-4.6.0.66-cp36-abi3-manylinux_2_17_x86_64.manylinux2014_x86_64.whl (60.9 MB)\r\n",
      "Requirement already satisfied: cycler>=0.10.0 in /home/hassen/pycharm-download/project/lib/python3.8/site-packages (from lvis->object-detection==0.1) (0.11.0)\r\n",
      "Requirement already satisfied: kiwisolver>=1.1.0 in /home/hassen/pycharm-download/project/lib/python3.8/site-packages (from lvis->object-detection==0.1) (1.4.4)\r\n",
      "Requirement already satisfied: packaging>=20.0 in /home/hassen/pycharm-download/project/lib/python3.8/site-packages (from matplotlib->object-detection==0.1) (21.3)\r\n",
      "Requirement already satisfied: contourpy>=1.0.1 in /home/hassen/pycharm-download/project/lib/python3.8/site-packages (from matplotlib->object-detection==0.1) (1.0.6)\r\n",
      "Requirement already satisfied: fonttools>=4.22.0 in /home/hassen/pycharm-download/project/lib/python3.8/site-packages (from matplotlib->object-detection==0.1) (4.38.0)\r\n",
      "Requirement already satisfied: tensorflow-io-gcs-filesystem==0.28.0 in /home/hassen/pycharm-download/project/lib/python3.8/site-packages (from tensorflow_io->object-detection==0.1) (0.28.0)\r\n",
      "Collecting google-auth-httplib2>=0.1.0\r\n",
      "  Using cached google_auth_httplib2-0.1.0-py2.py3-none-any.whl (9.3 kB)\r\n",
      "Requirement already satisfied: google-auth<3.0.0dev,>=1.19.0 in /home/hassen/pycharm-download/project/lib/python3.8/site-packages (from google-api-python-client>=1.6.7->tf-models-official>=2.5.1->object-detection==0.1) (2.14.1)\r\n",
      "Collecting google-api-core!=2.0.*,!=2.1.*,!=2.2.*,!=2.3.0,<3.0.0dev,>=1.31.5\r\n",
      "  Using cached google_api_core-2.11.0-py3-none-any.whl (120 kB)\r\n",
      "Collecting uritemplate<5,>=3.0.1\r\n",
      "  Using cached uritemplate-4.1.1-py2.py3-none-any.whl (10 kB)\r\n",
      "Collecting docopt\r\n",
      "  Downloading docopt-0.6.2.tar.gz (25 kB)\r\n",
      "  Preparing metadata (setup.py) ... \u001B[?25ldone\r\n",
      "\u001B[?25hRequirement already satisfied: urllib3 in /home/hassen/pycharm-download/project/lib/python3.8/site-packages (from kaggle>=1.3.9->tf-models-official>=2.5.1->object-detection==0.1) (1.26.13)\r\n",
      "Requirement already satisfied: certifi in /home/hassen/pycharm-download/project/lib/python3.8/site-packages (from kaggle>=1.3.9->tf-models-official>=2.5.1->object-detection==0.1) (2022.9.24)\r\n",
      "Collecting tqdm\r\n",
      "  Using cached tqdm-4.64.1-py2.py3-none-any.whl (78 kB)\r\n",
      "Collecting python-slugify\r\n",
      "  Using cached python_slugify-7.0.0-py2.py3-none-any.whl (9.4 kB)\r\n",
      "Requirement already satisfied: charset-normalizer<3,>=2 in /home/hassen/pycharm-download/project/lib/python3.8/site-packages (from requests<3.0.0,>=2.24.0->apache-beam->object-detection==0.1) (2.1.1)\r\n",
      "Requirement already satisfied: idna<4,>=2.5 in /home/hassen/pycharm-download/project/lib/python3.8/site-packages (from requests<3.0.0,>=2.24.0->apache-beam->object-detection==0.1) (3.4)\r\n",
      "Requirement already satisfied: gast<=0.4.0,>=0.2.1 in /home/hassen/pycharm-download/project/lib/python3.8/site-packages (from tensorflow~=2.11.0->tf-models-official>=2.5.1->object-detection==0.1) (0.4.0)\r\n",
      "Requirement already satisfied: tensorboard<2.12,>=2.11 in /home/hassen/pycharm-download/project/lib/python3.8/site-packages (from tensorflow~=2.11.0->tf-models-official>=2.5.1->object-detection==0.1) (2.11.0)\r\n",
      "Requirement already satisfied: libclang>=13.0.0 in /home/hassen/pycharm-download/project/lib/python3.8/site-packages (from tensorflow~=2.11.0->tf-models-official>=2.5.1->object-detection==0.1) (14.0.6)\r\n",
      "Requirement already satisfied: h5py>=2.9.0 in /home/hassen/pycharm-download/project/lib/python3.8/site-packages (from tensorflow~=2.11.0->tf-models-official>=2.5.1->object-detection==0.1) (3.7.0)\r\n",
      "Requirement already satisfied: astunparse>=1.6.0 in /home/hassen/pycharm-download/project/lib/python3.8/site-packages (from tensorflow~=2.11.0->tf-models-official>=2.5.1->object-detection==0.1) (1.6.3)\r\n",
      "Requirement already satisfied: setuptools in /home/hassen/pycharm-download/project/lib/python3.8/site-packages (from tensorflow~=2.11.0->tf-models-official>=2.5.1->object-detection==0.1) (60.2.0)\r\n",
      "Requirement already satisfied: wrapt>=1.11.0 in /home/hassen/pycharm-download/project/lib/python3.8/site-packages (from tensorflow~=2.11.0->tf-models-official>=2.5.1->object-detection==0.1) (1.14.1)\r\n",
      "Requirement already satisfied: opt-einsum>=2.3.2 in /home/hassen/pycharm-download/project/lib/python3.8/site-packages (from tensorflow~=2.11.0->tf-models-official>=2.5.1->object-detection==0.1) (3.3.0)\r\n",
      "Requirement already satisfied: tensorflow-estimator<2.12,>=2.11.0 in /home/hassen/pycharm-download/project/lib/python3.8/site-packages (from tensorflow~=2.11.0->tf-models-official>=2.5.1->object-detection==0.1) (2.11.0)\r\n",
      "Requirement already satisfied: termcolor>=1.1.0 in /home/hassen/pycharm-download/project/lib/python3.8/site-packages (from tensorflow~=2.11.0->tf-models-official>=2.5.1->object-detection==0.1) (2.1.1)\r\n",
      "Requirement already satisfied: google-pasta>=0.1.1 in /home/hassen/pycharm-download/project/lib/python3.8/site-packages (from tensorflow~=2.11.0->tf-models-official>=2.5.1->object-detection==0.1) (0.2.0)\r\n",
      "Requirement already satisfied: flatbuffers>=2.0 in /home/hassen/pycharm-download/project/lib/python3.8/site-packages (from tensorflow~=2.11.0->tf-models-official>=2.5.1->object-detection==0.1) (22.11.23)\r\n",
      "Collecting dm-tree~=0.1.1\r\n",
      "  Using cached dm_tree-0.1.7-cp38-cp38-manylinux_2_12_x86_64.manylinux2010_x86_64.whl (142 kB)\r\n",
      "Requirement already satisfied: rsa>=3.1.4 in /home/hassen/pycharm-download/project/lib/python3.8/site-packages (from oauth2client->tf-models-official>=2.5.1->object-detection==0.1) (4.9)\r\n",
      "Requirement already satisfied: pyasn1>=0.1.7 in /home/hassen/pycharm-download/project/lib/python3.8/site-packages (from oauth2client->tf-models-official>=2.5.1->object-detection==0.1) (0.4.8)\r\n",
      "Requirement already satisfied: pyasn1-modules>=0.0.5 in /home/hassen/pycharm-download/project/lib/python3.8/site-packages (from oauth2client->tf-models-official>=2.5.1->object-detection==0.1) (0.2.8)\r\n",
      "Collecting scikit-learn>=0.21.3\r\n",
      "  Using cached scikit_learn-1.1.3-cp38-cp38-manylinux_2_17_x86_64.manylinux2014_x86_64.whl (31.2 MB)\r\n",
      "Collecting typeguard>=2.7\r\n",
      "  Using cached typeguard-2.13.3-py3-none-any.whl (17 kB)\r\n",
      "Requirement already satisfied: importlib-resources in /home/hassen/pycharm-download/project/lib/python3.8/site-packages (from tensorflow-datasets->tf-models-official>=2.5.1->object-detection==0.1) (5.10.0)\r\n",
      "Collecting toml\r\n",
      "  Using cached toml-0.10.2-py2.py3-none-any.whl (16 kB)\r\n",
      "Collecting promise\r\n",
      "  Using cached promise-2.3-py3-none-any.whl\r\n",
      "Collecting etils[epath]\r\n",
      "  Using cached etils-0.9.0-py3-none-any.whl (140 kB)\r\n",
      "Collecting tensorflow-metadata\r\n",
      "  Using cached tensorflow_metadata-1.11.0-py3-none-any.whl (52 kB)\r\n",
      "Requirement already satisfied: wheel<1.0,>=0.23.0 in /home/hassen/pycharm-download/project/lib/python3.8/site-packages (from astunparse>=1.6.0->tensorflow~=2.11.0->tf-models-official>=2.5.1->object-detection==0.1) (0.37.1)\r\n",
      "Collecting googleapis-common-protos<2.0dev,>=1.56.2\r\n",
      "  Using cached googleapis_common_protos-1.57.0-py2.py3-none-any.whl (217 kB)\r\n",
      "Requirement already satisfied: cachetools<6.0,>=2.0.0 in /home/hassen/pycharm-download/project/lib/python3.8/site-packages (from google-auth<3.0.0dev,>=1.19.0->google-api-python-client>=1.6.7->tf-models-official>=2.5.1->object-detection==0.1) (5.2.0)\r\n",
      "Collecting threadpoolctl>=2.0.0\r\n",
      "  Using cached threadpoolctl-3.1.0-py3-none-any.whl (14 kB)\r\n",
      "Collecting joblib>=1.0.0\r\n",
      "  Using cached joblib-1.2.0-py3-none-any.whl (297 kB)\r\n",
      "Requirement already satisfied: google-auth-oauthlib<0.5,>=0.4.1 in /home/hassen/pycharm-download/project/lib/python3.8/site-packages (from tensorboard<2.12,>=2.11->tensorflow~=2.11.0->tf-models-official>=2.5.1->object-detection==0.1) (0.4.6)\r\n",
      "Requirement already satisfied: markdown>=2.6.8 in /home/hassen/pycharm-download/project/lib/python3.8/site-packages (from tensorboard<2.12,>=2.11->tensorflow~=2.11.0->tf-models-official>=2.5.1->object-detection==0.1) (3.4.1)\r\n",
      "Requirement already satisfied: tensorboard-data-server<0.7.0,>=0.6.0 in /home/hassen/pycharm-download/project/lib/python3.8/site-packages (from tensorboard<2.12,>=2.11->tensorflow~=2.11.0->tf-models-official>=2.5.1->object-detection==0.1) (0.6.1)\r\n",
      "Requirement already satisfied: tensorboard-plugin-wit>=1.6.0 in /home/hassen/pycharm-download/project/lib/python3.8/site-packages (from tensorboard<2.12,>=2.11->tensorflow~=2.11.0->tf-models-official>=2.5.1->object-detection==0.1) (1.8.1)\r\n",
      "Requirement already satisfied: werkzeug>=1.0.1 in /home/hassen/pycharm-download/project/lib/python3.8/site-packages (from tensorboard<2.12,>=2.11->tensorflow~=2.11.0->tf-models-official>=2.5.1->object-detection==0.1) (2.2.2)\r\n",
      "Requirement already satisfied: zipp in /home/hassen/pycharm-download/project/lib/python3.8/site-packages (from etils[epath]->tensorflow-datasets->tf-models-official>=2.5.1->object-detection==0.1) (3.11.0)\r\n",
      "Collecting text-unidecode>=1.3\r\n",
      "  Using cached text_unidecode-1.3-py2.py3-none-any.whl (78 kB)\r\n",
      "Requirement already satisfied: requests-oauthlib>=0.7.0 in /home/hassen/pycharm-download/project/lib/python3.8/site-packages (from google-auth-oauthlib<0.5,>=0.4.1->tensorboard<2.12,>=2.11->tensorflow~=2.11.0->tf-models-official>=2.5.1->object-detection==0.1) (1.3.1)\r\n",
      "Requirement already satisfied: importlib-metadata>=4.4 in /home/hassen/pycharm-download/project/lib/python3.8/site-packages (from markdown>=2.6.8->tensorboard<2.12,>=2.11->tensorflow~=2.11.0->tf-models-official>=2.5.1->object-detection==0.1) (5.1.0)\r\n",
      "Requirement already satisfied: MarkupSafe>=2.1.1 in /home/hassen/pycharm-download/project/lib/python3.8/site-packages (from werkzeug>=1.0.1->tensorboard<2.12,>=2.11->tensorflow~=2.11.0->tf-models-official>=2.5.1->object-detection==0.1) (2.1.1)\r\n",
      "Requirement already satisfied: oauthlib>=3.0.0 in /home/hassen/pycharm-download/project/lib/python3.8/site-packages (from requests-oauthlib>=0.7.0->google-auth-oauthlib<0.5,>=0.4.1->tensorboard<2.12,>=2.11->tensorflow~=2.11.0->tf-models-official>=2.5.1->object-detection==0.1) (3.2.2)\r\n",
      "Building wheels for collected packages: object-detection, avro-python3, crcmod, dill, docopt\r\n",
      "  Building wheel for object-detection (setup.py) ... \u001B[?25ldone\r\n",
      "\u001B[?25h  Created wheel for object-detection: filename=object_detection-0.1-py3-none-any.whl size=1696824 sha256=75c28bcf2797c6e63ef4a8bb8f8bbfd2dfb2856fc7132e7bb5f1c4389bd70bba\r\n",
      "  Stored in directory: /tmp/pip-ephem-wheel-cache-t9h6nyta/wheels/b0/cb/70/8ddee0b475a85c366825d7c4534168fd280425e26a9ed40b2a\r\n",
      "  Building wheel for avro-python3 (setup.py) ... \u001B[?25ldone\r\n",
      "\u001B[?25h  Created wheel for avro-python3: filename=avro_python3-1.10.2-py3-none-any.whl size=44010 sha256=0ba9bebe86e6c62a766c75a5fc0151527a4210e7ee3f409605d771824570c359\r\n",
      "  Stored in directory: /home/hassen/.cache/pip/wheels/bb/73/e9/d273421f5723c4bf544dcf9eb097bda94421ef8d3252699f0a\r\n",
      "  Building wheel for crcmod (setup.py) ... \u001B[?25ldone\r\n",
      "\u001B[?25h  Created wheel for crcmod: filename=crcmod-1.7-cp38-cp38-linux_x86_64.whl size=36039 sha256=dfbdb9d3066f24cddffff7f6089ca3b522a88355a75ff4b340ea9e1b81f50e12\r\n",
      "  Stored in directory: /home/hassen/.cache/pip/wheels/ca/5a/02/f3acf982a026f3319fb3e798a8dca2d48fafee7761788562e9\r\n",
      "  Building wheel for dill (setup.py) ... \u001B[?25ldone\r\n",
      "\u001B[?25h  Created wheel for dill: filename=dill-0.3.1.1-py3-none-any.whl size=78544 sha256=5672ebf05be44ac52b28020897838d6de435bd0482c726c6c9cd6af7c83bbf12\r\n",
      "  Stored in directory: /home/hassen/.cache/pip/wheels/07/35/78/e9004fa30578734db7f10e7a211605f3f0778d2bdde38a239d\r\n",
      "  Building wheel for docopt (setup.py) ... \u001B[?25ldone\r\n",
      "\u001B[?25h  Created wheel for docopt: filename=docopt-0.6.2-py2.py3-none-any.whl size=13723 sha256=783d2b8af221647f9c9aac1be11faf44680b6c1f1952bff2f926fd0f7ef6991f\r\n",
      "  Stored in directory: /home/hassen/.cache/pip/wheels/56/ea/58/ead137b087d9e326852a851351d1debf4ada529b6ac0ec4e8c\r\n",
      "Successfully built object-detection avro-python3 crcmod dill docopt\r\n",
      "Installing collected packages: pyparsing, numpy, etils, threadpoolctl, text-unidecode, scipy, joblib, httplib2, googleapis-common-protos, uritemplate, typeguard, tqdm, toml, tensorflow-metadata, tensorflow-hub, tabulate, scikit-learn, regex, pytz, python-slugify, promise, portalocker, google-auth-httplib2, google-api-core, docopt, dm-tree, dill, colorama, zstandard, tf-slim, tensorflow-text, tensorflow-model-optimization, tensorflow-datasets, tensorflow-addons, seqeval, sentencepiece, sacrebleu, pyyaml, pymongo, pydot, pycocotools, pyarrow, py-cpuinfo, proto-plus, pandas, orjson, opencv-python-headless, opencv-python, objsize, oauth2client, kaggle, immutabledict, hdfs, google-api-python-client, gin-config, fasteners, fastavro, crcmod, cloudpickle, tf-models-official, tensorflow-io, lvis, contextlib2, avro-python3, apache-beam, object-detection\r\n",
      "  Attempting uninstall: pyparsing\r\n",
      "    Found existing installation: pyparsing 3.0.9\r\n",
      "    Uninstalling pyparsing-3.0.9:\r\n",
      "      Successfully uninstalled pyparsing-3.0.9\r\n",
      "  Attempting uninstall: numpy\r\n",
      "    Found existing installation: numpy 1.23.5\r\n",
      "    Uninstalling numpy-1.23.5:\r\n",
      "      Successfully uninstalled numpy-1.23.5\r\n",
      "Successfully installed apache-beam-2.43.0 avro-python3-1.10.2 cloudpickle-2.2.0 colorama-0.4.6 contextlib2-21.6.0 crcmod-1.7 dill-0.3.1.1 dm-tree-0.1.7 docopt-0.6.2 etils-0.9.0 fastavro-1.7.0 fasteners-0.18 gin-config-0.5.0 google-api-core-2.11.0 google-api-python-client-2.68.0 google-auth-httplib2-0.1.0 googleapis-common-protos-1.57.0 hdfs-2.7.0 httplib2-0.20.4 immutabledict-2.2.3 joblib-1.2.0 kaggle-1.5.12 lvis-0.5.3 numpy-1.22.4 oauth2client-4.1.3 object-detection-0.1 objsize-0.5.2 opencv-python-4.6.0.66 opencv-python-headless-4.5.2.52 orjson-3.8.2 pandas-1.5.2 portalocker-2.6.0 promise-2.3 proto-plus-1.22.1 py-cpuinfo-9.0.0 pyarrow-9.0.0 pycocotools-2.0.6 pydot-1.4.2 pymongo-3.13.0 pyparsing-2.4.7 python-slugify-7.0.0 pytz-2022.6 pyyaml-5.4.1 regex-2022.10.31 sacrebleu-2.2.0 scikit-learn-1.1.3 scipy-1.9.3 sentencepiece-0.1.97 seqeval-1.2.2 tabulate-0.9.0 tensorflow-addons-0.18.0 tensorflow-datasets-4.7.0 tensorflow-hub-0.12.0 tensorflow-io-0.28.0 tensorflow-metadata-1.11.0 tensorflow-model-optimization-0.7.3 tensorflow-text-2.11.0 text-unidecode-1.3 tf-models-official-2.11.0 tf-slim-1.1.0 threadpoolctl-3.1.0 toml-0.10.2 tqdm-4.64.1 typeguard-2.13.3 uritemplate-4.1.1 zstandard-0.19.0\r\n",
      "\u001B[33mWARNING: You are using pip version 21.3.1; however, version 22.3.1 is available.\r\n",
      "You should consider upgrading via the '/home/hassen/pycharm-download/project/bin/python -m pip install --upgrade pip' command.\u001B[0m\r\n"
     ]
    }
   ],
   "source": [
    " import getpass\n",
    "# Install Tensorflow Object Detection\n",
    "if os.name=='posix': # if the operating system is linux\n",
    "    password =getpass.getpass() # get the password\n",
    "    command = \"sudo -S apt-get install protobuf-compiler python-lxml python-pil\"\n",
    "    os.system('echo %s| %s' % (password, command)) # install protobuf compiler\n",
    "    !cd models/models/research && protoc object_detection/protos/*.proto --python_out=. && cp object_detection/packages/tf2/setup.py . && python -m pip install .  # install the object detection api"
   ],
   "metadata": {
    "collapsed": false,
    "pycharm": {
     "name": "#%%\n"
    }
   }
  },
  {
   "cell_type": "code",
   "execution_count": 14,
   "outputs": [
    {
     "name": "stdout",
     "output_type": "stream",
     "text": [
      "2022-12-01 21:31:03.202378: I tensorflow/core/platform/cpu_feature_guard.cc:193] This TensorFlow binary is optimized with oneAPI Deep Neural Network Library (oneDNN) to use the following CPU instructions in performance-critical operations:  AVX2 FMA\r\n",
      "To enable them in other operations, rebuild TensorFlow with the appropriate compiler flags.\r\n",
      "2022-12-01 21:31:03.389716: W tensorflow/compiler/xla/stream_executor/platform/default/dso_loader.cc:64] Could not load dynamic library 'libcudart.so.11.0'; dlerror: libcudart.so.11.0: cannot open shared object file: No such file or directory; LD_LIBRARY_PATH: :/usr/local/lib\r\n",
      "2022-12-01 21:31:03.389749: I tensorflow/compiler/xla/stream_executor/cuda/cudart_stub.cc:29] Ignore above cudart dlerror if you do not have a GPU set up on your machine.\r\n",
      "2022-12-01 21:31:04.911952: W tensorflow/compiler/xla/stream_executor/platform/default/dso_loader.cc:64] Could not load dynamic library 'libnvinfer.so.7'; dlerror: libnvinfer.so.7: cannot open shared object file: No such file or directory; LD_LIBRARY_PATH: :/usr/local/lib\r\n",
      "2022-12-01 21:31:04.912072: W tensorflow/compiler/xla/stream_executor/platform/default/dso_loader.cc:64] Could not load dynamic library 'libnvinfer_plugin.so.7'; dlerror: libnvinfer_plugin.so.7: cannot open shared object file: No such file or directory; LD_LIBRARY_PATH: :/usr/local/lib\r\n",
      "2022-12-01 21:31:04.912087: W tensorflow/compiler/tf2tensorrt/utils/py_utils.cc:38] TF-TRT Warning: Cannot dlopen some TensorRT libraries. If you would like to use Nvidia GPU with TensorRT, please make sure the missing libraries mentioned above are installed properly.\r\n",
      "/home/hassen/pycharm-download/project/lib/python3.8/site-packages/tensorflow_addons/utils/ensure_tf_install.py:53: UserWarning: Tensorflow Addons supports using Python ops for all Tensorflow versions above or equal to 2.8.0 and strictly below 2.11.0 (nightly versions are not supported). \r\n",
      " The versions of TensorFlow you are currently using is 2.11.0 and is not supported. \r\n",
      "Some things might work, some things might not.\r\n",
      "If you were to encounter a bug, do not file an issue.\r\n",
      "If you want to make sure you're using a tested and supported configuration, either change the TensorFlow version or the TensorFlow Addons's version. \r\n",
      "You can find the compatibility matrix in TensorFlow Addon's readme:\r\n",
      "https://github.com/tensorflow/addons\r\n",
      "  warnings.warn(\r\n",
      "2022-12-01 21:31:09.706055: E tensorflow/compiler/xla/stream_executor/cuda/cuda_driver.cc:267] failed call to cuInit: CUDA_ERROR_NO_DEVICE: no CUDA-capable device is detected\r\n",
      "2022-12-01 21:31:09.706101: I tensorflow/compiler/xla/stream_executor/cuda/cuda_diagnostics.cc:156] kernel driver does not appear to be running on this host (hassen-OMEN-by-HP-Laptop): /proc/driver/nvidia/version does not exist\r\n",
      "Running tests under Python 3.8.10: /home/hassen/pycharm-download/project/bin/python\r\n",
      "[ RUN      ] ModelBuilderTF2Test.test_create_center_net_deepmac\r\n",
      "2022-12-01 21:31:09.790303: I tensorflow/core/platform/cpu_feature_guard.cc:193] This TensorFlow binary is optimized with oneAPI Deep Neural Network Library (oneDNN) to use the following CPU instructions in performance-critical operations:  AVX2 FMA\r\n",
      "To enable them in other operations, rebuild TensorFlow with the appropriate compiler flags.\r\n",
      "/home/hassen/pycharm-download/project/lib/python3.8/site-packages/object_detection/builders/model_builder.py:1112: DeprecationWarning: The 'warn' function is deprecated, use 'warning' instead\r\n",
      "  logging.warn(('Building experimental DeepMAC meta-arch.'\r\n",
      "W1201 21:31:10.910868 140585394001728 model_builder.py:1112] Building experimental DeepMAC meta-arch. Some features may be omitted.\r\n",
      "INFO:tensorflow:time(__main__.ModelBuilderTF2Test.test_create_center_net_deepmac): 1.73s\r\n",
      "I1201 21:31:11.439748 140585394001728 test_util.py:2457] time(__main__.ModelBuilderTF2Test.test_create_center_net_deepmac): 1.73s\r\n",
      "[       OK ] ModelBuilderTF2Test.test_create_center_net_deepmac\r\n",
      "[ RUN      ] ModelBuilderTF2Test.test_create_center_net_model0 (customize_head_params=True)\r\n",
      "INFO:tensorflow:time(__main__.ModelBuilderTF2Test.test_create_center_net_model0 (customize_head_params=True)): 1.11s\r\n",
      "I1201 21:31:12.625862 140585394001728 test_util.py:2457] time(__main__.ModelBuilderTF2Test.test_create_center_net_model0 (customize_head_params=True)): 1.11s\r\n",
      "[       OK ] ModelBuilderTF2Test.test_create_center_net_model0 (customize_head_params=True)\r\n",
      "[ RUN      ] ModelBuilderTF2Test.test_create_center_net_model1 (customize_head_params=False)\r\n",
      "INFO:tensorflow:time(__main__.ModelBuilderTF2Test.test_create_center_net_model1 (customize_head_params=False)): 0.48s\r\n",
      "I1201 21:31:13.102459 140585394001728 test_util.py:2457] time(__main__.ModelBuilderTF2Test.test_create_center_net_model1 (customize_head_params=False)): 0.48s\r\n",
      "[       OK ] ModelBuilderTF2Test.test_create_center_net_model1 (customize_head_params=False)\r\n",
      "[ RUN      ] ModelBuilderTF2Test.test_create_center_net_model_from_keypoints\r\n",
      "INFO:tensorflow:time(__main__.ModelBuilderTF2Test.test_create_center_net_model_from_keypoints): 0.41s\r\n",
      "I1201 21:31:13.508332 140585394001728 test_util.py:2457] time(__main__.ModelBuilderTF2Test.test_create_center_net_model_from_keypoints): 0.41s\r\n",
      "[       OK ] ModelBuilderTF2Test.test_create_center_net_model_from_keypoints\r\n",
      "[ RUN      ] ModelBuilderTF2Test.test_create_center_net_model_mobilenet\r\n",
      "INFO:tensorflow:time(__main__.ModelBuilderTF2Test.test_create_center_net_model_mobilenet): 4.08s\r\n",
      "I1201 21:31:17.588233 140585394001728 test_util.py:2457] time(__main__.ModelBuilderTF2Test.test_create_center_net_model_mobilenet): 4.08s\r\n",
      "[       OK ] ModelBuilderTF2Test.test_create_center_net_model_mobilenet\r\n",
      "[ RUN      ] ModelBuilderTF2Test.test_create_experimental_model\r\n",
      "INFO:tensorflow:time(__main__.ModelBuilderTF2Test.test_create_experimental_model): 0.0s\r\n",
      "I1201 21:31:17.598329 140585394001728 test_util.py:2457] time(__main__.ModelBuilderTF2Test.test_create_experimental_model): 0.0s\r\n",
      "[       OK ] ModelBuilderTF2Test.test_create_experimental_model\r\n",
      "[ RUN      ] ModelBuilderTF2Test.test_create_faster_rcnn_from_config_with_crop_feature0 (True)\r\n",
      "INFO:tensorflow:time(__main__.ModelBuilderTF2Test.test_create_faster_rcnn_from_config_with_crop_feature0 (True)): 0.04s\r\n",
      "I1201 21:31:17.635065 140585394001728 test_util.py:2457] time(__main__.ModelBuilderTF2Test.test_create_faster_rcnn_from_config_with_crop_feature0 (True)): 0.04s\r\n",
      "[       OK ] ModelBuilderTF2Test.test_create_faster_rcnn_from_config_with_crop_feature0 (True)\r\n",
      "[ RUN      ] ModelBuilderTF2Test.test_create_faster_rcnn_from_config_with_crop_feature1 (False)\r\n",
      "INFO:tensorflow:time(__main__.ModelBuilderTF2Test.test_create_faster_rcnn_from_config_with_crop_feature1 (False)): 0.02s\r\n",
      "I1201 21:31:17.651432 140585394001728 test_util.py:2457] time(__main__.ModelBuilderTF2Test.test_create_faster_rcnn_from_config_with_crop_feature1 (False)): 0.02s\r\n",
      "[       OK ] ModelBuilderTF2Test.test_create_faster_rcnn_from_config_with_crop_feature1 (False)\r\n",
      "[ RUN      ] ModelBuilderTF2Test.test_create_faster_rcnn_model_from_config_with_example_miner\r\n",
      "INFO:tensorflow:time(__main__.ModelBuilderTF2Test.test_create_faster_rcnn_model_from_config_with_example_miner): 0.02s\r\n",
      "I1201 21:31:17.669852 140585394001728 test_util.py:2457] time(__main__.ModelBuilderTF2Test.test_create_faster_rcnn_model_from_config_with_example_miner): 0.02s\r\n",
      "[       OK ] ModelBuilderTF2Test.test_create_faster_rcnn_model_from_config_with_example_miner\r\n",
      "[ RUN      ] ModelBuilderTF2Test.test_create_faster_rcnn_models_from_config_faster_rcnn_with_matmul\r\n",
      "INFO:tensorflow:time(__main__.ModelBuilderTF2Test.test_create_faster_rcnn_models_from_config_faster_rcnn_with_matmul): 0.13s\r\n",
      "I1201 21:31:17.798530 140585394001728 test_util.py:2457] time(__main__.ModelBuilderTF2Test.test_create_faster_rcnn_models_from_config_faster_rcnn_with_matmul): 0.13s\r\n",
      "[       OK ] ModelBuilderTF2Test.test_create_faster_rcnn_models_from_config_faster_rcnn_with_matmul\r\n",
      "[ RUN      ] ModelBuilderTF2Test.test_create_faster_rcnn_models_from_config_faster_rcnn_without_matmul\r\n",
      "INFO:tensorflow:time(__main__.ModelBuilderTF2Test.test_create_faster_rcnn_models_from_config_faster_rcnn_without_matmul): 0.24s\r\n",
      "I1201 21:31:18.035263 140585394001728 test_util.py:2457] time(__main__.ModelBuilderTF2Test.test_create_faster_rcnn_models_from_config_faster_rcnn_without_matmul): 0.24s\r\n",
      "[       OK ] ModelBuilderTF2Test.test_create_faster_rcnn_models_from_config_faster_rcnn_without_matmul\r\n",
      "[ RUN      ] ModelBuilderTF2Test.test_create_faster_rcnn_models_from_config_mask_rcnn_with_matmul\r\n",
      "INFO:tensorflow:time(__main__.ModelBuilderTF2Test.test_create_faster_rcnn_models_from_config_mask_rcnn_with_matmul): 0.1s\r\n",
      "I1201 21:31:18.136189 140585394001728 test_util.py:2457] time(__main__.ModelBuilderTF2Test.test_create_faster_rcnn_models_from_config_mask_rcnn_with_matmul): 0.1s\r\n",
      "[       OK ] ModelBuilderTF2Test.test_create_faster_rcnn_models_from_config_mask_rcnn_with_matmul\r\n",
      "[ RUN      ] ModelBuilderTF2Test.test_create_faster_rcnn_models_from_config_mask_rcnn_without_matmul\r\n",
      "INFO:tensorflow:time(__main__.ModelBuilderTF2Test.test_create_faster_rcnn_models_from_config_mask_rcnn_without_matmul): 0.11s\r\n",
      "I1201 21:31:18.242663 140585394001728 test_util.py:2457] time(__main__.ModelBuilderTF2Test.test_create_faster_rcnn_models_from_config_mask_rcnn_without_matmul): 0.11s\r\n",
      "[       OK ] ModelBuilderTF2Test.test_create_faster_rcnn_models_from_config_mask_rcnn_without_matmul\r\n",
      "[ RUN      ] ModelBuilderTF2Test.test_create_rfcn_model_from_config\r\n",
      "INFO:tensorflow:time(__main__.ModelBuilderTF2Test.test_create_rfcn_model_from_config): 0.11s\r\n",
      "I1201 21:31:18.353462 140585394001728 test_util.py:2457] time(__main__.ModelBuilderTF2Test.test_create_rfcn_model_from_config): 0.11s\r\n",
      "[       OK ] ModelBuilderTF2Test.test_create_rfcn_model_from_config\r\n",
      "[ RUN      ] ModelBuilderTF2Test.test_create_ssd_fpn_model_from_config\r\n",
      "INFO:tensorflow:time(__main__.ModelBuilderTF2Test.test_create_ssd_fpn_model_from_config): 0.03s\r\n",
      "I1201 21:31:18.381212 140585394001728 test_util.py:2457] time(__main__.ModelBuilderTF2Test.test_create_ssd_fpn_model_from_config): 0.03s\r\n",
      "[       OK ] ModelBuilderTF2Test.test_create_ssd_fpn_model_from_config\r\n",
      "[ RUN      ] ModelBuilderTF2Test.test_create_ssd_models_from_config\r\n",
      "I1201 21:31:18.577493 140585394001728 ssd_efficientnet_bifpn_feature_extractor.py:150] EfficientDet EfficientNet backbone version: efficientnet-b0\r\n",
      "I1201 21:31:18.577645 140585394001728 ssd_efficientnet_bifpn_feature_extractor.py:152] EfficientDet BiFPN num filters: 64\r\n",
      "I1201 21:31:18.577714 140585394001728 ssd_efficientnet_bifpn_feature_extractor.py:153] EfficientDet BiFPN num iterations: 3\r\n",
      "I1201 21:31:18.580036 140585394001728 efficientnet_model.py:143] round_filter input=32 output=32\r\n",
      "I1201 21:31:18.609122 140585394001728 efficientnet_model.py:143] round_filter input=32 output=32\r\n",
      "I1201 21:31:18.609268 140585394001728 efficientnet_model.py:143] round_filter input=16 output=16\r\n",
      "I1201 21:31:18.689711 140585394001728 efficientnet_model.py:143] round_filter input=16 output=16\r\n",
      "I1201 21:31:18.689984 140585394001728 efficientnet_model.py:143] round_filter input=24 output=24\r\n",
      "I1201 21:31:18.904443 140585394001728 efficientnet_model.py:143] round_filter input=24 output=24\r\n",
      "I1201 21:31:18.904563 140585394001728 efficientnet_model.py:143] round_filter input=40 output=40\r\n",
      "I1201 21:31:19.078505 140585394001728 efficientnet_model.py:143] round_filter input=40 output=40\r\n",
      "I1201 21:31:19.078626 140585394001728 efficientnet_model.py:143] round_filter input=80 output=80\r\n",
      "I1201 21:31:19.348636 140585394001728 efficientnet_model.py:143] round_filter input=80 output=80\r\n",
      "I1201 21:31:19.348778 140585394001728 efficientnet_model.py:143] round_filter input=112 output=112\r\n",
      "I1201 21:31:19.628133 140585394001728 efficientnet_model.py:143] round_filter input=112 output=112\r\n",
      "I1201 21:31:19.628315 140585394001728 efficientnet_model.py:143] round_filter input=192 output=192\r\n",
      "I1201 21:31:20.008945 140585394001728 efficientnet_model.py:143] round_filter input=192 output=192\r\n",
      "I1201 21:31:20.009114 140585394001728 efficientnet_model.py:143] round_filter input=320 output=320\r\n",
      "I1201 21:31:20.142470 140585394001728 efficientnet_model.py:143] round_filter input=1280 output=1280\r\n",
      "I1201 21:31:20.248963 140585394001728 efficientnet_model.py:453] Building model efficientnet with params ModelConfig(width_coefficient=1.0, depth_coefficient=1.0, resolution=224, dropout_rate=0.2, blocks=(BlockConfig(input_filters=32, output_filters=16, kernel_size=3, num_repeat=1, expand_ratio=1, strides=(1, 1), se_ratio=0.25, id_skip=True, fused_conv=False, conv_type='depthwise'), BlockConfig(input_filters=16, output_filters=24, kernel_size=3, num_repeat=2, expand_ratio=6, strides=(2, 2), se_ratio=0.25, id_skip=True, fused_conv=False, conv_type='depthwise'), BlockConfig(input_filters=24, output_filters=40, kernel_size=5, num_repeat=2, expand_ratio=6, strides=(2, 2), se_ratio=0.25, id_skip=True, fused_conv=False, conv_type='depthwise'), BlockConfig(input_filters=40, output_filters=80, kernel_size=3, num_repeat=3, expand_ratio=6, strides=(2, 2), se_ratio=0.25, id_skip=True, fused_conv=False, conv_type='depthwise'), BlockConfig(input_filters=80, output_filters=112, kernel_size=5, num_repeat=3, expand_ratio=6, strides=(1, 1), se_ratio=0.25, id_skip=True, fused_conv=False, conv_type='depthwise'), BlockConfig(input_filters=112, output_filters=192, kernel_size=5, num_repeat=4, expand_ratio=6, strides=(2, 2), se_ratio=0.25, id_skip=True, fused_conv=False, conv_type='depthwise'), BlockConfig(input_filters=192, output_filters=320, kernel_size=3, num_repeat=1, expand_ratio=6, strides=(1, 1), se_ratio=0.25, id_skip=True, fused_conv=False, conv_type='depthwise')), stem_base_filters=32, top_base_filters=1280, activation='simple_swish', batch_norm='default', bn_momentum=0.99, bn_epsilon=0.001, weight_decay=5e-06, drop_connect_rate=0.2, depth_divisor=8, min_depth=None, use_se=True, input_channels=3, num_classes=1000, model_name='efficientnet', rescale_input=False, data_format='channels_last', dtype='float32')\r\n",
      "I1201 21:31:20.306924 140585394001728 ssd_efficientnet_bifpn_feature_extractor.py:150] EfficientDet EfficientNet backbone version: efficientnet-b1\r\n",
      "I1201 21:31:20.307168 140585394001728 ssd_efficientnet_bifpn_feature_extractor.py:152] EfficientDet BiFPN num filters: 88\r\n",
      "I1201 21:31:20.307258 140585394001728 ssd_efficientnet_bifpn_feature_extractor.py:153] EfficientDet BiFPN num iterations: 4\r\n",
      "I1201 21:31:20.308876 140585394001728 efficientnet_model.py:143] round_filter input=32 output=32\r\n",
      "I1201 21:31:20.326345 140585394001728 efficientnet_model.py:143] round_filter input=32 output=32\r\n",
      "I1201 21:31:20.326527 140585394001728 efficientnet_model.py:143] round_filter input=16 output=16\r\n",
      "I1201 21:31:20.481956 140585394001728 efficientnet_model.py:143] round_filter input=16 output=16\r\n",
      "I1201 21:31:20.482090 140585394001728 efficientnet_model.py:143] round_filter input=24 output=24\r\n",
      "I1201 21:31:20.753255 140585394001728 efficientnet_model.py:143] round_filter input=24 output=24\r\n",
      "I1201 21:31:20.753378 140585394001728 efficientnet_model.py:143] round_filter input=40 output=40\r\n",
      "I1201 21:31:21.106793 140585394001728 efficientnet_model.py:143] round_filter input=40 output=40\r\n",
      "I1201 21:31:21.106980 140585394001728 efficientnet_model.py:143] round_filter input=80 output=80\r\n",
      "I1201 21:31:21.546703 140585394001728 efficientnet_model.py:143] round_filter input=80 output=80\r\n",
      "I1201 21:31:21.546898 140585394001728 efficientnet_model.py:143] round_filter input=112 output=112\r\n",
      "I1201 21:31:22.027205 140585394001728 efficientnet_model.py:143] round_filter input=112 output=112\r\n",
      "I1201 21:31:22.027381 140585394001728 efficientnet_model.py:143] round_filter input=192 output=192\r\n",
      "I1201 21:31:22.709334 140585394001728 efficientnet_model.py:143] round_filter input=192 output=192\r\n",
      "I1201 21:31:22.709568 140585394001728 efficientnet_model.py:143] round_filter input=320 output=320\r\n",
      "I1201 21:31:23.112404 140585394001728 efficientnet_model.py:143] round_filter input=1280 output=1280\r\n",
      "I1201 21:31:23.198359 140585394001728 efficientnet_model.py:453] Building model efficientnet with params ModelConfig(width_coefficient=1.0, depth_coefficient=1.1, resolution=240, dropout_rate=0.2, blocks=(BlockConfig(input_filters=32, output_filters=16, kernel_size=3, num_repeat=1, expand_ratio=1, strides=(1, 1), se_ratio=0.25, id_skip=True, fused_conv=False, conv_type='depthwise'), BlockConfig(input_filters=16, output_filters=24, kernel_size=3, num_repeat=2, expand_ratio=6, strides=(2, 2), se_ratio=0.25, id_skip=True, fused_conv=False, conv_type='depthwise'), BlockConfig(input_filters=24, output_filters=40, kernel_size=5, num_repeat=2, expand_ratio=6, strides=(2, 2), se_ratio=0.25, id_skip=True, fused_conv=False, conv_type='depthwise'), BlockConfig(input_filters=40, output_filters=80, kernel_size=3, num_repeat=3, expand_ratio=6, strides=(2, 2), se_ratio=0.25, id_skip=True, fused_conv=False, conv_type='depthwise'), BlockConfig(input_filters=80, output_filters=112, kernel_size=5, num_repeat=3, expand_ratio=6, strides=(1, 1), se_ratio=0.25, id_skip=True, fused_conv=False, conv_type='depthwise'), BlockConfig(input_filters=112, output_filters=192, kernel_size=5, num_repeat=4, expand_ratio=6, strides=(2, 2), se_ratio=0.25, id_skip=True, fused_conv=False, conv_type='depthwise'), BlockConfig(input_filters=192, output_filters=320, kernel_size=3, num_repeat=1, expand_ratio=6, strides=(1, 1), se_ratio=0.25, id_skip=True, fused_conv=False, conv_type='depthwise')), stem_base_filters=32, top_base_filters=1280, activation='simple_swish', batch_norm='default', bn_momentum=0.99, bn_epsilon=0.001, weight_decay=5e-06, drop_connect_rate=0.2, depth_divisor=8, min_depth=None, use_se=True, input_channels=3, num_classes=1000, model_name='efficientnet', rescale_input=False, data_format='channels_last', dtype='float32')\r\n",
      "I1201 21:31:23.309176 140585394001728 ssd_efficientnet_bifpn_feature_extractor.py:150] EfficientDet EfficientNet backbone version: efficientnet-b2\r\n",
      "I1201 21:31:23.309342 140585394001728 ssd_efficientnet_bifpn_feature_extractor.py:152] EfficientDet BiFPN num filters: 112\r\n",
      "I1201 21:31:23.309439 140585394001728 ssd_efficientnet_bifpn_feature_extractor.py:153] EfficientDet BiFPN num iterations: 5\r\n",
      "I1201 21:31:23.312777 140585394001728 efficientnet_model.py:143] round_filter input=32 output=32\r\n",
      "I1201 21:31:23.346426 140585394001728 efficientnet_model.py:143] round_filter input=32 output=32\r\n",
      "I1201 21:31:23.346597 140585394001728 efficientnet_model.py:143] round_filter input=16 output=16\r\n",
      "I1201 21:31:23.568753 140585394001728 efficientnet_model.py:143] round_filter input=16 output=16\r\n",
      "I1201 21:31:23.568889 140585394001728 efficientnet_model.py:143] round_filter input=24 output=24\r\n",
      "I1201 21:31:24.009386 140585394001728 efficientnet_model.py:143] round_filter input=24 output=24\r\n",
      "I1201 21:31:24.009556 140585394001728 efficientnet_model.py:143] round_filter input=40 output=48\r\n",
      "I1201 21:31:24.338687 140585394001728 efficientnet_model.py:143] round_filter input=40 output=48\r\n",
      "I1201 21:31:24.338794 140585394001728 efficientnet_model.py:143] round_filter input=80 output=88\r\n",
      "I1201 21:31:24.840457 140585394001728 efficientnet_model.py:143] round_filter input=80 output=88\r\n",
      "I1201 21:31:24.840685 140585394001728 efficientnet_model.py:143] round_filter input=112 output=120\r\n",
      "I1201 21:31:25.378068 140585394001728 efficientnet_model.py:143] round_filter input=112 output=120\r\n",
      "I1201 21:31:25.378251 140585394001728 efficientnet_model.py:143] round_filter input=192 output=208\r\n",
      "I1201 21:31:26.196206 140585394001728 efficientnet_model.py:143] round_filter input=192 output=208\r\n",
      "I1201 21:31:26.196410 140585394001728 efficientnet_model.py:143] round_filter input=320 output=352\r\n",
      "I1201 21:31:26.638073 140585394001728 efficientnet_model.py:143] round_filter input=1280 output=1408\r\n",
      "I1201 21:31:26.724076 140585394001728 efficientnet_model.py:453] Building model efficientnet with params ModelConfig(width_coefficient=1.1, depth_coefficient=1.2, resolution=260, dropout_rate=0.3, blocks=(BlockConfig(input_filters=32, output_filters=16, kernel_size=3, num_repeat=1, expand_ratio=1, strides=(1, 1), se_ratio=0.25, id_skip=True, fused_conv=False, conv_type='depthwise'), BlockConfig(input_filters=16, output_filters=24, kernel_size=3, num_repeat=2, expand_ratio=6, strides=(2, 2), se_ratio=0.25, id_skip=True, fused_conv=False, conv_type='depthwise'), BlockConfig(input_filters=24, output_filters=40, kernel_size=5, num_repeat=2, expand_ratio=6, strides=(2, 2), se_ratio=0.25, id_skip=True, fused_conv=False, conv_type='depthwise'), BlockConfig(input_filters=40, output_filters=80, kernel_size=3, num_repeat=3, expand_ratio=6, strides=(2, 2), se_ratio=0.25, id_skip=True, fused_conv=False, conv_type='depthwise'), BlockConfig(input_filters=80, output_filters=112, kernel_size=5, num_repeat=3, expand_ratio=6, strides=(1, 1), se_ratio=0.25, id_skip=True, fused_conv=False, conv_type='depthwise'), BlockConfig(input_filters=112, output_filters=192, kernel_size=5, num_repeat=4, expand_ratio=6, strides=(2, 2), se_ratio=0.25, id_skip=True, fused_conv=False, conv_type='depthwise'), BlockConfig(input_filters=192, output_filters=320, kernel_size=3, num_repeat=1, expand_ratio=6, strides=(1, 1), se_ratio=0.25, id_skip=True, fused_conv=False, conv_type='depthwise')), stem_base_filters=32, top_base_filters=1280, activation='simple_swish', batch_norm='default', bn_momentum=0.99, bn_epsilon=0.001, weight_decay=5e-06, drop_connect_rate=0.2, depth_divisor=8, min_depth=None, use_se=True, input_channels=3, num_classes=1000, model_name='efficientnet', rescale_input=False, data_format='channels_last', dtype='float32')\r\n",
      "I1201 21:31:26.837217 140585394001728 ssd_efficientnet_bifpn_feature_extractor.py:150] EfficientDet EfficientNet backbone version: efficientnet-b3\r\n",
      "I1201 21:31:26.837430 140585394001728 ssd_efficientnet_bifpn_feature_extractor.py:152] EfficientDet BiFPN num filters: 160\r\n",
      "I1201 21:31:26.837598 140585394001728 ssd_efficientnet_bifpn_feature_extractor.py:153] EfficientDet BiFPN num iterations: 6\r\n",
      "I1201 21:31:26.840825 140585394001728 efficientnet_model.py:143] round_filter input=32 output=40\r\n",
      "I1201 21:31:26.867974 140585394001728 efficientnet_model.py:143] round_filter input=32 output=40\r\n",
      "I1201 21:31:26.868112 140585394001728 efficientnet_model.py:143] round_filter input=16 output=24\r\n",
      "I1201 21:31:27.068861 140585394001728 efficientnet_model.py:143] round_filter input=16 output=24\r\n",
      "I1201 21:31:27.069011 140585394001728 efficientnet_model.py:143] round_filter input=24 output=32\r\n",
      "I1201 21:31:27.356112 140585394001728 efficientnet_model.py:143] round_filter input=24 output=32\r\n",
      "I1201 21:31:27.356312 140585394001728 efficientnet_model.py:143] round_filter input=40 output=48\r\n",
      "I1201 21:31:27.618760 140585394001728 efficientnet_model.py:143] round_filter input=40 output=48\r\n",
      "I1201 21:31:27.618881 140585394001728 efficientnet_model.py:143] round_filter input=80 output=96\r\n",
      "I1201 21:31:28.239114 140585394001728 efficientnet_model.py:143] round_filter input=80 output=96\r\n",
      "I1201 21:31:28.239258 140585394001728 efficientnet_model.py:143] round_filter input=112 output=136\r\n",
      "I1201 21:31:28.814366 140585394001728 efficientnet_model.py:143] round_filter input=112 output=136\r\n",
      "I1201 21:31:28.814480 140585394001728 efficientnet_model.py:143] round_filter input=192 output=232\r\n",
      "I1201 21:31:29.513457 140585394001728 efficientnet_model.py:143] round_filter input=192 output=232\r\n",
      "I1201 21:31:29.513688 140585394001728 efficientnet_model.py:143] round_filter input=320 output=384\r\n",
      "I1201 21:31:29.854340 140585394001728 efficientnet_model.py:143] round_filter input=1280 output=1536\r\n",
      "I1201 21:31:29.910077 140585394001728 efficientnet_model.py:453] Building model efficientnet with params ModelConfig(width_coefficient=1.2, depth_coefficient=1.4, resolution=300, dropout_rate=0.3, blocks=(BlockConfig(input_filters=32, output_filters=16, kernel_size=3, num_repeat=1, expand_ratio=1, strides=(1, 1), se_ratio=0.25, id_skip=True, fused_conv=False, conv_type='depthwise'), BlockConfig(input_filters=16, output_filters=24, kernel_size=3, num_repeat=2, expand_ratio=6, strides=(2, 2), se_ratio=0.25, id_skip=True, fused_conv=False, conv_type='depthwise'), BlockConfig(input_filters=24, output_filters=40, kernel_size=5, num_repeat=2, expand_ratio=6, strides=(2, 2), se_ratio=0.25, id_skip=True, fused_conv=False, conv_type='depthwise'), BlockConfig(input_filters=40, output_filters=80, kernel_size=3, num_repeat=3, expand_ratio=6, strides=(2, 2), se_ratio=0.25, id_skip=True, fused_conv=False, conv_type='depthwise'), BlockConfig(input_filters=80, output_filters=112, kernel_size=5, num_repeat=3, expand_ratio=6, strides=(1, 1), se_ratio=0.25, id_skip=True, fused_conv=False, conv_type='depthwise'), BlockConfig(input_filters=112, output_filters=192, kernel_size=5, num_repeat=4, expand_ratio=6, strides=(2, 2), se_ratio=0.25, id_skip=True, fused_conv=False, conv_type='depthwise'), BlockConfig(input_filters=192, output_filters=320, kernel_size=3, num_repeat=1, expand_ratio=6, strides=(1, 1), se_ratio=0.25, id_skip=True, fused_conv=False, conv_type='depthwise')), stem_base_filters=32, top_base_filters=1280, activation='simple_swish', batch_norm='default', bn_momentum=0.99, bn_epsilon=0.001, weight_decay=5e-06, drop_connect_rate=0.2, depth_divisor=8, min_depth=None, use_se=True, input_channels=3, num_classes=1000, model_name='efficientnet', rescale_input=False, data_format='channels_last', dtype='float32')\r\n",
      "I1201 21:31:29.982327 140585394001728 ssd_efficientnet_bifpn_feature_extractor.py:150] EfficientDet EfficientNet backbone version: efficientnet-b4\r\n",
      "I1201 21:31:29.982443 140585394001728 ssd_efficientnet_bifpn_feature_extractor.py:152] EfficientDet BiFPN num filters: 224\r\n",
      "I1201 21:31:29.982499 140585394001728 ssd_efficientnet_bifpn_feature_extractor.py:153] EfficientDet BiFPN num iterations: 7\r\n",
      "I1201 21:31:29.985057 140585394001728 efficientnet_model.py:143] round_filter input=32 output=48\r\n",
      "I1201 21:31:30.006754 140585394001728 efficientnet_model.py:143] round_filter input=32 output=48\r\n",
      "I1201 21:31:30.006865 140585394001728 efficientnet_model.py:143] round_filter input=16 output=24\r\n",
      "I1201 21:31:30.174192 140585394001728 efficientnet_model.py:143] round_filter input=16 output=24\r\n",
      "I1201 21:31:30.174324 140585394001728 efficientnet_model.py:143] round_filter input=24 output=32\r\n",
      "I1201 21:31:30.726523 140585394001728 efficientnet_model.py:143] round_filter input=24 output=32\r\n",
      "I1201 21:31:30.726676 140585394001728 efficientnet_model.py:143] round_filter input=40 output=56\r\n",
      "I1201 21:31:31.215836 140585394001728 efficientnet_model.py:143] round_filter input=40 output=56\r\n",
      "I1201 21:31:31.216046 140585394001728 efficientnet_model.py:143] round_filter input=80 output=112\r\n",
      "I1201 21:31:32.332809 140585394001728 efficientnet_model.py:143] round_filter input=80 output=112\r\n",
      "I1201 21:31:32.333029 140585394001728 efficientnet_model.py:143] round_filter input=112 output=160\r\n",
      "I1201 21:31:33.595450 140585394001728 efficientnet_model.py:143] round_filter input=112 output=160\r\n",
      "I1201 21:31:33.595564 140585394001728 efficientnet_model.py:143] round_filter input=192 output=272\r\n",
      "I1201 21:31:34.735884 140585394001728 efficientnet_model.py:143] round_filter input=192 output=272\r\n",
      "I1201 21:31:34.736005 140585394001728 efficientnet_model.py:143] round_filter input=320 output=448\r\n",
      "I1201 21:31:35.050640 140585394001728 efficientnet_model.py:143] round_filter input=1280 output=1792\r\n",
      "I1201 21:31:35.109623 140585394001728 efficientnet_model.py:453] Building model efficientnet with params ModelConfig(width_coefficient=1.4, depth_coefficient=1.8, resolution=380, dropout_rate=0.4, blocks=(BlockConfig(input_filters=32, output_filters=16, kernel_size=3, num_repeat=1, expand_ratio=1, strides=(1, 1), se_ratio=0.25, id_skip=True, fused_conv=False, conv_type='depthwise'), BlockConfig(input_filters=16, output_filters=24, kernel_size=3, num_repeat=2, expand_ratio=6, strides=(2, 2), se_ratio=0.25, id_skip=True, fused_conv=False, conv_type='depthwise'), BlockConfig(input_filters=24, output_filters=40, kernel_size=5, num_repeat=2, expand_ratio=6, strides=(2, 2), se_ratio=0.25, id_skip=True, fused_conv=False, conv_type='depthwise'), BlockConfig(input_filters=40, output_filters=80, kernel_size=3, num_repeat=3, expand_ratio=6, strides=(2, 2), se_ratio=0.25, id_skip=True, fused_conv=False, conv_type='depthwise'), BlockConfig(input_filters=80, output_filters=112, kernel_size=5, num_repeat=3, expand_ratio=6, strides=(1, 1), se_ratio=0.25, id_skip=True, fused_conv=False, conv_type='depthwise'), BlockConfig(input_filters=112, output_filters=192, kernel_size=5, num_repeat=4, expand_ratio=6, strides=(2, 2), se_ratio=0.25, id_skip=True, fused_conv=False, conv_type='depthwise'), BlockConfig(input_filters=192, output_filters=320, kernel_size=3, num_repeat=1, expand_ratio=6, strides=(1, 1), se_ratio=0.25, id_skip=True, fused_conv=False, conv_type='depthwise')), stem_base_filters=32, top_base_filters=1280, activation='simple_swish', batch_norm='default', bn_momentum=0.99, bn_epsilon=0.001, weight_decay=5e-06, drop_connect_rate=0.2, depth_divisor=8, min_depth=None, use_se=True, input_channels=3, num_classes=1000, model_name='efficientnet', rescale_input=False, data_format='channels_last', dtype='float32')\r\n",
      "I1201 21:31:35.202369 140585394001728 ssd_efficientnet_bifpn_feature_extractor.py:150] EfficientDet EfficientNet backbone version: efficientnet-b5\r\n",
      "I1201 21:31:35.202492 140585394001728 ssd_efficientnet_bifpn_feature_extractor.py:152] EfficientDet BiFPN num filters: 288\r\n",
      "I1201 21:31:35.202550 140585394001728 ssd_efficientnet_bifpn_feature_extractor.py:153] EfficientDet BiFPN num iterations: 7\r\n",
      "I1201 21:31:35.204231 140585394001728 efficientnet_model.py:143] round_filter input=32 output=48\r\n",
      "I1201 21:31:35.223840 140585394001728 efficientnet_model.py:143] round_filter input=32 output=48\r\n",
      "I1201 21:31:35.223983 140585394001728 efficientnet_model.py:143] round_filter input=16 output=24\r\n",
      "I1201 21:31:35.626376 140585394001728 efficientnet_model.py:143] round_filter input=16 output=24\r\n",
      "I1201 21:31:35.626509 140585394001728 efficientnet_model.py:143] round_filter input=24 output=40\r\n",
      "I1201 21:31:36.358328 140585394001728 efficientnet_model.py:143] round_filter input=24 output=40\r\n",
      "I1201 21:31:36.358450 140585394001728 efficientnet_model.py:143] round_filter input=40 output=64\r\n",
      "I1201 21:31:37.029196 140585394001728 efficientnet_model.py:143] round_filter input=40 output=64\r\n",
      "I1201 21:31:37.029315 140585394001728 efficientnet_model.py:143] round_filter input=80 output=128\r\n",
      "I1201 21:31:37.987997 140585394001728 efficientnet_model.py:143] round_filter input=80 output=128\r\n",
      "I1201 21:31:37.988141 140585394001728 efficientnet_model.py:143] round_filter input=112 output=176\r\n",
      "I1201 21:31:38.983201 140585394001728 efficientnet_model.py:143] round_filter input=112 output=176\r\n",
      "I1201 21:31:38.983321 140585394001728 efficientnet_model.py:143] round_filter input=192 output=304\r\n",
      "I1201 21:31:40.110335 140585394001728 efficientnet_model.py:143] round_filter input=192 output=304\r\n",
      "I1201 21:31:40.110470 140585394001728 efficientnet_model.py:143] round_filter input=320 output=512\r\n",
      "I1201 21:31:40.605652 140585394001728 efficientnet_model.py:143] round_filter input=1280 output=2048\r\n",
      "I1201 21:31:40.677742 140585394001728 efficientnet_model.py:453] Building model efficientnet with params ModelConfig(width_coefficient=1.6, depth_coefficient=2.2, resolution=456, dropout_rate=0.4, blocks=(BlockConfig(input_filters=32, output_filters=16, kernel_size=3, num_repeat=1, expand_ratio=1, strides=(1, 1), se_ratio=0.25, id_skip=True, fused_conv=False, conv_type='depthwise'), BlockConfig(input_filters=16, output_filters=24, kernel_size=3, num_repeat=2, expand_ratio=6, strides=(2, 2), se_ratio=0.25, id_skip=True, fused_conv=False, conv_type='depthwise'), BlockConfig(input_filters=24, output_filters=40, kernel_size=5, num_repeat=2, expand_ratio=6, strides=(2, 2), se_ratio=0.25, id_skip=True, fused_conv=False, conv_type='depthwise'), BlockConfig(input_filters=40, output_filters=80, kernel_size=3, num_repeat=3, expand_ratio=6, strides=(2, 2), se_ratio=0.25, id_skip=True, fused_conv=False, conv_type='depthwise'), BlockConfig(input_filters=80, output_filters=112, kernel_size=5, num_repeat=3, expand_ratio=6, strides=(1, 1), se_ratio=0.25, id_skip=True, fused_conv=False, conv_type='depthwise'), BlockConfig(input_filters=112, output_filters=192, kernel_size=5, num_repeat=4, expand_ratio=6, strides=(2, 2), se_ratio=0.25, id_skip=True, fused_conv=False, conv_type='depthwise'), BlockConfig(input_filters=192, output_filters=320, kernel_size=3, num_repeat=1, expand_ratio=6, strides=(1, 1), se_ratio=0.25, id_skip=True, fused_conv=False, conv_type='depthwise')), stem_base_filters=32, top_base_filters=1280, activation='simple_swish', batch_norm='default', bn_momentum=0.99, bn_epsilon=0.001, weight_decay=5e-06, drop_connect_rate=0.2, depth_divisor=8, min_depth=None, use_se=True, input_channels=3, num_classes=1000, model_name='efficientnet', rescale_input=False, data_format='channels_last', dtype='float32')\r\n",
      "I1201 21:31:40.803924 140585394001728 ssd_efficientnet_bifpn_feature_extractor.py:150] EfficientDet EfficientNet backbone version: efficientnet-b6\r\n",
      "I1201 21:31:40.804039 140585394001728 ssd_efficientnet_bifpn_feature_extractor.py:152] EfficientDet BiFPN num filters: 384\r\n",
      "I1201 21:31:40.804094 140585394001728 ssd_efficientnet_bifpn_feature_extractor.py:153] EfficientDet BiFPN num iterations: 8\r\n",
      "I1201 21:31:40.805785 140585394001728 efficientnet_model.py:143] round_filter input=32 output=56\r\n",
      "I1201 21:31:40.828244 140585394001728 efficientnet_model.py:143] round_filter input=32 output=56\r\n",
      "I1201 21:31:40.828368 140585394001728 efficientnet_model.py:143] round_filter input=16 output=32\r\n",
      "I1201 21:31:41.090962 140585394001728 efficientnet_model.py:143] round_filter input=16 output=32\r\n",
      "I1201 21:31:41.091095 140585394001728 efficientnet_model.py:143] round_filter input=24 output=40\r\n",
      "I1201 21:31:41.726520 140585394001728 efficientnet_model.py:143] round_filter input=24 output=40\r\n",
      "I1201 21:31:41.726651 140585394001728 efficientnet_model.py:143] round_filter input=40 output=72\r\n",
      "I1201 21:31:42.359471 140585394001728 efficientnet_model.py:143] round_filter input=40 output=72\r\n",
      "I1201 21:31:42.359605 140585394001728 efficientnet_model.py:143] round_filter input=80 output=144\r\n",
      "I1201 21:31:43.643900 140585394001728 efficientnet_model.py:143] round_filter input=80 output=144\r\n",
      "I1201 21:31:43.644023 140585394001728 efficientnet_model.py:143] round_filter input=112 output=200\r\n",
      "I1201 21:31:44.641829 140585394001728 efficientnet_model.py:143] round_filter input=112 output=200\r\n",
      "I1201 21:31:44.641950 140585394001728 efficientnet_model.py:143] round_filter input=192 output=344\r\n",
      "I1201 21:31:46.089584 140585394001728 efficientnet_model.py:143] round_filter input=192 output=344\r\n",
      "I1201 21:31:46.089753 140585394001728 efficientnet_model.py:143] round_filter input=320 output=576\r\n",
      "I1201 21:31:46.560896 140585394001728 efficientnet_model.py:143] round_filter input=1280 output=2304\r\n",
      "I1201 21:31:46.635874 140585394001728 efficientnet_model.py:453] Building model efficientnet with params ModelConfig(width_coefficient=1.8, depth_coefficient=2.6, resolution=528, dropout_rate=0.5, blocks=(BlockConfig(input_filters=32, output_filters=16, kernel_size=3, num_repeat=1, expand_ratio=1, strides=(1, 1), se_ratio=0.25, id_skip=True, fused_conv=False, conv_type='depthwise'), BlockConfig(input_filters=16, output_filters=24, kernel_size=3, num_repeat=2, expand_ratio=6, strides=(2, 2), se_ratio=0.25, id_skip=True, fused_conv=False, conv_type='depthwise'), BlockConfig(input_filters=24, output_filters=40, kernel_size=5, num_repeat=2, expand_ratio=6, strides=(2, 2), se_ratio=0.25, id_skip=True, fused_conv=False, conv_type='depthwise'), BlockConfig(input_filters=40, output_filters=80, kernel_size=3, num_repeat=3, expand_ratio=6, strides=(2, 2), se_ratio=0.25, id_skip=True, fused_conv=False, conv_type='depthwise'), BlockConfig(input_filters=80, output_filters=112, kernel_size=5, num_repeat=3, expand_ratio=6, strides=(1, 1), se_ratio=0.25, id_skip=True, fused_conv=False, conv_type='depthwise'), BlockConfig(input_filters=112, output_filters=192, kernel_size=5, num_repeat=4, expand_ratio=6, strides=(2, 2), se_ratio=0.25, id_skip=True, fused_conv=False, conv_type='depthwise'), BlockConfig(input_filters=192, output_filters=320, kernel_size=3, num_repeat=1, expand_ratio=6, strides=(1, 1), se_ratio=0.25, id_skip=True, fused_conv=False, conv_type='depthwise')), stem_base_filters=32, top_base_filters=1280, activation='simple_swish', batch_norm='default', bn_momentum=0.99, bn_epsilon=0.001, weight_decay=5e-06, drop_connect_rate=0.2, depth_divisor=8, min_depth=None, use_se=True, input_channels=3, num_classes=1000, model_name='efficientnet', rescale_input=False, data_format='channels_last', dtype='float32')\r\n",
      "I1201 21:31:46.780262 140585394001728 ssd_efficientnet_bifpn_feature_extractor.py:150] EfficientDet EfficientNet backbone version: efficientnet-b7\r\n",
      "I1201 21:31:46.780547 140585394001728 ssd_efficientnet_bifpn_feature_extractor.py:152] EfficientDet BiFPN num filters: 384\r\n",
      "I1201 21:31:46.780669 140585394001728 ssd_efficientnet_bifpn_feature_extractor.py:153] EfficientDet BiFPN num iterations: 8\r\n",
      "I1201 21:31:46.784087 140585394001728 efficientnet_model.py:143] round_filter input=32 output=64\r\n",
      "I1201 21:31:46.819380 140585394001728 efficientnet_model.py:143] round_filter input=32 output=64\r\n",
      "I1201 21:31:46.819551 140585394001728 efficientnet_model.py:143] round_filter input=16 output=32\r\n",
      "I1201 21:31:47.293371 140585394001728 efficientnet_model.py:143] round_filter input=16 output=32\r\n",
      "I1201 21:31:47.293514 140585394001728 efficientnet_model.py:143] round_filter input=24 output=48\r\n",
      "I1201 21:31:48.484867 140585394001728 efficientnet_model.py:143] round_filter input=24 output=48\r\n",
      "I1201 21:31:48.485021 140585394001728 efficientnet_model.py:143] round_filter input=40 output=80\r\n",
      "I1201 21:31:49.491338 140585394001728 efficientnet_model.py:143] round_filter input=40 output=80\r\n",
      "I1201 21:31:49.491563 140585394001728 efficientnet_model.py:143] round_filter input=80 output=160\r\n",
      "I1201 21:31:51.171835 140585394001728 efficientnet_model.py:143] round_filter input=80 output=160\r\n",
      "I1201 21:31:51.171994 140585394001728 efficientnet_model.py:143] round_filter input=112 output=224\r\n",
      "I1201 21:31:52.434233 140585394001728 efficientnet_model.py:143] round_filter input=112 output=224\r\n",
      "I1201 21:31:52.434376 140585394001728 efficientnet_model.py:143] round_filter input=192 output=384\r\n",
      "I1201 21:31:54.232285 140585394001728 efficientnet_model.py:143] round_filter input=192 output=384\r\n",
      "I1201 21:31:54.232461 140585394001728 efficientnet_model.py:143] round_filter input=320 output=640\r\n",
      "I1201 21:31:54.984173 140585394001728 efficientnet_model.py:143] round_filter input=1280 output=2560\r\n",
      "I1201 21:31:55.066762 140585394001728 efficientnet_model.py:453] Building model efficientnet with params ModelConfig(width_coefficient=2.0, depth_coefficient=3.1, resolution=600, dropout_rate=0.5, blocks=(BlockConfig(input_filters=32, output_filters=16, kernel_size=3, num_repeat=1, expand_ratio=1, strides=(1, 1), se_ratio=0.25, id_skip=True, fused_conv=False, conv_type='depthwise'), BlockConfig(input_filters=16, output_filters=24, kernel_size=3, num_repeat=2, expand_ratio=6, strides=(2, 2), se_ratio=0.25, id_skip=True, fused_conv=False, conv_type='depthwise'), BlockConfig(input_filters=24, output_filters=40, kernel_size=5, num_repeat=2, expand_ratio=6, strides=(2, 2), se_ratio=0.25, id_skip=True, fused_conv=False, conv_type='depthwise'), BlockConfig(input_filters=40, output_filters=80, kernel_size=3, num_repeat=3, expand_ratio=6, strides=(2, 2), se_ratio=0.25, id_skip=True, fused_conv=False, conv_type='depthwise'), BlockConfig(input_filters=80, output_filters=112, kernel_size=5, num_repeat=3, expand_ratio=6, strides=(1, 1), se_ratio=0.25, id_skip=True, fused_conv=False, conv_type='depthwise'), BlockConfig(input_filters=112, output_filters=192, kernel_size=5, num_repeat=4, expand_ratio=6, strides=(2, 2), se_ratio=0.25, id_skip=True, fused_conv=False, conv_type='depthwise'), BlockConfig(input_filters=192, output_filters=320, kernel_size=3, num_repeat=1, expand_ratio=6, strides=(1, 1), se_ratio=0.25, id_skip=True, fused_conv=False, conv_type='depthwise')), stem_base_filters=32, top_base_filters=1280, activation='simple_swish', batch_norm='default', bn_momentum=0.99, bn_epsilon=0.001, weight_decay=5e-06, drop_connect_rate=0.2, depth_divisor=8, min_depth=None, use_se=True, input_channels=3, num_classes=1000, model_name='efficientnet', rescale_input=False, data_format='channels_last', dtype='float32')\r\n",
      "INFO:tensorflow:time(__main__.ModelBuilderTF2Test.test_create_ssd_models_from_config): 36.82s\r\n",
      "I1201 21:31:55.202757 140585394001728 test_util.py:2457] time(__main__.ModelBuilderTF2Test.test_create_ssd_models_from_config): 36.82s\r\n",
      "[       OK ] ModelBuilderTF2Test.test_create_ssd_models_from_config\r\n",
      "[ RUN      ] ModelBuilderTF2Test.test_invalid_faster_rcnn_batchnorm_update\r\n",
      "INFO:tensorflow:time(__main__.ModelBuilderTF2Test.test_invalid_faster_rcnn_batchnorm_update): 0.0s\r\n",
      "I1201 21:31:55.233617 140585394001728 test_util.py:2457] time(__main__.ModelBuilderTF2Test.test_invalid_faster_rcnn_batchnorm_update): 0.0s\r\n",
      "[       OK ] ModelBuilderTF2Test.test_invalid_faster_rcnn_batchnorm_update\r\n",
      "[ RUN      ] ModelBuilderTF2Test.test_invalid_first_stage_nms_iou_threshold\r\n",
      "INFO:tensorflow:time(__main__.ModelBuilderTF2Test.test_invalid_first_stage_nms_iou_threshold): 0.0s\r\n",
      "I1201 21:31:55.235238 140585394001728 test_util.py:2457] time(__main__.ModelBuilderTF2Test.test_invalid_first_stage_nms_iou_threshold): 0.0s\r\n",
      "[       OK ] ModelBuilderTF2Test.test_invalid_first_stage_nms_iou_threshold\r\n",
      "[ RUN      ] ModelBuilderTF2Test.test_invalid_model_config_proto\r\n",
      "INFO:tensorflow:time(__main__.ModelBuilderTF2Test.test_invalid_model_config_proto): 0.0s\r\n",
      "I1201 21:31:55.235662 140585394001728 test_util.py:2457] time(__main__.ModelBuilderTF2Test.test_invalid_model_config_proto): 0.0s\r\n",
      "[       OK ] ModelBuilderTF2Test.test_invalid_model_config_proto\r\n",
      "[ RUN      ] ModelBuilderTF2Test.test_invalid_second_stage_batch_size\r\n",
      "INFO:tensorflow:time(__main__.ModelBuilderTF2Test.test_invalid_second_stage_batch_size): 0.0s\r\n",
      "I1201 21:31:55.237918 140585394001728 test_util.py:2457] time(__main__.ModelBuilderTF2Test.test_invalid_second_stage_batch_size): 0.0s\r\n",
      "[       OK ] ModelBuilderTF2Test.test_invalid_second_stage_batch_size\r\n",
      "[ RUN      ] ModelBuilderTF2Test.test_session\r\n",
      "[  SKIPPED ] ModelBuilderTF2Test.test_session\r\n",
      "[ RUN      ] ModelBuilderTF2Test.test_unknown_faster_rcnn_feature_extractor\r\n",
      "INFO:tensorflow:time(__main__.ModelBuilderTF2Test.test_unknown_faster_rcnn_feature_extractor): 0.0s\r\n",
      "I1201 21:31:55.241580 140585394001728 test_util.py:2457] time(__main__.ModelBuilderTF2Test.test_unknown_faster_rcnn_feature_extractor): 0.0s\r\n",
      "[       OK ] ModelBuilderTF2Test.test_unknown_faster_rcnn_feature_extractor\r\n",
      "[ RUN      ] ModelBuilderTF2Test.test_unknown_meta_architecture\r\n",
      "INFO:tensorflow:time(__main__.ModelBuilderTF2Test.test_unknown_meta_architecture): 0.0s\r\n",
      "I1201 21:31:55.242593 140585394001728 test_util.py:2457] time(__main__.ModelBuilderTF2Test.test_unknown_meta_architecture): 0.0s\r\n",
      "[       OK ] ModelBuilderTF2Test.test_unknown_meta_architecture\r\n",
      "[ RUN      ] ModelBuilderTF2Test.test_unknown_ssd_feature_extractor\r\n",
      "INFO:tensorflow:time(__main__.ModelBuilderTF2Test.test_unknown_ssd_feature_extractor): 0.0s\r\n",
      "I1201 21:31:55.244599 140585394001728 test_util.py:2457] time(__main__.ModelBuilderTF2Test.test_unknown_ssd_feature_extractor): 0.0s\r\n",
      "[       OK ] ModelBuilderTF2Test.test_unknown_ssd_feature_extractor\r\n",
      "----------------------------------------------------------------------\r\n",
      "Ran 24 tests in 45.534s\r\n",
      "\r\n",
      "OK (skipped=1)\r\n"
     ]
    }
   ],
   "source": [
    "VERIFICATION_SCRIPT = os.path.join(MODEL_PATH, 'models/research/object_detection/builders/model_builder_tf2_test.py') # Path to verification script\n",
    "# Verify Installation\n",
    "!python {VERIFICATION_SCRIPT}"
   ],
   "metadata": {
    "collapsed": false,
    "pycharm": {
     "name": "#%%\n"
    }
   }
  },
  {
   "cell_type": "code",
   "execution_count": 3,
   "outputs": [],
   "source": [
    "ANNOTATION_PATH = os.path.join(os.getcwd(),'models', 'models' , 'annotations') # Path to annotations\n",
    "XML_PATH = os.path.join(os.getcwd(),'models', 'models' , 'annotations','xmls') # Path to xml\n",
    "images_path = os.path.join(os.getcwd(),'models', 'models' , 'images') # Path to images\n",
    "checkpoint_path = os.path.join(os.getcwd(),'models', 'models' , 'checkpoint') # Path to checkpoint\n",
    "tfrecord_path = os.path.join(os.getcwd(), 'models', 'models' , 'tfrecord') # Path to tfrecord"
   ],
   "metadata": {
    "collapsed": false,
    "pycharm": {
     "name": "#%%\n"
    }
   }
  },
  {
   "cell_type": "code",
   "execution_count": 21,
   "outputs": [],
   "source": [
    "if not os.path.exists(ANNOTATION_PATH): # If annotations folder does not exist\n",
    "    !mkdir {ANNOTATION_PATH} # Create annotations folder\n",
    "if not os.path.exists(XML_PATH): # If xml folder does not exist\n",
    "    !mkdir {XML_PATH} # Create xml folder\n",
    "if not os.path.exists(images_path): # If images folder does not exist\n",
    "    !mkdir {images_path} # Create images folder\n",
    "if not os.path.exists(checkpoint_path): # If checkpoint folder does not exist\n",
    "    !mkdir {checkpoint_path} # Create checkpoint folder\n",
    "if not os.path.exists(tfrecord_path): # If tfrecord folder does not exist\n",
    "    !mkdir {tfrecord_path} # Create tfrecord folder"
   ],
   "metadata": {
    "collapsed": false,
    "pycharm": {
     "name": "#%%\n"
    }
   }
  },
  {
   "cell_type": "code",
   "execution_count": 66,
   "outputs": [],
   "source": [
    "#create .pbtxt file\n",
    "labels = [{'id': 1, 'name': 'damage'}] # List of labels\n",
    "with open(ANNOTATION_PATH + '/label_map.pbtxt', 'w') as f: # Create label map file\n",
    "    for label in labels:\n",
    "        f.write('item { \\n')\n",
    "        f.write('\\t id: ' + str(label['id']) + ' \\n')\n",
    "        f.write('\\t name: \\'' + label['name'] + '\\' \\n')\n",
    "        f.write('} \\n')"
   ],
   "metadata": {
    "collapsed": false,
    "pycharm": {
     "name": "#%%#create .pbtxt file#create .pbtxt file\n"
    }
   }
  },
  {
   "cell_type": "code",
   "execution_count": 42,
   "outputs": [],
   "source": [
    "#trainval.txt (a list of image names without file extension)\n",
    "with open(ANNOTATION_PATH + '/trainval.txt', 'w') as f: # Create trainval.txt file\n",
    "    for filename in os.listdir(images_path):\n",
    "        #remove file extension and keep only the name\n",
    "        f.write(os.path.splitext(filename)[0] + '\\n')"
   ],
   "metadata": {
    "collapsed": false,
    "pycharm": {
     "name": "#%%\n"
    }
   }
  },
  {
   "cell_type": "code",
   "execution_count": 43,
   "outputs": [],
   "source": [
    "#convert xmls to one csv\n",
    "import csv\n",
    "from pathlib import Path\n",
    "from xml.etree import ElementTree as ET\n",
    "\n",
    "directory = Path(XML_PATH) # Path to xml folder\n",
    "\n",
    "with open(ANNOTATION_PATH + '/train_labels.csv', 'w') as f: # Create train_labels.csv file\n",
    "    writer = csv.writer(f) # Create csv writer\n",
    "\n",
    "    header = ['filename', 'width', 'height', 'class', 'xmin', 'ymin', 'xmax', 'ymax'] # Header of csv file\n",
    "    writer.writerow(header) # Write header\n",
    "    xml_files_list = list(map(str, list(directory.glob('*.xml')))) # List of xml files\n",
    "    for xml_file in xml_files_list: # Loop through xml files\n",
    "        tree = ET.parse(xml_file) # Parse xml file\n",
    "        root = tree.getroot() # Get root element\n",
    "        filename = root.find('filename').text # Get filename\n",
    "        width = root.find('size').find('width').text # Get width\n",
    "        height = root.find('size').find('height').text # Get height\n",
    "        for member in root.findall('object'): # Loop through objects\n",
    "            class_name = member.find('name').text # Get class name\n",
    "            xmin = member.find('bndbox').find('xmin').text # Get xmin\n",
    "            ymin = member.find('bndbox').find('ymin').text # Get ymin\n",
    "            xmax = member.find('bndbox').find('xmax').text # Get xmax\n",
    "            ymax = member.find('bndbox').find('ymax').text # Get ymax\n",
    "            row = [filename, width, height, class_name, xmin, ymin, xmax, ymax] # Create row\n",
    "            writer.writerow(row) # Write row\n",
    "\n"
   ],
   "metadata": {
    "collapsed": false,
    "pycharm": {
     "name": "#%%\n"
    }
   }
  },
  {
   "cell_type": "code",
   "execution_count": 44,
   "outputs": [
    {
     "data": {
      "text/plain": "                                         filename  width  height   class  \\\n0  46_jpg.rf.24e3ff902a4ffadeb6b31f945f5604a8.jpg    416     416  damage   \n1  46_jpg.rf.24e3ff902a4ffadeb6b31f945f5604a8.jpg    416     416  damage   \n2  46_jpg.rf.24e3ff902a4ffadeb6b31f945f5604a8.jpg    416     416  damage   \n3  33_jpg.rf.2e829b1f7b990c83ac3a3b233667a2f6.jpg    416     416  damage   \n4  33_jpg.rf.2e829b1f7b990c83ac3a3b233667a2f6.jpg    416     416  damage   \n\n   xmin  ymin  xmax  ymax  \n0   175    59   289   130  \n1   138   177   293   272  \n2    88   153   157   193  \n3   149    52   285   153  \n4   264   206   416   332  ",
      "text/html": "<div>\n<style scoped>\n    .dataframe tbody tr th:only-of-type {\n        vertical-align: middle;\n    }\n\n    .dataframe tbody tr th {\n        vertical-align: top;\n    }\n\n    .dataframe thead th {\n        text-align: right;\n    }\n</style>\n<table border=\"1\" class=\"dataframe\">\n  <thead>\n    <tr style=\"text-align: right;\">\n      <th></th>\n      <th>filename</th>\n      <th>width</th>\n      <th>height</th>\n      <th>class</th>\n      <th>xmin</th>\n      <th>ymin</th>\n      <th>xmax</th>\n      <th>ymax</th>\n    </tr>\n  </thead>\n  <tbody>\n    <tr>\n      <th>0</th>\n      <td>46_jpg.rf.24e3ff902a4ffadeb6b31f945f5604a8.jpg</td>\n      <td>416</td>\n      <td>416</td>\n      <td>damage</td>\n      <td>175</td>\n      <td>59</td>\n      <td>289</td>\n      <td>130</td>\n    </tr>\n    <tr>\n      <th>1</th>\n      <td>46_jpg.rf.24e3ff902a4ffadeb6b31f945f5604a8.jpg</td>\n      <td>416</td>\n      <td>416</td>\n      <td>damage</td>\n      <td>138</td>\n      <td>177</td>\n      <td>293</td>\n      <td>272</td>\n    </tr>\n    <tr>\n      <th>2</th>\n      <td>46_jpg.rf.24e3ff902a4ffadeb6b31f945f5604a8.jpg</td>\n      <td>416</td>\n      <td>416</td>\n      <td>damage</td>\n      <td>88</td>\n      <td>153</td>\n      <td>157</td>\n      <td>193</td>\n    </tr>\n    <tr>\n      <th>3</th>\n      <td>33_jpg.rf.2e829b1f7b990c83ac3a3b233667a2f6.jpg</td>\n      <td>416</td>\n      <td>416</td>\n      <td>damage</td>\n      <td>149</td>\n      <td>52</td>\n      <td>285</td>\n      <td>153</td>\n    </tr>\n    <tr>\n      <th>4</th>\n      <td>33_jpg.rf.2e829b1f7b990c83ac3a3b233667a2f6.jpg</td>\n      <td>416</td>\n      <td>416</td>\n      <td>damage</td>\n      <td>264</td>\n      <td>206</td>\n      <td>416</td>\n      <td>332</td>\n    </tr>\n  </tbody>\n</table>\n</div>"
     },
     "execution_count": 44,
     "metadata": {},
     "output_type": "execute_result"
    }
   ],
   "source": [
    "#print the csv file\n",
    "import pandas as pd\n",
    "df = pd.read_csv(ANNOTATION_PATH + '/train_labels.csv') # Read csv file\n",
    "df.head() # Show first 5 rows"
   ],
   "metadata": {
    "collapsed": false,
    "pycharm": {
     "name": "#%%\n"
    }
   }
  },
  {
   "cell_type": "markdown",
   "source": [
    "# partion the dataset\n",
    "run partition.py"
   ],
   "metadata": {
    "collapsed": false,
    "pycharm": {
     "name": "#%% md\n"
    }
   }
  },
  {
   "cell_type": "code",
   "execution_count": 1,
   "outputs": [
    {
     "name": "stdout",
     "output_type": "stream",
     "text": [
      "partitions.py:43: DeprecationWarning: Flags not at the start of the expression '([a-zA-Z0-9\\\\s_\\\\\\\\.\\\\-\\\\' (truncated)\r\n",
      "  images = [f for f in os.listdir(source) if re.search(r'([a-zA-Z0-9\\s_\\\\.\\-\\(\\):])+(?i)(.jpg|.jpeg|.png)$', f)] # get all images\r\n"
     ]
    }
   ],
   "source": [
    "!cd /home/hassen/project/Scripts && python partitions.py -x -i /home/hassen/project/models/models/images -o /home/hassen/project/models/models/images -r 0.2"
   ],
   "metadata": {
    "collapsed": false,
    "pycharm": {
     "name": "#%%\n"
    }
   }
  },
  {
   "cell_type": "markdown",
   "source": [
    "# Create TFRecord\n",
    "TFRecord is an important data format designed for Tensorflow. Before you can train your custom object detector, you must convert your data into the TFRecord format.\n",
    "\n",
    "Since we need to train as well as validate our model, the data set will be split into training (train.record) and validation sets (val.record). The purpose of training set is straight forward - it is the set of examples the model learns from. The validation set is a set of examples used DURING TRAINING to iteratively assess model accuracy.\n",
    "We’re going to use create_tf_record.py to convert our data set into train.record and val.record. Download here and save it to models/research/object_detection/dataset_tools/."
   ],
   "metadata": {
    "collapsed": false,
    "pycharm": {
     "name": "#%% md\n"
    }
   }
  },
  {
   "cell_type": "code",
   "execution_count": 29,
   "outputs": [],
   "source": [
    "#convert xml to csv from images\\train\n",
    "import xml.etree.ElementTree as ET\n",
    "import csv\n",
    "import os\n",
    "import glob\n",
    "directory = os.path.join(os.getcwd(),'models', 'models' , 'images','train') # Path to train folder\n",
    "\n",
    "with open(ANNOTATION_PATH + '/train_labels.csv', 'w') as f: # Create train_labels.csv file\n",
    "    writer = csv.writer(f) # Create csv writer\n",
    "\n",
    "    header = ['filename', 'width', 'height', 'class', 'xmin', 'ymin', 'xmax', 'ymax'] # Header of csv file\n",
    "    writer.writerow(header) # Write header\n",
    "    for xml_file in glob.glob(directory + '/*.xml'): # Loop through xml files\n",
    "        tree = ET.parse(xml_file) # Parse xml file\n",
    "        root = tree.getroot() # Get root element\n",
    "        filename = root.find('filename').text # Get filename\n",
    "        width = root.find('size').find('width').text # Get width\n",
    "        height = root.find('size').find('height').text # Get height\n",
    "        for member in root.findall('object'): # Loop through objects\n",
    "            class_name = member.find('name').text # Get class name\n",
    "            xmin = member.find('bndbox').find('xmin').text # Get xmin\n",
    "            ymin = member.find('bndbox').find('ymin').text # Get ymin\n",
    "            xmax = member.find('bndbox').find('xmax').text # Get xmax\n",
    "            ymax = member.find('bndbox').find('ymax').text # Get ymax\n",
    "            row = [filename, width, height, class_name, xmin, ymin, xmax, ymax] # Create row\n",
    "            writer.writerow(row) # Write row"
   ],
   "metadata": {
    "collapsed": false,
    "pycharm": {
     "name": "#%%\n"
    }
   }
  },
  {
   "cell_type": "code",
   "execution_count": 30,
   "outputs": [
    {
     "data": {
      "text/plain": "                                          filename  width  height   class  \\\n0   46_jpg.rf.24e3ff902a4ffadeb6b31f945f5604a8.jpg    416     416  damage   \n1   46_jpg.rf.24e3ff902a4ffadeb6b31f945f5604a8.jpg    416     416  damage   \n2   46_jpg.rf.24e3ff902a4ffadeb6b31f945f5604a8.jpg    416     416  damage   \n3   33_jpg.rf.2e829b1f7b990c83ac3a3b233667a2f6.jpg    416     416  damage   \n4   33_jpg.rf.2e829b1f7b990c83ac3a3b233667a2f6.jpg    416     416  damage   \n..                                             ...    ...     ...     ...   \n88  58_jpg.rf.fb01338767bb009a9b4a864238a52e79.jpg    416     416  damage   \n89  13_jpg.rf.2a3cf5391b524357cba1f95b7e72f98c.jpg    416     416  damage   \n90   3_jpg.rf.bfa03b1964e0c28a331c9677f74963ee.jpg    416     416  damage   \n91  49_jpg.rf.8be714a5fe31c507e84ce7b6267fdabc.jpg    416     416  damage   \n92  27_jpg.rf.b0140f9ae89d9ab9e07c9025e55f653a.jpg    416     416  damage   \n\n    xmin  ymin  xmax  ymax  \n0    175    59   289   130  \n1    138   177   293   272  \n2     88   153   157   193  \n3    149    52   285   153  \n4    264   206   416   332  \n..   ...   ...   ...   ...  \n88     9     2   182   177  \n89   151    72   253   239  \n90    99   200   165   247  \n91   118   202   221   283  \n92     6   107   241   270  \n\n[93 rows x 8 columns]",
      "text/html": "<div>\n<style scoped>\n    .dataframe tbody tr th:only-of-type {\n        vertical-align: middle;\n    }\n\n    .dataframe tbody tr th {\n        vertical-align: top;\n    }\n\n    .dataframe thead th {\n        text-align: right;\n    }\n</style>\n<table border=\"1\" class=\"dataframe\">\n  <thead>\n    <tr style=\"text-align: right;\">\n      <th></th>\n      <th>filename</th>\n      <th>width</th>\n      <th>height</th>\n      <th>class</th>\n      <th>xmin</th>\n      <th>ymin</th>\n      <th>xmax</th>\n      <th>ymax</th>\n    </tr>\n  </thead>\n  <tbody>\n    <tr>\n      <th>0</th>\n      <td>46_jpg.rf.24e3ff902a4ffadeb6b31f945f5604a8.jpg</td>\n      <td>416</td>\n      <td>416</td>\n      <td>damage</td>\n      <td>175</td>\n      <td>59</td>\n      <td>289</td>\n      <td>130</td>\n    </tr>\n    <tr>\n      <th>1</th>\n      <td>46_jpg.rf.24e3ff902a4ffadeb6b31f945f5604a8.jpg</td>\n      <td>416</td>\n      <td>416</td>\n      <td>damage</td>\n      <td>138</td>\n      <td>177</td>\n      <td>293</td>\n      <td>272</td>\n    </tr>\n    <tr>\n      <th>2</th>\n      <td>46_jpg.rf.24e3ff902a4ffadeb6b31f945f5604a8.jpg</td>\n      <td>416</td>\n      <td>416</td>\n      <td>damage</td>\n      <td>88</td>\n      <td>153</td>\n      <td>157</td>\n      <td>193</td>\n    </tr>\n    <tr>\n      <th>3</th>\n      <td>33_jpg.rf.2e829b1f7b990c83ac3a3b233667a2f6.jpg</td>\n      <td>416</td>\n      <td>416</td>\n      <td>damage</td>\n      <td>149</td>\n      <td>52</td>\n      <td>285</td>\n      <td>153</td>\n    </tr>\n    <tr>\n      <th>4</th>\n      <td>33_jpg.rf.2e829b1f7b990c83ac3a3b233667a2f6.jpg</td>\n      <td>416</td>\n      <td>416</td>\n      <td>damage</td>\n      <td>264</td>\n      <td>206</td>\n      <td>416</td>\n      <td>332</td>\n    </tr>\n    <tr>\n      <th>...</th>\n      <td>...</td>\n      <td>...</td>\n      <td>...</td>\n      <td>...</td>\n      <td>...</td>\n      <td>...</td>\n      <td>...</td>\n      <td>...</td>\n    </tr>\n    <tr>\n      <th>88</th>\n      <td>58_jpg.rf.fb01338767bb009a9b4a864238a52e79.jpg</td>\n      <td>416</td>\n      <td>416</td>\n      <td>damage</td>\n      <td>9</td>\n      <td>2</td>\n      <td>182</td>\n      <td>177</td>\n    </tr>\n    <tr>\n      <th>89</th>\n      <td>13_jpg.rf.2a3cf5391b524357cba1f95b7e72f98c.jpg</td>\n      <td>416</td>\n      <td>416</td>\n      <td>damage</td>\n      <td>151</td>\n      <td>72</td>\n      <td>253</td>\n      <td>239</td>\n    </tr>\n    <tr>\n      <th>90</th>\n      <td>3_jpg.rf.bfa03b1964e0c28a331c9677f74963ee.jpg</td>\n      <td>416</td>\n      <td>416</td>\n      <td>damage</td>\n      <td>99</td>\n      <td>200</td>\n      <td>165</td>\n      <td>247</td>\n    </tr>\n    <tr>\n      <th>91</th>\n      <td>49_jpg.rf.8be714a5fe31c507e84ce7b6267fdabc.jpg</td>\n      <td>416</td>\n      <td>416</td>\n      <td>damage</td>\n      <td>118</td>\n      <td>202</td>\n      <td>221</td>\n      <td>283</td>\n    </tr>\n    <tr>\n      <th>92</th>\n      <td>27_jpg.rf.b0140f9ae89d9ab9e07c9025e55f653a.jpg</td>\n      <td>416</td>\n      <td>416</td>\n      <td>damage</td>\n      <td>6</td>\n      <td>107</td>\n      <td>241</td>\n      <td>270</td>\n    </tr>\n  </tbody>\n</table>\n<p>93 rows × 8 columns</p>\n</div>"
     },
     "execution_count": 30,
     "metadata": {},
     "output_type": "execute_result"
    }
   ],
   "source": [
    "import pandas as pd\n",
    "df = pd.read_csv(ANNOTATION_PATH + '/train_labels.csv') # Read csv file\n",
    "df# Show first 5 rows"
   ],
   "metadata": {
    "collapsed": false,
    "pycharm": {
     "name": "#%%\n"
    }
   }
  },
  {
   "cell_type": "code",
   "execution_count": 27,
   "outputs": [],
   "source": [
    "#convert xml to csv from images\\test\n",
    "directory = os.path.join(os.getcwd(),'models', 'models' , 'images','test') # Path to test folder\n",
    "\n",
    "with open(ANNOTATION_PATH + '/train_labels.csv', 'w') as f: # Create train_labels.csv file\n",
    "    writer = csv.writer(f) # Create csv writer\n",
    "\n",
    "    header = ['filename', 'width', 'height', 'class', 'xmin', 'ymin', 'xmax', 'ymax'] # Header of csv file\n",
    "    writer.writerow(header) # Write header\n",
    "    for xml_file in glob.glob(directory + '/*.xml'): # Loop through xml files\n",
    "        tree = ET.parse(xml_file) # Parse xml file\n",
    "        root = tree.getroot() # Get root element\n",
    "        filename = root.find('filename').text # Get filename\n",
    "        width = root.find('size').find('width').text # Get width\n",
    "        height = root.find('size').find('height').text # Get height\n",
    "        for member in root.findall('object'): # Loop through objects\n",
    "            class_name = member.find('name').text # Get class name\n",
    "            xmin = member.find('bndbox').find('xmin').text # Get xmin\n",
    "            ymin = member.find('bndbox').find('ymin').text # Get ymin\n",
    "            xmax = member.find('bndbox').find('xmax').text # Get xmax\n",
    "            ymax = member.find('bndbox').find('ymax').text # Get ymax\n",
    "            row = [filename, width, height, class_name, xmin, ymin, xmax, ymax] # Create row\n",
    "            writer.writerow(row) # Write row"
   ],
   "metadata": {
    "collapsed": false,
    "pycharm": {
     "name": "#%%\n"
    }
   }
  },
  {
   "cell_type": "code",
   "execution_count": 28,
   "outputs": [
    {
     "data": {
      "text/plain": "                                          filename  width  height   class  \\\n0   26_jpg.rf.5b5fbd42ffc6d9284403cdcc0e4eed0e.jpg    416     416  damage   \n1   50_jpg.rf.2c57676ff1b4248ab89652128411bb5c.jpg    416     416  damage   \n2   50_jpg.rf.2c57676ff1b4248ab89652128411bb5c.jpg    416     416  damage   \n3   50_jpg.rf.2c57676ff1b4248ab89652128411bb5c.jpg    416     416  damage   \n4   50_jpg.rf.2c57676ff1b4248ab89652128411bb5c.jpg    416     416  damage   \n5   69_jpg.rf.fc9c6a44708dc0eceaa1d5454c79735e.jpg    416     416  damage   \n6   71_jpg.rf.4099144e3195221a13386d39edc7fda4.jpg    416     416  damage   \n7   71_jpg.rf.4099144e3195221a13386d39edc7fda4.jpg    416     416  damage   \n8   62_jpg.rf.ff046698aab468ca4baea3d28a1fcbb9.jpg    416     416  damage   \n9   10_jpg.rf.e4c70ba4c6d3a36b0ae6300b5843be2a.jpg    416     416  damage   \n10   2_jpg.rf.6e8748f602337794fdb2a55436449ac5.jpg    416     416  damage   \n11  32_jpg.rf.293e5e9e683fe320f612cbdae069432c.jpg    416     416  damage   \n12  36_jpg.rf.b7132e28abadb12c656c7a70b2e7dc62.jpg    416     416  damage   \n13  36_jpg.rf.b7132e28abadb12c656c7a70b2e7dc62.jpg    416     416  damage   \n14  76_jpg.rf.d02b9b9032b18986802f47496033a046.jpg    416     416  damage   \n15  54_jpg.rf.2b37f99ccefb14c8732f9702371086a8.jpg    416     416  damage   \n16  54_jpg.rf.2b37f99ccefb14c8732f9702371086a8.jpg    416     416  damage   \n17  54_jpg.rf.2b37f99ccefb14c8732f9702371086a8.jpg    416     416  damage   \n18  18_jpg.rf.33c84d71f54f9839cd1dc2718da6c19b.jpg    416     416  damage   \n19  18_jpg.rf.33c84d71f54f9839cd1dc2718da6c19b.jpg    416     416  damage   \n20  80_jpg.rf.dc60dc4345d065a84358669ee50e9365.jpg    416     416  damage   \n21  80_jpg.rf.dc60dc4345d065a84358669ee50e9365.jpg    416     416  damage   \n22  15_jpg.rf.892903b801774fbedede2f119ee3204d.jpg    416     416  damage   \n23  42_jpg.rf.7920e3d0ad3b0a9421a48ff4e73c200e.jpg    416     416  damage   \n24  42_jpg.rf.7920e3d0ad3b0a9421a48ff4e73c200e.jpg    416     416  damage   \n25  55_jpg.rf.bd22750eb0e0459a79e0f94c1f7a015d.jpg    416     416  damage   \n26  55_jpg.rf.bd22750eb0e0459a79e0f94c1f7a015d.jpg    416     416  damage   \n27  55_jpg.rf.bd22750eb0e0459a79e0f94c1f7a015d.jpg    416     416  damage   \n28  75_jpg.rf.9d6d81e7f2836354c3151c4f7f9dcc56.jpg    416     416  damage   \n29   9_jpg.rf.9a69e699887c5cbc42006d4b26b8357f.jpg    416     416  damage   \n30   9_jpg.rf.9a69e699887c5cbc42006d4b26b8357f.jpg    416     416  damage   \n31   9_jpg.rf.9a69e699887c5cbc42006d4b26b8357f.jpg    416     416  damage   \n32  43_jpg.rf.d7483adc36bcdd9bf39e278058ab5932.jpg    416     416  damage   \n33  29_jpg.rf.cf1ebcda58339b6ac54b509dc7f7435d.jpg    416     416  damage   \n34  27_jpg.rf.b0140f9ae89d9ab9e07c9025e55f653a.jpg    416     416  damage   \n\n    xmin  ymin  xmax  ymax  \n0     90    52   377   398  \n1     73    62   336   206  \n2    178   208   354   266  \n3    300   166   347   209  \n4    102   202   179   253  \n5    186   257   251   320  \n6    288   201   376   300  \n7      3    60   103   144  \n8     90   296   221   411  \n9     81    85   172   199  \n10   252   202   362   311  \n11     6    69   335   251  \n12    66   134   207   273  \n13   235   294   332   385  \n14   267   283   366   366  \n15   162   221   212   292  \n16    91   132   164   372  \n17    38   131   103   340  \n18   139   121   251   355  \n19   182     6   245    39  \n20    57   265   141   313  \n21   184   287   225   332  \n22    99    57   143   151  \n23   126   156   241   267  \n24    54   304   125   343  \n25   127   188   291   282  \n26   298   194   342   233  \n27   142   171   170   197  \n28    98   171   313   298  \n29   122   149   150   226  \n30     2   169   246   295  \n31    17   264   231   406  \n32    28    22   320   318  \n33   106     9   274   244  \n34     6   107   241   270  ",
      "text/html": "<div>\n<style scoped>\n    .dataframe tbody tr th:only-of-type {\n        vertical-align: middle;\n    }\n\n    .dataframe tbody tr th {\n        vertical-align: top;\n    }\n\n    .dataframe thead th {\n        text-align: right;\n    }\n</style>\n<table border=\"1\" class=\"dataframe\">\n  <thead>\n    <tr style=\"text-align: right;\">\n      <th></th>\n      <th>filename</th>\n      <th>width</th>\n      <th>height</th>\n      <th>class</th>\n      <th>xmin</th>\n      <th>ymin</th>\n      <th>xmax</th>\n      <th>ymax</th>\n    </tr>\n  </thead>\n  <tbody>\n    <tr>\n      <th>0</th>\n      <td>26_jpg.rf.5b5fbd42ffc6d9284403cdcc0e4eed0e.jpg</td>\n      <td>416</td>\n      <td>416</td>\n      <td>damage</td>\n      <td>90</td>\n      <td>52</td>\n      <td>377</td>\n      <td>398</td>\n    </tr>\n    <tr>\n      <th>1</th>\n      <td>50_jpg.rf.2c57676ff1b4248ab89652128411bb5c.jpg</td>\n      <td>416</td>\n      <td>416</td>\n      <td>damage</td>\n      <td>73</td>\n      <td>62</td>\n      <td>336</td>\n      <td>206</td>\n    </tr>\n    <tr>\n      <th>2</th>\n      <td>50_jpg.rf.2c57676ff1b4248ab89652128411bb5c.jpg</td>\n      <td>416</td>\n      <td>416</td>\n      <td>damage</td>\n      <td>178</td>\n      <td>208</td>\n      <td>354</td>\n      <td>266</td>\n    </tr>\n    <tr>\n      <th>3</th>\n      <td>50_jpg.rf.2c57676ff1b4248ab89652128411bb5c.jpg</td>\n      <td>416</td>\n      <td>416</td>\n      <td>damage</td>\n      <td>300</td>\n      <td>166</td>\n      <td>347</td>\n      <td>209</td>\n    </tr>\n    <tr>\n      <th>4</th>\n      <td>50_jpg.rf.2c57676ff1b4248ab89652128411bb5c.jpg</td>\n      <td>416</td>\n      <td>416</td>\n      <td>damage</td>\n      <td>102</td>\n      <td>202</td>\n      <td>179</td>\n      <td>253</td>\n    </tr>\n    <tr>\n      <th>5</th>\n      <td>69_jpg.rf.fc9c6a44708dc0eceaa1d5454c79735e.jpg</td>\n      <td>416</td>\n      <td>416</td>\n      <td>damage</td>\n      <td>186</td>\n      <td>257</td>\n      <td>251</td>\n      <td>320</td>\n    </tr>\n    <tr>\n      <th>6</th>\n      <td>71_jpg.rf.4099144e3195221a13386d39edc7fda4.jpg</td>\n      <td>416</td>\n      <td>416</td>\n      <td>damage</td>\n      <td>288</td>\n      <td>201</td>\n      <td>376</td>\n      <td>300</td>\n    </tr>\n    <tr>\n      <th>7</th>\n      <td>71_jpg.rf.4099144e3195221a13386d39edc7fda4.jpg</td>\n      <td>416</td>\n      <td>416</td>\n      <td>damage</td>\n      <td>3</td>\n      <td>60</td>\n      <td>103</td>\n      <td>144</td>\n    </tr>\n    <tr>\n      <th>8</th>\n      <td>62_jpg.rf.ff046698aab468ca4baea3d28a1fcbb9.jpg</td>\n      <td>416</td>\n      <td>416</td>\n      <td>damage</td>\n      <td>90</td>\n      <td>296</td>\n      <td>221</td>\n      <td>411</td>\n    </tr>\n    <tr>\n      <th>9</th>\n      <td>10_jpg.rf.e4c70ba4c6d3a36b0ae6300b5843be2a.jpg</td>\n      <td>416</td>\n      <td>416</td>\n      <td>damage</td>\n      <td>81</td>\n      <td>85</td>\n      <td>172</td>\n      <td>199</td>\n    </tr>\n    <tr>\n      <th>10</th>\n      <td>2_jpg.rf.6e8748f602337794fdb2a55436449ac5.jpg</td>\n      <td>416</td>\n      <td>416</td>\n      <td>damage</td>\n      <td>252</td>\n      <td>202</td>\n      <td>362</td>\n      <td>311</td>\n    </tr>\n    <tr>\n      <th>11</th>\n      <td>32_jpg.rf.293e5e9e683fe320f612cbdae069432c.jpg</td>\n      <td>416</td>\n      <td>416</td>\n      <td>damage</td>\n      <td>6</td>\n      <td>69</td>\n      <td>335</td>\n      <td>251</td>\n    </tr>\n    <tr>\n      <th>12</th>\n      <td>36_jpg.rf.b7132e28abadb12c656c7a70b2e7dc62.jpg</td>\n      <td>416</td>\n      <td>416</td>\n      <td>damage</td>\n      <td>66</td>\n      <td>134</td>\n      <td>207</td>\n      <td>273</td>\n    </tr>\n    <tr>\n      <th>13</th>\n      <td>36_jpg.rf.b7132e28abadb12c656c7a70b2e7dc62.jpg</td>\n      <td>416</td>\n      <td>416</td>\n      <td>damage</td>\n      <td>235</td>\n      <td>294</td>\n      <td>332</td>\n      <td>385</td>\n    </tr>\n    <tr>\n      <th>14</th>\n      <td>76_jpg.rf.d02b9b9032b18986802f47496033a046.jpg</td>\n      <td>416</td>\n      <td>416</td>\n      <td>damage</td>\n      <td>267</td>\n      <td>283</td>\n      <td>366</td>\n      <td>366</td>\n    </tr>\n    <tr>\n      <th>15</th>\n      <td>54_jpg.rf.2b37f99ccefb14c8732f9702371086a8.jpg</td>\n      <td>416</td>\n      <td>416</td>\n      <td>damage</td>\n      <td>162</td>\n      <td>221</td>\n      <td>212</td>\n      <td>292</td>\n    </tr>\n    <tr>\n      <th>16</th>\n      <td>54_jpg.rf.2b37f99ccefb14c8732f9702371086a8.jpg</td>\n      <td>416</td>\n      <td>416</td>\n      <td>damage</td>\n      <td>91</td>\n      <td>132</td>\n      <td>164</td>\n      <td>372</td>\n    </tr>\n    <tr>\n      <th>17</th>\n      <td>54_jpg.rf.2b37f99ccefb14c8732f9702371086a8.jpg</td>\n      <td>416</td>\n      <td>416</td>\n      <td>damage</td>\n      <td>38</td>\n      <td>131</td>\n      <td>103</td>\n      <td>340</td>\n    </tr>\n    <tr>\n      <th>18</th>\n      <td>18_jpg.rf.33c84d71f54f9839cd1dc2718da6c19b.jpg</td>\n      <td>416</td>\n      <td>416</td>\n      <td>damage</td>\n      <td>139</td>\n      <td>121</td>\n      <td>251</td>\n      <td>355</td>\n    </tr>\n    <tr>\n      <th>19</th>\n      <td>18_jpg.rf.33c84d71f54f9839cd1dc2718da6c19b.jpg</td>\n      <td>416</td>\n      <td>416</td>\n      <td>damage</td>\n      <td>182</td>\n      <td>6</td>\n      <td>245</td>\n      <td>39</td>\n    </tr>\n    <tr>\n      <th>20</th>\n      <td>80_jpg.rf.dc60dc4345d065a84358669ee50e9365.jpg</td>\n      <td>416</td>\n      <td>416</td>\n      <td>damage</td>\n      <td>57</td>\n      <td>265</td>\n      <td>141</td>\n      <td>313</td>\n    </tr>\n    <tr>\n      <th>21</th>\n      <td>80_jpg.rf.dc60dc4345d065a84358669ee50e9365.jpg</td>\n      <td>416</td>\n      <td>416</td>\n      <td>damage</td>\n      <td>184</td>\n      <td>287</td>\n      <td>225</td>\n      <td>332</td>\n    </tr>\n    <tr>\n      <th>22</th>\n      <td>15_jpg.rf.892903b801774fbedede2f119ee3204d.jpg</td>\n      <td>416</td>\n      <td>416</td>\n      <td>damage</td>\n      <td>99</td>\n      <td>57</td>\n      <td>143</td>\n      <td>151</td>\n    </tr>\n    <tr>\n      <th>23</th>\n      <td>42_jpg.rf.7920e3d0ad3b0a9421a48ff4e73c200e.jpg</td>\n      <td>416</td>\n      <td>416</td>\n      <td>damage</td>\n      <td>126</td>\n      <td>156</td>\n      <td>241</td>\n      <td>267</td>\n    </tr>\n    <tr>\n      <th>24</th>\n      <td>42_jpg.rf.7920e3d0ad3b0a9421a48ff4e73c200e.jpg</td>\n      <td>416</td>\n      <td>416</td>\n      <td>damage</td>\n      <td>54</td>\n      <td>304</td>\n      <td>125</td>\n      <td>343</td>\n    </tr>\n    <tr>\n      <th>25</th>\n      <td>55_jpg.rf.bd22750eb0e0459a79e0f94c1f7a015d.jpg</td>\n      <td>416</td>\n      <td>416</td>\n      <td>damage</td>\n      <td>127</td>\n      <td>188</td>\n      <td>291</td>\n      <td>282</td>\n    </tr>\n    <tr>\n      <th>26</th>\n      <td>55_jpg.rf.bd22750eb0e0459a79e0f94c1f7a015d.jpg</td>\n      <td>416</td>\n      <td>416</td>\n      <td>damage</td>\n      <td>298</td>\n      <td>194</td>\n      <td>342</td>\n      <td>233</td>\n    </tr>\n    <tr>\n      <th>27</th>\n      <td>55_jpg.rf.bd22750eb0e0459a79e0f94c1f7a015d.jpg</td>\n      <td>416</td>\n      <td>416</td>\n      <td>damage</td>\n      <td>142</td>\n      <td>171</td>\n      <td>170</td>\n      <td>197</td>\n    </tr>\n    <tr>\n      <th>28</th>\n      <td>75_jpg.rf.9d6d81e7f2836354c3151c4f7f9dcc56.jpg</td>\n      <td>416</td>\n      <td>416</td>\n      <td>damage</td>\n      <td>98</td>\n      <td>171</td>\n      <td>313</td>\n      <td>298</td>\n    </tr>\n    <tr>\n      <th>29</th>\n      <td>9_jpg.rf.9a69e699887c5cbc42006d4b26b8357f.jpg</td>\n      <td>416</td>\n      <td>416</td>\n      <td>damage</td>\n      <td>122</td>\n      <td>149</td>\n      <td>150</td>\n      <td>226</td>\n    </tr>\n    <tr>\n      <th>30</th>\n      <td>9_jpg.rf.9a69e699887c5cbc42006d4b26b8357f.jpg</td>\n      <td>416</td>\n      <td>416</td>\n      <td>damage</td>\n      <td>2</td>\n      <td>169</td>\n      <td>246</td>\n      <td>295</td>\n    </tr>\n    <tr>\n      <th>31</th>\n      <td>9_jpg.rf.9a69e699887c5cbc42006d4b26b8357f.jpg</td>\n      <td>416</td>\n      <td>416</td>\n      <td>damage</td>\n      <td>17</td>\n      <td>264</td>\n      <td>231</td>\n      <td>406</td>\n    </tr>\n    <tr>\n      <th>32</th>\n      <td>43_jpg.rf.d7483adc36bcdd9bf39e278058ab5932.jpg</td>\n      <td>416</td>\n      <td>416</td>\n      <td>damage</td>\n      <td>28</td>\n      <td>22</td>\n      <td>320</td>\n      <td>318</td>\n    </tr>\n    <tr>\n      <th>33</th>\n      <td>29_jpg.rf.cf1ebcda58339b6ac54b509dc7f7435d.jpg</td>\n      <td>416</td>\n      <td>416</td>\n      <td>damage</td>\n      <td>106</td>\n      <td>9</td>\n      <td>274</td>\n      <td>244</td>\n    </tr>\n    <tr>\n      <th>34</th>\n      <td>27_jpg.rf.b0140f9ae89d9ab9e07c9025e55f653a.jpg</td>\n      <td>416</td>\n      <td>416</td>\n      <td>damage</td>\n      <td>6</td>\n      <td>107</td>\n      <td>241</td>\n      <td>270</td>\n    </tr>\n  </tbody>\n</table>\n</div>"
     },
     "execution_count": 28,
     "metadata": {},
     "output_type": "execute_result"
    }
   ],
   "source": [
    "df1 = pd.read_csv(ANNOTATION_PATH + '/train_labels.csv') # Read csv file\n",
    "df1"
   ],
   "metadata": {
    "collapsed": false,
    "pycharm": {
     "name": "#%%\n"
    }
   }
  },
  {
   "cell_type": "code",
   "execution_count": 32,
   "outputs": [
    {
     "name": "stdout",
     "output_type": "stream",
     "text": [
      "2022-12-03 17:06:13.174848: I tensorflow/core/platform/cpu_feature_guard.cc:193] This TensorFlow binary is optimized with oneAPI Deep Neural Network Library (oneDNN) to use the following CPU instructions in performance-critical operations:  AVX2 FMA\r\n",
      "To enable them in other operations, rebuild TensorFlow with the appropriate compiler flags.\r\n",
      "2022-12-03 17:06:13.333162: W tensorflow/compiler/xla/stream_executor/platform/default/dso_loader.cc:64] Could not load dynamic library 'libcudart.so.11.0'; dlerror: libcudart.so.11.0: cannot open shared object file: No such file or directory; LD_LIBRARY_PATH: :/usr/local/lib\r\n",
      "2022-12-03 17:06:13.333183: I tensorflow/compiler/xla/stream_executor/cuda/cudart_stub.cc:29] Ignore above cudart dlerror if you do not have a GPU set up on your machine.\r\n",
      "2022-12-03 17:06:14.286860: W tensorflow/compiler/xla/stream_executor/platform/default/dso_loader.cc:64] Could not load dynamic library 'libnvinfer.so.7'; dlerror: libnvinfer.so.7: cannot open shared object file: No such file or directory; LD_LIBRARY_PATH: :/usr/local/lib\r\n",
      "2022-12-03 17:06:14.287009: W tensorflow/compiler/xla/stream_executor/platform/default/dso_loader.cc:64] Could not load dynamic library 'libnvinfer_plugin.so.7'; dlerror: libnvinfer_plugin.so.7: cannot open shared object file: No such file or directory; LD_LIBRARY_PATH: :/usr/local/lib\r\n",
      "2022-12-03 17:06:14.287023: W tensorflow/compiler/tf2tensorrt/utils/py_utils.cc:38] TF-TRT Warning: Cannot dlopen some TensorRT libraries. If you would like to use Nvidia GPU with TensorRT, please make sure the missing libraries mentioned above are installed properly.\r\n",
      "2022-12-03 17:06:15.154951: E tensorflow/compiler/xla/stream_executor/cuda/cuda_driver.cc:267] failed call to cuInit: CUDA_ERROR_NO_DEVICE: no CUDA-capable device is detected\r\n",
      "2022-12-03 17:06:15.155014: I tensorflow/compiler/xla/stream_executor/cuda/cuda_diagnostics.cc:156] kernel driver does not appear to be running on this host (hassen-OMEN-by-HP-Laptop): /proc/driver/nvidia/version does not exist\r\n",
      "                                         filename  width  ...  xmax ymax\r\n",
      "0  46_jpg.rf.24e3ff902a4ffadeb6b31f945f5604a8.jpg    416  ...   289  130\r\n",
      "1  46_jpg.rf.24e3ff902a4ffadeb6b31f945f5604a8.jpg    416  ...   293  272\r\n",
      "2  46_jpg.rf.24e3ff902a4ffadeb6b31f945f5604a8.jpg    416  ...   157  193\r\n",
      "3  33_jpg.rf.2e829b1f7b990c83ac3a3b233667a2f6.jpg    416  ...   285  153\r\n",
      "4  33_jpg.rf.2e829b1f7b990c83ac3a3b233667a2f6.jpg    416  ...   416  332\r\n",
      "5  33_jpg.rf.2e829b1f7b990c83ac3a3b233667a2f6.jpg    416  ...   406  199\r\n",
      "6  26_jpg.rf.5b5fbd42ffc6d9284403cdcc0e4eed0e.jpg    416  ...   377  398\r\n",
      "7  16_jpg.rf.a273fff9efc434e58c4db1811c62b12e.jpg    416  ...   265  219\r\n",
      "8  16_jpg.rf.a273fff9efc434e58c4db1811c62b12e.jpg    416  ...   214  363\r\n",
      "9  50_jpg.rf.2c57676ff1b4248ab89652128411bb5c.jpg    416  ...   336  206\r\n",
      "\r\n",
      "[10 rows x 8 columns]\r\n",
      "Successfully created the TFRecords: /home/hassen/project/models/models/annotations/train.record\r\n"
     ]
    }
   ],
   "source": [
    "#execute the tfrecord scripts\n",
    "# Create train data:\n",
    "!cd /home/hassen/project/Scripts &&  python TFRecord.py -x /home/hassen/project/models/models/images/train -l /home/hassen/project/models/models/annotations/label_map.pbtxt -o /home/hassen/project/models/models/annotations/train.record -c /home/hassen/project/models/models/annotations/train_labels.csv\n"
   ],
   "metadata": {
    "collapsed": false,
    "pycharm": {
     "name": "#%%\n"
    }
   }
  },
  {
   "cell_type": "code",
   "execution_count": 33,
   "outputs": [
    {
     "name": "stdout",
     "output_type": "stream",
     "text": [
      "2022-12-03 17:06:16.633477: I tensorflow/core/platform/cpu_feature_guard.cc:193] This TensorFlow binary is optimized with oneAPI Deep Neural Network Library (oneDNN) to use the following CPU instructions in performance-critical operations:  AVX2 FMA\r\n",
      "To enable them in other operations, rebuild TensorFlow with the appropriate compiler flags.\r\n",
      "2022-12-03 17:06:16.767167: W tensorflow/compiler/xla/stream_executor/platform/default/dso_loader.cc:64] Could not load dynamic library 'libcudart.so.11.0'; dlerror: libcudart.so.11.0: cannot open shared object file: No such file or directory; LD_LIBRARY_PATH: :/usr/local/lib\r\n",
      "2022-12-03 17:06:16.767206: I tensorflow/compiler/xla/stream_executor/cuda/cudart_stub.cc:29] Ignore above cudart dlerror if you do not have a GPU set up on your machine.\r\n",
      "2022-12-03 17:06:17.451092: W tensorflow/compiler/xla/stream_executor/platform/default/dso_loader.cc:64] Could not load dynamic library 'libnvinfer.so.7'; dlerror: libnvinfer.so.7: cannot open shared object file: No such file or directory; LD_LIBRARY_PATH: :/usr/local/lib\r\n",
      "2022-12-03 17:06:17.451205: W tensorflow/compiler/xla/stream_executor/platform/default/dso_loader.cc:64] Could not load dynamic library 'libnvinfer_plugin.so.7'; dlerror: libnvinfer_plugin.so.7: cannot open shared object file: No such file or directory; LD_LIBRARY_PATH: :/usr/local/lib\r\n",
      "2022-12-03 17:06:17.451216: W tensorflow/compiler/tf2tensorrt/utils/py_utils.cc:38] TF-TRT Warning: Cannot dlopen some TensorRT libraries. If you would like to use Nvidia GPU with TensorRT, please make sure the missing libraries mentioned above are installed properly.\r\n",
      "2022-12-03 17:06:18.165162: E tensorflow/compiler/xla/stream_executor/cuda/cuda_driver.cc:267] failed call to cuInit: CUDA_ERROR_NO_DEVICE: no CUDA-capable device is detected\r\n",
      "2022-12-03 17:06:18.165204: I tensorflow/compiler/xla/stream_executor/cuda/cuda_diagnostics.cc:156] kernel driver does not appear to be running on this host (hassen-OMEN-by-HP-Laptop): /proc/driver/nvidia/version does not exist\r\n",
      "                                         filename  width  ...  xmax ymax\r\n",
      "0  26_jpg.rf.5b5fbd42ffc6d9284403cdcc0e4eed0e.jpg    416  ...   377  398\r\n",
      "1  50_jpg.rf.2c57676ff1b4248ab89652128411bb5c.jpg    416  ...   336  206\r\n",
      "2  50_jpg.rf.2c57676ff1b4248ab89652128411bb5c.jpg    416  ...   354  266\r\n",
      "3  50_jpg.rf.2c57676ff1b4248ab89652128411bb5c.jpg    416  ...   347  209\r\n",
      "4  50_jpg.rf.2c57676ff1b4248ab89652128411bb5c.jpg    416  ...   179  253\r\n",
      "5  69_jpg.rf.fc9c6a44708dc0eceaa1d5454c79735e.jpg    416  ...   251  320\r\n",
      "6  71_jpg.rf.4099144e3195221a13386d39edc7fda4.jpg    416  ...   376  300\r\n",
      "7  71_jpg.rf.4099144e3195221a13386d39edc7fda4.jpg    416  ...   103  144\r\n",
      "8  62_jpg.rf.ff046698aab468ca4baea3d28a1fcbb9.jpg    416  ...   221  411\r\n",
      "9  10_jpg.rf.e4c70ba4c6d3a36b0ae6300b5843be2a.jpg    416  ...   172  199\r\n",
      "\r\n",
      "[10 rows x 8 columns]\r\n",
      "Successfully created the TFRecords: /home/hassen/project/models/models/annotations/test.record\r\n"
     ]
    }
   ],
   "source": [
    "# Create test data:\n",
    "!cd /home/hassen/project/Scripts &&  python TFRecord.py -x /home/hassen/project/models/models/images/test -l /home/hassen/project/models/models/annotations/label_map.pbtxt -o /home/hassen/project/models/models/annotations/test.record -c /home/hassen/project/models/models/annotations/test_labels.csv"
   ],
   "metadata": {
    "collapsed": false,
    "pycharm": {
     "name": "#%%\n"
    }
   }
  },
  {
   "cell_type": "markdown",
   "source": [
    "# Download the pre-trained model\n"
   ],
   "metadata": {
    "collapsed": false,
    "pycharm": {
     "name": "#%% md\n"
    }
   }
  },
  {
   "cell_type": "code",
   "execution_count": 50,
   "outputs": [],
   "source": [
    "pretrained_model_url = 'http://download.tensorflow.org/models/object_detection/tf2/20200711/ssd_mobilenet_v2_fpnlite_320x320_coco17_tpu-8.tar.gz'\n",
    "pretrained_model_name = 'ssd_mobilenet_v2_fpnlite_320x320_coco17_tpu-8'\n",
    "pretrained_model_path = os.path.join(os.getcwd(),'models', 'models' , 'pre-trained_model')"
   ],
   "metadata": {
    "collapsed": false,
    "pycharm": {
     "name": "#%%\n"
    }
   }
  },
  {
   "cell_type": "code",
   "execution_count": 51,
   "outputs": [
    {
     "data": {
      "text/plain": "'/home/hassen/project/models/models/pre-trained_model'"
     },
     "execution_count": 51,
     "metadata": {},
     "output_type": "execute_result"
    }
   ],
   "source": [
    "pretrained_model_path"
   ],
   "metadata": {
    "collapsed": false,
    "pycharm": {
     "name": "#%%\n"
    }
   }
  },
  {
   "cell_type": "code",
   "execution_count": 52,
   "outputs": [],
   "source": [
    "if not os.path.exists(pretrained_model_path):\n",
    "    os.makedirs(pretrained_model_path)"
   ],
   "metadata": {
    "collapsed": false,
    "pycharm": {
     "name": "#%%\n"
    }
   }
  },
  {
   "cell_type": "code",
   "execution_count": 54,
   "outputs": [
    {
     "name": "stdout",
     "output_type": "stream",
     "text": [
      "--2022-12-03 17:52:42--  http://download.tensorflow.org/models/object_detection/tf2/20200711/ssd_mobilenet_v2_fpnlite_320x320_coco17_tpu-8.tar.gz\r\n",
      "Resolving download.tensorflow.org (download.tensorflow.org)... 173.194.76.128, 2a00:1450:400c:c00::80\r\n",
      "Connecting to download.tensorflow.org (download.tensorflow.org)|173.194.76.128|:80... connected.\r\n",
      "HTTP request sent, awaiting response... 200 OK\r\n",
      "Length: 20515344 (20M) [application/x-tar]\r\n",
      "Saving to: ‘/home/hassen/project/models/models/pre-trained_model/ssd_mobilenet_v2_fpnlite_320x320_coco17_tpu-8.tar.gz’\r\n",
      "\r\n",
      "/home/hassen/projec 100%[===================>]  19.56M  3.42MB/s    in 5.6s    \r\n",
      "\r\n",
      "2022-12-03 17:52:48 (3.50 MB/s) - ‘/home/hassen/project/models/models/pre-trained_model/ssd_mobilenet_v2_fpnlite_320x320_coco17_tpu-8.tar.gz’ saved [20515344/20515344]\r\n",
      "\r\n",
      "ssd_mobilenet_v2_fpnlite_320x320_coco17_tpu-8/\r\n",
      "ssd_mobilenet_v2_fpnlite_320x320_coco17_tpu-8/checkpoint/\r\n",
      "ssd_mobilenet_v2_fpnlite_320x320_coco17_tpu-8/checkpoint/ckpt-0.data-00000-of-00001\r\n",
      "ssd_mobilenet_v2_fpnlite_320x320_coco17_tpu-8/checkpoint/checkpoint\r\n",
      "ssd_mobilenet_v2_fpnlite_320x320_coco17_tpu-8/checkpoint/ckpt-0.index\r\n",
      "ssd_mobilenet_v2_fpnlite_320x320_coco17_tpu-8/pipeline.config\r\n",
      "ssd_mobilenet_v2_fpnlite_320x320_coco17_tpu-8/saved_model/\r\n",
      "ssd_mobilenet_v2_fpnlite_320x320_coco17_tpu-8/saved_model/saved_model.pb\r\n",
      "ssd_mobilenet_v2_fpnlite_320x320_coco17_tpu-8/saved_model/variables/\r\n",
      "ssd_mobilenet_v2_fpnlite_320x320_coco17_tpu-8/saved_model/variables/variables.data-00000-of-00001\r\n",
      "ssd_mobilenet_v2_fpnlite_320x320_coco17_tpu-8/saved_model/variables/variables.index\r\n"
     ]
    }
   ],
   "source": [
    "!wget {pretrained_model_url} -O {pretrained_model_path}/{pretrained_model_name}.tar.gz\n",
    "!cd {pretrained_model_path} && tar -xvf {pretrained_model_name+'.tar.gz'}"
   ],
   "metadata": {
    "collapsed": false,
    "pycharm": {
     "name": "#%%\n"
    }
   }
  },
  {
   "cell_type": "code",
   "execution_count": 37,
   "outputs": [
    {
     "name": "stdout",
     "output_type": "stream",
     "text": [
      "ssd_mobilenet_v2_320x320_coco17_tpu-8/\r\n",
      "ssd_mobilenet_v2_320x320_coco17_tpu-8/checkpoint/\r\n",
      "ssd_mobilenet_v2_320x320_coco17_tpu-8/checkpoint/ckpt-0.data-00000-of-00001\r\n",
      "ssd_mobilenet_v2_320x320_coco17_tpu-8/checkpoint/checkpoint\r\n",
      "ssd_mobilenet_v2_320x320_coco17_tpu-8/checkpoint/ckpt-0.index\r\n",
      "ssd_mobilenet_v2_320x320_coco17_tpu-8/pipeline.config\r\n",
      "ssd_mobilenet_v2_320x320_coco17_tpu-8/saved_model/\r\n",
      "ssd_mobilenet_v2_320x320_coco17_tpu-8/saved_model/saved_model.pb\r\n",
      "ssd_mobilenet_v2_320x320_coco17_tpu-8/saved_model/variables/\r\n",
      "ssd_mobilenet_v2_320x320_coco17_tpu-8/saved_model/variables/variables.data-00000-of-00001\r\n",
      "ssd_mobilenet_v2_320x320_coco17_tpu-8/saved_model/variables/variables.index\r\n"
     ]
    }
   ],
   "source": [
    "# Extract model\n",
    "!tar -zxvf /home/hassen/project/models/models/checkpoint/{model_file} -C /home/hassen/project/models/models/checkpoint"
   ],
   "metadata": {
    "collapsed": false,
    "pycharm": {
     "name": "#%%\n"
    }
   }
  },
  {
   "cell_type": "code",
   "execution_count": 57,
   "outputs": [
    {
     "name": "stdout",
     "output_type": "stream",
     "text": [
      "pipeline.config file copied to checkpoint folder\n"
     ]
    }
   ],
   "source": [
    "#copy the pipeline.config file to the models folder\n",
    "!cp /home/hassen/project/models/models/pre-trained_model/{pretrained_model_name}/pipeline.config /home/hassen/project/models/models/checkpoint\n",
    "print('pipeline.config file copied to checkpoint folder')"
   ],
   "metadata": {
    "collapsed": false,
    "pycharm": {
     "name": "#%%\n"
    }
   }
  },
  {
   "cell_type": "code",
   "execution_count": 59,
   "outputs": [
    {
     "name": "stderr",
     "output_type": "stream",
     "text": [
      "2022-12-03 17:59:56.298672: I tensorflow/core/platform/cpu_feature_guard.cc:193] This TensorFlow binary is optimized with oneAPI Deep Neural Network Library (oneDNN) to use the following CPU instructions in performance-critical operations:  AVX2 FMA\n",
      "To enable them in other operations, rebuild TensorFlow with the appropriate compiler flags.\n",
      "2022-12-03 17:59:56.620000: W tensorflow/compiler/xla/stream_executor/platform/default/dso_loader.cc:64] Could not load dynamic library 'libcudart.so.11.0'; dlerror: libcudart.so.11.0: cannot open shared object file: No such file or directory; LD_LIBRARY_PATH: :/usr/local/lib\n",
      "2022-12-03 17:59:56.620039: I tensorflow/compiler/xla/stream_executor/cuda/cudart_stub.cc:29] Ignore above cudart dlerror if you do not have a GPU set up on your machine.\n",
      "2022-12-03 17:59:58.258361: W tensorflow/compiler/xla/stream_executor/platform/default/dso_loader.cc:64] Could not load dynamic library 'libnvinfer.so.7'; dlerror: libnvinfer.so.7: cannot open shared object file: No such file or directory; LD_LIBRARY_PATH: :/usr/local/lib\n",
      "2022-12-03 17:59:58.258437: W tensorflow/compiler/xla/stream_executor/platform/default/dso_loader.cc:64] Could not load dynamic library 'libnvinfer_plugin.so.7'; dlerror: libnvinfer_plugin.so.7: cannot open shared object file: No such file or directory; LD_LIBRARY_PATH: :/usr/local/lib\n",
      "2022-12-03 17:59:58.258444: W tensorflow/compiler/tf2tensorrt/utils/py_utils.cc:38] TF-TRT Warning: Cannot dlopen some TensorRT libraries. If you would like to use Nvidia GPU with TensorRT, please make sure the missing libraries mentioned above are installed properly.\n"
     ]
    }
   ],
   "source": [
    "import tensorflow as tf\n",
    "from object_detection.utils import config_util\n",
    "from object_detection.protos import pipeline_pb2\n",
    "from google.protobuf import text_format"
   ],
   "metadata": {
    "collapsed": false,
    "pycharm": {
     "name": "#%%\n"
    }
   }
  },
  {
   "cell_type": "code",
   "execution_count": 60,
   "outputs": [],
   "source": [
    "config = config_util.get_configs_from_pipeline_file('/home/hassen/project/models/models/checkpoint/pipeline.config') # Get pipeline config"
   ],
   "metadata": {
    "collapsed": false,
    "pycharm": {
     "name": "#%%\n"
    }
   }
  },
  {
   "cell_type": "code",
   "execution_count": 61,
   "outputs": [
    {
     "data": {
      "text/plain": "{'model': ssd {\n   num_classes: 90\n   image_resizer {\n     fixed_shape_resizer {\n       height: 320\n       width: 320\n     }\n   }\n   feature_extractor {\n     type: \"ssd_mobilenet_v2_fpn_keras\"\n     depth_multiplier: 1.0\n     min_depth: 16\n     conv_hyperparams {\n       regularizer {\n         l2_regularizer {\n           weight: 3.9999998989515007e-05\n         }\n       }\n       initializer {\n         random_normal_initializer {\n           mean: 0.0\n           stddev: 0.009999999776482582\n         }\n       }\n       activation: RELU_6\n       batch_norm {\n         decay: 0.996999979019165\n         scale: true\n         epsilon: 0.0010000000474974513\n       }\n     }\n     use_depthwise: true\n     override_base_feature_extractor_hyperparams: true\n     fpn {\n       min_level: 3\n       max_level: 7\n       additional_layer_depth: 128\n     }\n   }\n   box_coder {\n     faster_rcnn_box_coder {\n       y_scale: 10.0\n       x_scale: 10.0\n       height_scale: 5.0\n       width_scale: 5.0\n     }\n   }\n   matcher {\n     argmax_matcher {\n       matched_threshold: 0.5\n       unmatched_threshold: 0.5\n       ignore_thresholds: false\n       negatives_lower_than_unmatched: true\n       force_match_for_each_row: true\n       use_matmul_gather: true\n     }\n   }\n   similarity_calculator {\n     iou_similarity {\n     }\n   }\n   box_predictor {\n     weight_shared_convolutional_box_predictor {\n       conv_hyperparams {\n         regularizer {\n           l2_regularizer {\n             weight: 3.9999998989515007e-05\n           }\n         }\n         initializer {\n           random_normal_initializer {\n             mean: 0.0\n             stddev: 0.009999999776482582\n           }\n         }\n         activation: RELU_6\n         batch_norm {\n           decay: 0.996999979019165\n           scale: true\n           epsilon: 0.0010000000474974513\n         }\n       }\n       depth: 128\n       num_layers_before_predictor: 4\n       kernel_size: 3\n       class_prediction_bias_init: -4.599999904632568\n       share_prediction_tower: true\n       use_depthwise: true\n     }\n   }\n   anchor_generator {\n     multiscale_anchor_generator {\n       min_level: 3\n       max_level: 7\n       anchor_scale: 4.0\n       aspect_ratios: 1.0\n       aspect_ratios: 2.0\n       aspect_ratios: 0.5\n       scales_per_octave: 2\n     }\n   }\n   post_processing {\n     batch_non_max_suppression {\n       score_threshold: 9.99999993922529e-09\n       iou_threshold: 0.6000000238418579\n       max_detections_per_class: 100\n       max_total_detections: 100\n       use_static_shapes: false\n     }\n     score_converter: SIGMOID\n   }\n   normalize_loss_by_num_matches: true\n   loss {\n     localization_loss {\n       weighted_smooth_l1 {\n       }\n     }\n     classification_loss {\n       weighted_sigmoid_focal {\n         gamma: 2.0\n         alpha: 0.25\n       }\n     }\n     classification_weight: 1.0\n     localization_weight: 1.0\n   }\n   encode_background_as_zeros: true\n   normalize_loc_loss_by_codesize: true\n   inplace_batchnorm_update: true\n   freeze_batchnorm: false\n },\n 'train_config': batch_size: 128\n data_augmentation_options {\n   random_horizontal_flip {\n   }\n }\n data_augmentation_options {\n   random_crop_image {\n     min_object_covered: 0.0\n     min_aspect_ratio: 0.75\n     max_aspect_ratio: 3.0\n     min_area: 0.75\n     max_area: 1.0\n     overlap_thresh: 0.0\n   }\n }\n sync_replicas: true\n optimizer {\n   momentum_optimizer {\n     learning_rate {\n       cosine_decay_learning_rate {\n         learning_rate_base: 0.07999999821186066\n         total_steps: 50000\n         warmup_learning_rate: 0.026666000485420227\n         warmup_steps: 1000\n       }\n     }\n     momentum_optimizer_value: 0.8999999761581421\n   }\n   use_moving_average: false\n }\n fine_tune_checkpoint: \"PATH_TO_BE_CONFIGURED\"\n num_steps: 50000\n startup_delay_steps: 0.0\n replicas_to_aggregate: 8\n max_number_of_boxes: 100\n unpad_groundtruth_tensors: false\n fine_tune_checkpoint_type: \"classification\"\n fine_tune_checkpoint_version: V2,\n 'train_input_config': label_map_path: \"PATH_TO_BE_CONFIGURED\"\n tf_record_input_reader {\n   input_path: \"PATH_TO_BE_CONFIGURED\"\n },\n 'eval_config': metrics_set: \"coco_detection_metrics\"\n use_moving_averages: false,\n 'eval_input_configs': [label_map_path: \"PATH_TO_BE_CONFIGURED\"\n shuffle: false\n num_epochs: 1\n tf_record_input_reader {\n   input_path: \"PATH_TO_BE_CONFIGURED\"\n }\n ],\n 'eval_input_config': label_map_path: \"PATH_TO_BE_CONFIGURED\"\n shuffle: false\n num_epochs: 1\n tf_record_input_reader {\n   input_path: \"PATH_TO_BE_CONFIGURED\"\n }}"
     },
     "execution_count": 61,
     "metadata": {},
     "output_type": "execute_result"
    }
   ],
   "source": [
    "config # Show pipeline config"
   ],
   "metadata": {
    "collapsed": false,
    "pycharm": {
     "name": "#%%\n"
    }
   }
  },
  {
   "cell_type": "code",
   "execution_count": 67,
   "outputs": [],
   "source": [
    "# Update pipeline config\n",
    "pipeline_config = pipeline_pb2.TrainEvalPipelineConfig() # Create pipeline config\n",
    "with tf.io.gfile.GFile('/home/hassen/project/models/models/checkpoint/pipeline.config', \"r\") as f: # Open pipeline config file\n",
    "    proto_str = f.read() # Read file\n",
    "    text_format.Merge(proto_str, pipeline_config) # Merge file"
   ],
   "metadata": {
    "collapsed": false,
    "pycharm": {
     "name": "#%%\n"
    }
   }
  },
  {
   "cell_type": "code",
   "execution_count": 69,
   "outputs": [],
   "source": [
    "pipeline_config.model.ssd.num_classes = len(labels) # Set number of classes\n",
    "pipeline_config.train_config.batch_size = 4 # Set batch size\n",
    "pipeline_config.train_config.fine_tune_checkpoint = os.path.join(os.getcwd(),'models', 'models' , 'pre-trained_model', pretrained_model_name, 'checkpoint', 'ckpt-0') # Set fine tune checkpoint\n",
    "pipeline_config.train_config.fine_tune_checkpoint_type = \"detection\" # Set fine tune checkpoint type\n",
    "pipeline_config.train_input_reader.label_map_path= os.path.join(os.getcwd(),'models', 'models' , 'annotations', 'label_map.pbtxt') # Set label map path\n",
    "pipeline_config.train_input_reader.tf_record_input_reader.input_path[:] = [os.path.join(os.getcwd(),'models', 'models' , 'annotations', 'train.record')] # Set train record path\n",
    "pipeline_config.eval_input_reader[0].label_map_path = os.path.join(os.getcwd(),'models', 'models' , 'annotations', 'label_map.pbtxt') # Set label map path\n",
    "pipeline_config.eval_input_reader[0].tf_record_input_reader.input_path[:] = [os.path.join(os.getcwd(),'models', 'models' , 'annotations', 'test.record')] # Set test record path"
   ],
   "metadata": {
    "collapsed": false,
    "pycharm": {
     "name": "#%%\n"
    }
   }
  },
  {
   "cell_type": "code",
   "execution_count": 70,
   "outputs": [],
   "source": [
    "config_text = text_format.MessageToString(pipeline_config) # Convert pipeline config to string\n",
    "with tf.io.gfile.GFile('/home/hassen/project/models/models/checkpoint/pipeline.config', \"wb\") as f: # Open pipeline config file\n",
    "    f.write(config_text) # Write config text to file"
   ],
   "metadata": {
    "collapsed": false,
    "pycharm": {
     "name": "#%%\n"
    }
   }
  },
  {
   "cell_type": "markdown",
   "source": [
    "# Train the model"
   ],
   "metadata": {
    "collapsed": false,
    "pycharm": {
     "name": "#%% md\n"
    }
   }
  },
  {
   "cell_type": "code",
   "execution_count": 71,
   "outputs": [],
   "source": [
    "training_script_path = os.path.join(os.getcwd(),'models', 'models' , 'research', 'object_detection', 'model_main_tf2.py') # Get training"
   ],
   "metadata": {
    "collapsed": false,
    "pycharm": {
     "name": "#%%\n"
    }
   }
  },
  {
   "cell_type": "code",
   "execution_count": 76,
   "outputs": [],
   "source": [
    "command = 'python {} --model_dir={} --pipeline_config_path={} --num_train_steps=1000'.format(training_script_path, '/home/hassen/project/models/models/checkpoint', '/home/hassen/project/models/models/checkpoint/pipeline.config') # Create training command"
   ],
   "metadata": {
    "collapsed": false,
    "pycharm": {
     "name": "#%%\n"
    }
   }
  },
  {
   "cell_type": "code",
   "execution_count": 77,
   "outputs": [
    {
     "data": {
      "text/plain": "'python /home/hassen/project/models/models/research/object_detection/model_main_tf2.py --model_dir=/home/hassen/project/models/models/checkpoint --pipeline_config_path=/home/hassen/project/models/models/checkpoint/pipeline.config --num_train_steps=1000'"
     },
     "execution_count": 77,
     "metadata": {},
     "output_type": "execute_result"
    }
   ],
   "source": [
    "command"
   ],
   "metadata": {
    "collapsed": false,
    "pycharm": {
     "name": "#%%\n"
    }
   }
  },
  {
   "cell_type": "code",
   "execution_count": 78,
   "outputs": [
    {
     "name": "stdout",
     "output_type": "stream",
     "text": [
      "2022-12-03 18:32:35.517077: I tensorflow/core/platform/cpu_feature_guard.cc:193] This TensorFlow binary is optimized with oneAPI Deep Neural Network Library (oneDNN) to use the following CPU instructions in performance-critical operations:  AVX2 FMA\r\n",
      "To enable them in other operations, rebuild TensorFlow with the appropriate compiler flags.\r\n",
      "2022-12-03 18:32:37.897782: W tensorflow/compiler/xla/stream_executor/platform/default/dso_loader.cc:64] Could not load dynamic library 'libcudart.so.11.0'; dlerror: libcudart.so.11.0: cannot open shared object file: No such file or directory; LD_LIBRARY_PATH: :/usr/local/lib\r\n",
      "2022-12-03 18:32:37.897868: I tensorflow/compiler/xla/stream_executor/cuda/cudart_stub.cc:29] Ignore above cudart dlerror if you do not have a GPU set up on your machine.\r\n",
      "2022-12-03 18:32:47.673141: W tensorflow/compiler/xla/stream_executor/platform/default/dso_loader.cc:64] Could not load dynamic library 'libnvinfer.so.7'; dlerror: libnvinfer.so.7: cannot open shared object file: No such file or directory; LD_LIBRARY_PATH: :/usr/local/lib\r\n",
      "2022-12-03 18:32:47.673482: W tensorflow/compiler/xla/stream_executor/platform/default/dso_loader.cc:64] Could not load dynamic library 'libnvinfer_plugin.so.7'; dlerror: libnvinfer_plugin.so.7: cannot open shared object file: No such file or directory; LD_LIBRARY_PATH: :/usr/local/lib\r\n",
      "2022-12-03 18:32:47.673523: W tensorflow/compiler/tf2tensorrt/utils/py_utils.cc:38] TF-TRT Warning: Cannot dlopen some TensorRT libraries. If you would like to use Nvidia GPU with TensorRT, please make sure the missing libraries mentioned above are installed properly.\r\n",
      "/home/hassen/pycharm-download/project/lib/python3.8/site-packages/tensorflow_addons/utils/ensure_tf_install.py:53: UserWarning: Tensorflow Addons supports using Python ops for all Tensorflow versions above or equal to 2.8.0 and strictly below 2.11.0 (nightly versions are not supported). \r\n",
      " The versions of TensorFlow you are currently using is 2.11.0 and is not supported. \r\n",
      "Some things might work, some things might not.\r\n",
      "If you were to encounter a bug, do not file an issue.\r\n",
      "If you want to make sure you're using a tested and supported configuration, either change the TensorFlow version or the TensorFlow Addons's version. \r\n",
      "You can find the compatibility matrix in TensorFlow Addon's readme:\r\n",
      "https://github.com/tensorflow/addons\r\n",
      "  warnings.warn(\r\n",
      "2022-12-03 18:32:59.757888: E tensorflow/compiler/xla/stream_executor/cuda/cuda_driver.cc:267] failed call to cuInit: CUDA_ERROR_NO_DEVICE: no CUDA-capable device is detected\r\n",
      "2022-12-03 18:32:59.757926: I tensorflow/compiler/xla/stream_executor/cuda/cuda_diagnostics.cc:156] kernel driver does not appear to be running on this host (hassen-OMEN-by-HP-Laptop): /proc/driver/nvidia/version does not exist\r\n",
      "2022-12-03 18:32:59.758462: I tensorflow/core/platform/cpu_feature_guard.cc:193] This TensorFlow binary is optimized with oneAPI Deep Neural Network Library (oneDNN) to use the following CPU instructions in performance-critical operations:  AVX2 FMA\r\n",
      "To enable them in other operations, rebuild TensorFlow with the appropriate compiler flags.\r\n",
      "WARNING:tensorflow:There are non-GPU devices in `tf.distribute.Strategy`, not using nccl allreduce.\r\n",
      "W1203 18:32:59.777320 139719172179776 cross_device_ops.py:1387] There are non-GPU devices in `tf.distribute.Strategy`, not using nccl allreduce.\r\n",
      "INFO:tensorflow:Using MirroredStrategy with devices ('/job:localhost/replica:0/task:0/device:CPU:0',)\r\n",
      "I1203 18:32:59.823492 139719172179776 mirrored_strategy.py:374] Using MirroredStrategy with devices ('/job:localhost/replica:0/task:0/device:CPU:0',)\r\n",
      "INFO:tensorflow:Maybe overwriting train_steps: 1000\r\n",
      "I1203 18:32:59.827071 139719172179776 config_util.py:552] Maybe overwriting train_steps: 1000\r\n",
      "INFO:tensorflow:Maybe overwriting use_bfloat16: False\r\n",
      "I1203 18:32:59.827186 139719172179776 config_util.py:552] Maybe overwriting use_bfloat16: False\r\n",
      "WARNING:tensorflow:From /home/hassen/pycharm-download/project/lib/python3.8/site-packages/object_detection/model_lib_v2.py:563: StrategyBase.experimental_distribute_datasets_from_function (from tensorflow.python.distribute.distribute_lib) is deprecated and will be removed in a future version.\r\n",
      "Instructions for updating:\r\n",
      "rename to distribute_datasets_from_function\r\n",
      "W1203 18:32:59.930389 139719172179776 deprecation.py:350] From /home/hassen/pycharm-download/project/lib/python3.8/site-packages/object_detection/model_lib_v2.py:563: StrategyBase.experimental_distribute_datasets_from_function (from tensorflow.python.distribute.distribute_lib) is deprecated and will be removed in a future version.\r\n",
      "Instructions for updating:\r\n",
      "rename to distribute_datasets_from_function\r\n",
      "INFO:tensorflow:Reading unweighted datasets: ['/home/hassen/project/models/models/annotations/train.record']\r\n",
      "I1203 18:32:59.973937 139719172179776 dataset_builder.py:162] Reading unweighted datasets: ['/home/hassen/project/models/models/annotations/train.record']\r\n",
      "INFO:tensorflow:Reading record datasets for input file: ['/home/hassen/project/models/models/annotations/train.record']\r\n",
      "I1203 18:32:59.974313 139719172179776 dataset_builder.py:79] Reading record datasets for input file: ['/home/hassen/project/models/models/annotations/train.record']\r\n",
      "INFO:tensorflow:Number of filenames to read: 1\r\n",
      "I1203 18:32:59.974560 139719172179776 dataset_builder.py:80] Number of filenames to read: 1\r\n",
      "WARNING:tensorflow:num_readers has been reduced to 1 to match input file shards.\r\n",
      "W1203 18:32:59.974771 139719172179776 dataset_builder.py:86] num_readers has been reduced to 1 to match input file shards.\r\n",
      "WARNING:tensorflow:From /home/hassen/pycharm-download/project/lib/python3.8/site-packages/object_detection/builders/dataset_builder.py:100: parallel_interleave (from tensorflow.python.data.experimental.ops.interleave_ops) is deprecated and will be removed in a future version.\r\n",
      "Instructions for updating:\r\n",
      "Use `tf.data.Dataset.interleave(map_func, cycle_length, block_length, num_parallel_calls=tf.data.AUTOTUNE)` instead. If sloppy execution is desired, use `tf.data.Options.deterministic`.\r\n",
      "W1203 18:32:59.985229 139719172179776 deprecation.py:350] From /home/hassen/pycharm-download/project/lib/python3.8/site-packages/object_detection/builders/dataset_builder.py:100: parallel_interleave (from tensorflow.python.data.experimental.ops.interleave_ops) is deprecated and will be removed in a future version.\r\n",
      "Instructions for updating:\r\n",
      "Use `tf.data.Dataset.interleave(map_func, cycle_length, block_length, num_parallel_calls=tf.data.AUTOTUNE)` instead. If sloppy execution is desired, use `tf.data.Options.deterministic`.\r\n",
      "WARNING:tensorflow:From /home/hassen/pycharm-download/project/lib/python3.8/site-packages/object_detection/builders/dataset_builder.py:235: DatasetV1.map_with_legacy_function (from tensorflow.python.data.ops.dataset_ops) is deprecated and will be removed in a future version.\r\n",
      "Instructions for updating:\r\n",
      "Use `tf.data.Dataset.map()\r\n",
      "W1203 18:33:00.005071 139719172179776 deprecation.py:350] From /home/hassen/pycharm-download/project/lib/python3.8/site-packages/object_detection/builders/dataset_builder.py:235: DatasetV1.map_with_legacy_function (from tensorflow.python.data.ops.dataset_ops) is deprecated and will be removed in a future version.\r\n",
      "Instructions for updating:\r\n",
      "Use `tf.data.Dataset.map()\r\n",
      "WARNING:tensorflow:From /home/hassen/pycharm-download/project/lib/python3.8/site-packages/tensorflow/python/autograph/pyct/static_analysis/liveness.py:83: Analyzer.lamba_check (from tensorflow.python.autograph.pyct.static_analysis.liveness) is deprecated and will be removed after 2023-09-23.\r\n",
      "Instructions for updating:\r\n",
      "Lambda fuctions will be no more assumed to be used in the statement where they are used, or at least in the same block. https://github.com/tensorflow/tensorflow/issues/56089\r\n",
      "W1203 18:33:00.534359 139719172179776 deprecation.py:350] From /home/hassen/pycharm-download/project/lib/python3.8/site-packages/tensorflow/python/autograph/pyct/static_analysis/liveness.py:83: Analyzer.lamba_check (from tensorflow.python.autograph.pyct.static_analysis.liveness) is deprecated and will be removed after 2023-09-23.\r\n",
      "Instructions for updating:\r\n",
      "Lambda fuctions will be no more assumed to be used in the statement where they are used, or at least in the same block. https://github.com/tensorflow/tensorflow/issues/56089\r\n",
      "WARNING:tensorflow:From /home/hassen/pycharm-download/project/lib/python3.8/site-packages/tensorflow/python/util/dispatch.py:1176: sparse_to_dense (from tensorflow.python.ops.sparse_ops) is deprecated and will be removed in a future version.\r\n",
      "Instructions for updating:\r\n",
      "Create a `tf.sparse.SparseTensor` and use `tf.sparse.to_dense` instead.\r\n",
      "W1203 18:33:05.085188 139719172179776 deprecation.py:350] From /home/hassen/pycharm-download/project/lib/python3.8/site-packages/tensorflow/python/util/dispatch.py:1176: sparse_to_dense (from tensorflow.python.ops.sparse_ops) is deprecated and will be removed in a future version.\r\n",
      "Instructions for updating:\r\n",
      "Create a `tf.sparse.SparseTensor` and use `tf.sparse.to_dense` instead.\r\n",
      "WARNING:tensorflow:From /home/hassen/pycharm-download/project/lib/python3.8/site-packages/tensorflow/python/util/dispatch.py:1176: sample_distorted_bounding_box (from tensorflow.python.ops.image_ops_impl) is deprecated and will be removed in a future version.\r\n",
      "Instructions for updating:\r\n",
      "`seed2` arg is deprecated.Use sample_distorted_bounding_box_v2 instead.\r\n",
      "W1203 18:33:07.770967 139719172179776 deprecation.py:350] From /home/hassen/pycharm-download/project/lib/python3.8/site-packages/tensorflow/python/util/dispatch.py:1176: sample_distorted_bounding_box (from tensorflow.python.ops.image_ops_impl) is deprecated and will be removed in a future version.\r\n",
      "Instructions for updating:\r\n",
      "`seed2` arg is deprecated.Use sample_distorted_bounding_box_v2 instead.\r\n",
      "WARNING:tensorflow:From /home/hassen/pycharm-download/project/lib/python3.8/site-packages/tensorflow/python/util/dispatch.py:1176: to_float (from tensorflow.python.ops.math_ops) is deprecated and will be removed in a future version.\r\n",
      "Instructions for updating:\r\n",
      "Use `tf.cast` instead.\r\n",
      "W1203 18:33:09.142471 139719172179776 deprecation.py:350] From /home/hassen/pycharm-download/project/lib/python3.8/site-packages/tensorflow/python/util/dispatch.py:1176: to_float (from tensorflow.python.ops.math_ops) is deprecated and will be removed in a future version.\r\n",
      "Instructions for updating:\r\n",
      "Use `tf.cast` instead.\r\n",
      "2022-12-03 18:33:11.099382: W tensorflow/core/framework/dataset.cc:769] Input of GeneratorDatasetOp::Dataset will not be optimized because the dataset does not implement the AsGraphDefInternal() method needed to apply optimizations.\r\n",
      "/home/hassen/pycharm-download/project/lib/python3.8/site-packages/keras/backend.py:451: UserWarning: `tf.keras.backend.set_learning_phase` is deprecated and will be removed after 2020-10-11. To update it, simply pass a True/False value to the `training` argument of the `__call__` method of your layer or model.\r\n",
      "  warnings.warn(\r\n",
      "WARNING:tensorflow:From /home/hassen/pycharm-download/project/lib/python3.8/site-packages/tensorflow/python/util/deprecation.py:629: calling map_fn_v2 (from tensorflow.python.ops.map_fn) with dtype is deprecated and will be removed in a future version.\r\n",
      "Instructions for updating:\r\n",
      "Use fn_output_signature instead\r\n",
      "W1203 18:33:28.377011 139714807981824 deprecation.py:554] From /home/hassen/pycharm-download/project/lib/python3.8/site-packages/tensorflow/python/util/deprecation.py:629: calling map_fn_v2 (from tensorflow.python.ops.map_fn) with dtype is deprecated and will be removed in a future version.\r\n",
      "Instructions for updating:\r\n",
      "Use fn_output_signature instead\r\n",
      "INFO:tensorflow:Step 100 per-step time 0.914s\r\n",
      "I1203 18:34:59.463970 139719172179776 model_lib_v2.py:705] Step 100 per-step time 0.914s\r\n",
      "INFO:tensorflow:{'Loss/classification_loss': 0.48897678,\r\n",
      " 'Loss/localization_loss': 0.6290147,\r\n",
      " 'Loss/regularization_loss': 0.15462767,\r\n",
      " 'Loss/total_loss': 1.2726191,\r\n",
      " 'learning_rate': 0.0319994}\r\n",
      "I1203 18:34:59.464209 139719172179776 model_lib_v2.py:708] {'Loss/classification_loss': 0.48897678,\r\n",
      " 'Loss/localization_loss': 0.6290147,\r\n",
      " 'Loss/regularization_loss': 0.15462767,\r\n",
      " 'Loss/total_loss': 1.2726191,\r\n",
      " 'learning_rate': 0.0319994}\r\n",
      "INFO:tensorflow:Step 200 per-step time 0.656s\r\n",
      "I1203 18:36:05.039700 139719172179776 model_lib_v2.py:705] Step 200 per-step time 0.656s\r\n",
      "INFO:tensorflow:{'Loss/classification_loss': 0.37866968,\r\n",
      " 'Loss/localization_loss': 0.5061149,\r\n",
      " 'Loss/regularization_loss': 0.15514073,\r\n",
      " 'Loss/total_loss': 1.0399253,\r\n",
      " 'learning_rate': 0.0373328}\r\n",
      "I1203 18:36:05.039896 139719172179776 model_lib_v2.py:708] {'Loss/classification_loss': 0.37866968,\r\n",
      " 'Loss/localization_loss': 0.5061149,\r\n",
      " 'Loss/regularization_loss': 0.15514073,\r\n",
      " 'Loss/total_loss': 1.0399253,\r\n",
      " 'learning_rate': 0.0373328}\r\n",
      "INFO:tensorflow:Step 300 per-step time 0.622s\r\n",
      "I1203 18:37:07.236395 139719172179776 model_lib_v2.py:705] Step 300 per-step time 0.622s\r\n",
      "INFO:tensorflow:{'Loss/classification_loss': 0.29605168,\r\n",
      " 'Loss/localization_loss': 0.33051485,\r\n",
      " 'Loss/regularization_loss': 0.15626273,\r\n",
      " 'Loss/total_loss': 0.7828293,\r\n",
      " 'learning_rate': 0.0426662}\r\n",
      "I1203 18:37:07.236649 139719172179776 model_lib_v2.py:708] {'Loss/classification_loss': 0.29605168,\r\n",
      " 'Loss/localization_loss': 0.33051485,\r\n",
      " 'Loss/regularization_loss': 0.15626273,\r\n",
      " 'Loss/total_loss': 0.7828293,\r\n",
      " 'learning_rate': 0.0426662}\r\n",
      "INFO:tensorflow:Step 400 per-step time 0.682s\r\n",
      "I1203 18:38:15.482593 139719172179776 model_lib_v2.py:705] Step 400 per-step time 0.682s\r\n",
      "INFO:tensorflow:{'Loss/classification_loss': 0.22075924,\r\n",
      " 'Loss/localization_loss': 0.18000576,\r\n",
      " 'Loss/regularization_loss': 0.1571892,\r\n",
      " 'Loss/total_loss': 0.5579542,\r\n",
      " 'learning_rate': 0.047999598}\r\n",
      "I1203 18:38:15.482791 139719172179776 model_lib_v2.py:708] {'Loss/classification_loss': 0.22075924,\r\n",
      " 'Loss/localization_loss': 0.18000576,\r\n",
      " 'Loss/regularization_loss': 0.1571892,\r\n",
      " 'Loss/total_loss': 0.5579542,\r\n",
      " 'learning_rate': 0.047999598}\r\n",
      "INFO:tensorflow:Step 500 per-step time 0.625s\r\n",
      "I1203 18:39:18.025500 139719172179776 model_lib_v2.py:705] Step 500 per-step time 0.625s\r\n",
      "INFO:tensorflow:{'Loss/classification_loss': 0.21018782,\r\n",
      " 'Loss/localization_loss': 0.19589841,\r\n",
      " 'Loss/regularization_loss': 0.15803806,\r\n",
      " 'Loss/total_loss': 0.5641243,\r\n",
      " 'learning_rate': 0.053333}\r\n",
      "I1203 18:39:18.025798 139719172179776 model_lib_v2.py:708] {'Loss/classification_loss': 0.21018782,\r\n",
      " 'Loss/localization_loss': 0.19589841,\r\n",
      " 'Loss/regularization_loss': 0.15803806,\r\n",
      " 'Loss/total_loss': 0.5641243,\r\n",
      " 'learning_rate': 0.053333}\r\n",
      "INFO:tensorflow:Step 600 per-step time 0.631s\r\n",
      "I1203 18:40:21.160244 139719172179776 model_lib_v2.py:705] Step 600 per-step time 0.631s\r\n",
      "INFO:tensorflow:{'Loss/classification_loss': 0.19058008,\r\n",
      " 'Loss/localization_loss': 0.18783373,\r\n",
      " 'Loss/regularization_loss': 0.15875031,\r\n",
      " 'Loss/total_loss': 0.5371641,\r\n",
      " 'learning_rate': 0.0586664}\r\n",
      "I1203 18:40:21.160444 139719172179776 model_lib_v2.py:708] {'Loss/classification_loss': 0.19058008,\r\n",
      " 'Loss/localization_loss': 0.18783373,\r\n",
      " 'Loss/regularization_loss': 0.15875031,\r\n",
      " 'Loss/total_loss': 0.5371641,\r\n",
      " 'learning_rate': 0.0586664}\r\n",
      "INFO:tensorflow:Step 700 per-step time 0.626s\r\n",
      "I1203 18:41:23.734082 139719172179776 model_lib_v2.py:705] Step 700 per-step time 0.626s\r\n",
      "INFO:tensorflow:{'Loss/classification_loss': 0.27799484,\r\n",
      " 'Loss/localization_loss': 0.3376499,\r\n",
      " 'Loss/regularization_loss': 0.15926945,\r\n",
      " 'Loss/total_loss': 0.7749142,\r\n",
      " 'learning_rate': 0.0639998}\r\n",
      "I1203 18:41:23.734335 139719172179776 model_lib_v2.py:708] {'Loss/classification_loss': 0.27799484,\r\n",
      " 'Loss/localization_loss': 0.3376499,\r\n",
      " 'Loss/regularization_loss': 0.15926945,\r\n",
      " 'Loss/total_loss': 0.7749142,\r\n",
      " 'learning_rate': 0.0639998}\r\n",
      "INFO:tensorflow:Step 800 per-step time 0.633s\r\n",
      "I1203 18:42:27.056905 139719172179776 model_lib_v2.py:705] Step 800 per-step time 0.633s\r\n",
      "INFO:tensorflow:{'Loss/classification_loss': 0.12543249,\r\n",
      " 'Loss/localization_loss': 0.09948314,\r\n",
      " 'Loss/regularization_loss': 0.15967941,\r\n",
      " 'Loss/total_loss': 0.38459504,\r\n",
      " 'learning_rate': 0.069333196}\r\n",
      "I1203 18:42:27.057172 139719172179776 model_lib_v2.py:708] {'Loss/classification_loss': 0.12543249,\r\n",
      " 'Loss/localization_loss': 0.09948314,\r\n",
      " 'Loss/regularization_loss': 0.15967941,\r\n",
      " 'Loss/total_loss': 0.38459504,\r\n",
      " 'learning_rate': 0.069333196}\r\n",
      "INFO:tensorflow:Step 900 per-step time 0.670s\r\n",
      "I1203 18:43:34.055198 139719172179776 model_lib_v2.py:705] Step 900 per-step time 0.670s\r\n",
      "INFO:tensorflow:{'Loss/classification_loss': 0.18432812,\r\n",
      " 'Loss/localization_loss': 0.15236975,\r\n",
      " 'Loss/regularization_loss': 0.15978318,\r\n",
      " 'Loss/total_loss': 0.49648106,\r\n",
      " 'learning_rate': 0.074666604}\r\n",
      "I1203 18:43:34.055474 139719172179776 model_lib_v2.py:708] {'Loss/classification_loss': 0.18432812,\r\n",
      " 'Loss/localization_loss': 0.15236975,\r\n",
      " 'Loss/regularization_loss': 0.15978318,\r\n",
      " 'Loss/total_loss': 0.49648106,\r\n",
      " 'learning_rate': 0.074666604}\r\n",
      "INFO:tensorflow:Step 1000 per-step time 0.699s\r\n",
      "I1203 18:44:43.916031 139719172179776 model_lib_v2.py:705] Step 1000 per-step time 0.699s\r\n",
      "INFO:tensorflow:{'Loss/classification_loss': 0.19944438,\r\n",
      " 'Loss/localization_loss': 0.19023456,\r\n",
      " 'Loss/regularization_loss': 0.15998177,\r\n",
      " 'Loss/total_loss': 0.5496607,\r\n",
      " 'learning_rate': 0.08}\r\n",
      "I1203 18:44:43.916257 139719172179776 model_lib_v2.py:708] {'Loss/classification_loss': 0.19944438,\r\n",
      " 'Loss/localization_loss': 0.19023456,\r\n",
      " 'Loss/regularization_loss': 0.15998177,\r\n",
      " 'Loss/total_loss': 0.5496607,\r\n",
      " 'learning_rate': 0.08}\r\n"
     ]
    }
   ],
   "source": [
    "# Execute training command\n",
    "!{command}"
   ],
   "metadata": {
    "collapsed": false,
    "pycharm": {
     "name": "#%%\n"
    }
   }
  },
  {
   "cell_type": "code",
   "execution_count": null,
   "outputs": [],
   "source": [
    "#in case the command above returns an error\n",
    "!pip install \"opencv-python-headless<4.3\""
   ],
   "metadata": {
    "collapsed": false,
    "pycharm": {
     "name": "#%%\n"
    }
   }
  },
  {
   "cell_type": "markdown",
   "source": [
    "# evaluate the model"
   ],
   "metadata": {
    "collapsed": false,
    "pycharm": {
     "name": "#%% md\n"
    }
   }
  },
  {
   "cell_type": "code",
   "execution_count": 79,
   "outputs": [],
   "source": [
    "command = 'python {} --model_dir={} --pipeline_config_path={} --checkpoint_dir={}'.format(training_script_path, '/home/hassen/project/models/models/checkpoint', '/home/hassen/project/models/models/checkpoint/pipeline.config', '/home/hassen/project/models/models/checkpoint') # Create training command"
   ],
   "metadata": {
    "collapsed": false,
    "pycharm": {
     "name": "#%%\n"
    }
   }
  },
  {
   "cell_type": "code",
   "execution_count": 80,
   "outputs": [
    {
     "data": {
      "text/plain": "'python /home/hassen/project/models/models/research/object_detection/model_main_tf2.py --model_dir=/home/hassen/project/models/models/checkpoint --pipeline_config_path=/home/hassen/project/models/models/checkpoint/pipeline.config --checkpoint_dir=/home/hassen/project/models/models/checkpoint'"
     },
     "execution_count": 80,
     "metadata": {},
     "output_type": "execute_result"
    }
   ],
   "source": [
    "command"
   ],
   "metadata": {
    "collapsed": false,
    "pycharm": {
     "name": "#%%\n"
    }
   }
  },
  {
   "cell_type": "code",
   "execution_count": 81,
   "outputs": [
    {
     "name": "stdout",
     "output_type": "stream",
     "text": [
      "2022-12-03 18:47:12.205223: I tensorflow/core/platform/cpu_feature_guard.cc:193] This TensorFlow binary is optimized with oneAPI Deep Neural Network Library (oneDNN) to use the following CPU instructions in performance-critical operations:  AVX2 FMA\r\n",
      "To enable them in other operations, rebuild TensorFlow with the appropriate compiler flags.\r\n",
      "2022-12-03 18:47:12.362150: W tensorflow/compiler/xla/stream_executor/platform/default/dso_loader.cc:64] Could not load dynamic library 'libcudart.so.11.0'; dlerror: libcudart.so.11.0: cannot open shared object file: No such file or directory; LD_LIBRARY_PATH: :/usr/local/lib\r\n",
      "2022-12-03 18:47:12.362172: I tensorflow/compiler/xla/stream_executor/cuda/cudart_stub.cc:29] Ignore above cudart dlerror if you do not have a GPU set up on your machine.\r\n",
      "2022-12-03 18:47:13.341959: W tensorflow/compiler/xla/stream_executor/platform/default/dso_loader.cc:64] Could not load dynamic library 'libnvinfer.so.7'; dlerror: libnvinfer.so.7: cannot open shared object file: No such file or directory; LD_LIBRARY_PATH: :/usr/local/lib\r\n",
      "2022-12-03 18:47:13.342051: W tensorflow/compiler/xla/stream_executor/platform/default/dso_loader.cc:64] Could not load dynamic library 'libnvinfer_plugin.so.7'; dlerror: libnvinfer_plugin.so.7: cannot open shared object file: No such file or directory; LD_LIBRARY_PATH: :/usr/local/lib\r\n",
      "2022-12-03 18:47:13.342061: W tensorflow/compiler/tf2tensorrt/utils/py_utils.cc:38] TF-TRT Warning: Cannot dlopen some TensorRT libraries. If you would like to use Nvidia GPU with TensorRT, please make sure the missing libraries mentioned above are installed properly.\r\n",
      "/home/hassen/pycharm-download/project/lib/python3.8/site-packages/tensorflow_addons/utils/ensure_tf_install.py:53: UserWarning: Tensorflow Addons supports using Python ops for all Tensorflow versions above or equal to 2.8.0 and strictly below 2.11.0 (nightly versions are not supported). \r\n",
      " The versions of TensorFlow you are currently using is 2.11.0 and is not supported. \r\n",
      "Some things might work, some things might not.\r\n",
      "If you were to encounter a bug, do not file an issue.\r\n",
      "If you want to make sure you're using a tested and supported configuration, either change the TensorFlow version or the TensorFlow Addons's version. \r\n",
      "You can find the compatibility matrix in TensorFlow Addon's readme:\r\n",
      "https://github.com/tensorflow/addons\r\n",
      "  warnings.warn(\r\n",
      "2022-12-03 18:47:14.999050: E tensorflow/compiler/xla/stream_executor/cuda/cuda_driver.cc:267] failed call to cuInit: CUDA_ERROR_NO_DEVICE: no CUDA-capable device is detected\r\n",
      "2022-12-03 18:47:14.999079: I tensorflow/compiler/xla/stream_executor/cuda/cuda_diagnostics.cc:156] kernel driver does not appear to be running on this host (hassen-OMEN-by-HP-Laptop): /proc/driver/nvidia/version does not exist\r\n",
      "WARNING:tensorflow:Forced number of epochs for all eval validations to be 1.\r\n",
      "W1203 18:47:15.002132 140130296211264 model_lib_v2.py:1089] Forced number of epochs for all eval validations to be 1.\r\n",
      "INFO:tensorflow:Maybe overwriting sample_1_of_n_eval_examples: None\r\n",
      "I1203 18:47:15.002330 140130296211264 config_util.py:552] Maybe overwriting sample_1_of_n_eval_examples: None\r\n",
      "INFO:tensorflow:Maybe overwriting use_bfloat16: False\r\n",
      "I1203 18:47:15.002385 140130296211264 config_util.py:552] Maybe overwriting use_bfloat16: False\r\n",
      "INFO:tensorflow:Maybe overwriting eval_num_epochs: 1\r\n",
      "I1203 18:47:15.002473 140130296211264 config_util.py:552] Maybe overwriting eval_num_epochs: 1\r\n",
      "WARNING:tensorflow:Expected number of evaluation epochs is 1, but instead encountered `eval_on_train_input_config.num_epochs` = 0. Overwriting `num_epochs` to 1.\r\n",
      "W1203 18:47:15.002541 140130296211264 model_lib_v2.py:1106] Expected number of evaluation epochs is 1, but instead encountered `eval_on_train_input_config.num_epochs` = 0. Overwriting `num_epochs` to 1.\r\n",
      "2022-12-03 18:47:15.005778: I tensorflow/core/platform/cpu_feature_guard.cc:193] This TensorFlow binary is optimized with oneAPI Deep Neural Network Library (oneDNN) to use the following CPU instructions in performance-critical operations:  AVX2 FMA\r\n",
      "To enable them in other operations, rebuild TensorFlow with the appropriate compiler flags.\r\n",
      "INFO:tensorflow:Reading unweighted datasets: ['/home/hassen/project/models/models/annotations/test.record']\r\n",
      "I1203 18:47:15.135466 140130296211264 dataset_builder.py:162] Reading unweighted datasets: ['/home/hassen/project/models/models/annotations/test.record']\r\n",
      "INFO:tensorflow:Reading record datasets for input file: ['/home/hassen/project/models/models/annotations/test.record']\r\n",
      "I1203 18:47:15.135797 140130296211264 dataset_builder.py:79] Reading record datasets for input file: ['/home/hassen/project/models/models/annotations/test.record']\r\n",
      "INFO:tensorflow:Number of filenames to read: 1\r\n",
      "I1203 18:47:15.135919 140130296211264 dataset_builder.py:80] Number of filenames to read: 1\r\n",
      "WARNING:tensorflow:num_readers has been reduced to 1 to match input file shards.\r\n",
      "W1203 18:47:15.136011 140130296211264 dataset_builder.py:86] num_readers has been reduced to 1 to match input file shards.\r\n",
      "WARNING:tensorflow:From /home/hassen/pycharm-download/project/lib/python3.8/site-packages/object_detection/builders/dataset_builder.py:100: parallel_interleave (from tensorflow.python.data.experimental.ops.interleave_ops) is deprecated and will be removed in a future version.\r\n",
      "Instructions for updating:\r\n",
      "Use `tf.data.Dataset.interleave(map_func, cycle_length, block_length, num_parallel_calls=tf.data.AUTOTUNE)` instead. If sloppy execution is desired, use `tf.data.Options.deterministic`.\r\n",
      "W1203 18:47:15.138708 140130296211264 deprecation.py:350] From /home/hassen/pycharm-download/project/lib/python3.8/site-packages/object_detection/builders/dataset_builder.py:100: parallel_interleave (from tensorflow.python.data.experimental.ops.interleave_ops) is deprecated and will be removed in a future version.\r\n",
      "Instructions for updating:\r\n",
      "Use `tf.data.Dataset.interleave(map_func, cycle_length, block_length, num_parallel_calls=tf.data.AUTOTUNE)` instead. If sloppy execution is desired, use `tf.data.Options.deterministic`.\r\n",
      "WARNING:tensorflow:From /home/hassen/pycharm-download/project/lib/python3.8/site-packages/object_detection/builders/dataset_builder.py:235: DatasetV1.map_with_legacy_function (from tensorflow.python.data.ops.dataset_ops) is deprecated and will be removed in a future version.\r\n",
      "Instructions for updating:\r\n",
      "Use `tf.data.Dataset.map()\r\n",
      "W1203 18:47:15.153050 140130296211264 deprecation.py:350] From /home/hassen/pycharm-download/project/lib/python3.8/site-packages/object_detection/builders/dataset_builder.py:235: DatasetV1.map_with_legacy_function (from tensorflow.python.data.ops.dataset_ops) is deprecated and will be removed in a future version.\r\n",
      "Instructions for updating:\r\n",
      "Use `tf.data.Dataset.map()\r\n",
      "WARNING:tensorflow:From /home/hassen/pycharm-download/project/lib/python3.8/site-packages/tensorflow/python/autograph/pyct/static_analysis/liveness.py:83: Analyzer.lamba_check (from tensorflow.python.autograph.pyct.static_analysis.liveness) is deprecated and will be removed after 2023-09-23.\r\n",
      "Instructions for updating:\r\n",
      "Lambda fuctions will be no more assumed to be used in the statement where they are used, or at least in the same block. https://github.com/tensorflow/tensorflow/issues/56089\r\n",
      "W1203 18:47:15.533391 140130296211264 deprecation.py:350] From /home/hassen/pycharm-download/project/lib/python3.8/site-packages/tensorflow/python/autograph/pyct/static_analysis/liveness.py:83: Analyzer.lamba_check (from tensorflow.python.autograph.pyct.static_analysis.liveness) is deprecated and will be removed after 2023-09-23.\r\n",
      "Instructions for updating:\r\n",
      "Lambda fuctions will be no more assumed to be used in the statement where they are used, or at least in the same block. https://github.com/tensorflow/tensorflow/issues/56089\r\n",
      "WARNING:tensorflow:From /home/hassen/pycharm-download/project/lib/python3.8/site-packages/tensorflow/python/util/dispatch.py:1176: sparse_to_dense (from tensorflow.python.ops.sparse_ops) is deprecated and will be removed in a future version.\r\n",
      "Instructions for updating:\r\n",
      "Create a `tf.sparse.SparseTensor` and use `tf.sparse.to_dense` instead.\r\n",
      "W1203 18:47:18.367550 140130296211264 deprecation.py:350] From /home/hassen/pycharm-download/project/lib/python3.8/site-packages/tensorflow/python/util/dispatch.py:1176: sparse_to_dense (from tensorflow.python.ops.sparse_ops) is deprecated and will be removed in a future version.\r\n",
      "Instructions for updating:\r\n",
      "Create a `tf.sparse.SparseTensor` and use `tf.sparse.to_dense` instead.\r\n",
      "WARNING:tensorflow:From /home/hassen/pycharm-download/project/lib/python3.8/site-packages/tensorflow/python/util/dispatch.py:1176: to_float (from tensorflow.python.ops.math_ops) is deprecated and will be removed in a future version.\r\n",
      "Instructions for updating:\r\n",
      "Use `tf.cast` instead.\r\n",
      "W1203 18:47:19.328635 140130296211264 deprecation.py:350] From /home/hassen/pycharm-download/project/lib/python3.8/site-packages/tensorflow/python/util/dispatch.py:1176: to_float (from tensorflow.python.ops.math_ops) is deprecated and will be removed in a future version.\r\n",
      "Instructions for updating:\r\n",
      "Use `tf.cast` instead.\r\n",
      "INFO:tensorflow:Waiting for new checkpoint at /home/hassen/project/models/models/checkpoint\r\n",
      "I1203 18:47:22.183441 140130296211264 checkpoint_utils.py:140] Waiting for new checkpoint at /home/hassen/project/models/models/checkpoint\r\n",
      "INFO:tensorflow:Found new checkpoint at /home/hassen/project/models/models/checkpoint/ckpt-3\r\n",
      "I1203 18:47:22.185855 140130296211264 checkpoint_utils.py:149] Found new checkpoint at /home/hassen/project/models/models/checkpoint/ckpt-3\r\n",
      "/home/hassen/pycharm-download/project/lib/python3.8/site-packages/keras/backend.py:451: UserWarning: `tf.keras.backend.set_learning_phase` is deprecated and will be removed after 2020-10-11. To update it, simply pass a True/False value to the `training` argument of the `__call__` method of your layer or model.\r\n",
      "  warnings.warn(\r\n",
      "WARNING:tensorflow:From /home/hassen/pycharm-download/project/lib/python3.8/site-packages/tensorflow/python/util/dispatch.py:1176: to_int64 (from tensorflow.python.ops.math_ops) is deprecated and will be removed in a future version.\r\n",
      "Instructions for updating:\r\n",
      "Use `tf.cast` instead.\r\n",
      "W1203 18:47:47.430666 140130296211264 deprecation.py:350] From /home/hassen/pycharm-download/project/lib/python3.8/site-packages/tensorflow/python/util/dispatch.py:1176: to_int64 (from tensorflow.python.ops.math_ops) is deprecated and will be removed in a future version.\r\n",
      "Instructions for updating:\r\n",
      "Use `tf.cast` instead.\r\n",
      "INFO:tensorflow:Finished eval step 0\r\n",
      "I1203 18:47:47.469282 140130296211264 model_lib_v2.py:966] Finished eval step 0\r\n",
      "WARNING:tensorflow:From /home/hassen/pycharm-download/project/lib/python3.8/site-packages/tensorflow/python/autograph/impl/api.py:459: py_func (from tensorflow.python.ops.script_ops) is deprecated and will be removed in a future version.\r\n",
      "Instructions for updating:\r\n",
      "tf.py_func is deprecated in TF V2. Instead, there are two\r\n",
      "    options available in V2.\r\n",
      "    - tf.py_function takes a python function which manipulates tf eager\r\n",
      "    tensors instead of numpy arrays. It's easy to convert a tf eager tensor to\r\n",
      "    an ndarray (just call tensor.numpy()) but having access to eager tensors\r\n",
      "    means `tf.py_function`s can use accelerators such as GPUs as well as\r\n",
      "    being differentiable using a gradient tape.\r\n",
      "    - tf.numpy_function maintains the semantics of the deprecated tf.py_func\r\n",
      "    (it is not differentiable, and manipulates numpy arrays). It drops the\r\n",
      "    stateful argument making all functions stateful.\r\n",
      "    \r\n",
      "W1203 18:47:47.647764 140130296211264 deprecation.py:350] From /home/hassen/pycharm-download/project/lib/python3.8/site-packages/tensorflow/python/autograph/impl/api.py:459: py_func (from tensorflow.python.ops.script_ops) is deprecated and will be removed in a future version.\r\n",
      "Instructions for updating:\r\n",
      "tf.py_func is deprecated in TF V2. Instead, there are two\r\n",
      "    options available in V2.\r\n",
      "    - tf.py_function takes a python function which manipulates tf eager\r\n",
      "    tensors instead of numpy arrays. It's easy to convert a tf eager tensor to\r\n",
      "    an ndarray (just call tensor.numpy()) but having access to eager tensors\r\n",
      "    means `tf.py_function`s can use accelerators such as GPUs as well as\r\n",
      "    being differentiable using a gradient tape.\r\n",
      "    - tf.numpy_function maintains the semantics of the deprecated tf.py_func\r\n",
      "    (it is not differentiable, and manipulates numpy arrays). It drops the\r\n",
      "    stateful argument making all functions stateful.\r\n",
      "    \r\n",
      "INFO:tensorflow:Performing evaluation on 21 images.\r\n",
      "I1203 18:47:50.208237 140130296211264 coco_evaluation.py:293] Performing evaluation on 21 images.\r\n",
      "creating index...\r\n",
      "index created!\r\n",
      "INFO:tensorflow:Loading and preparing annotation results...\r\n",
      "I1203 18:47:50.212304 140130296211264 coco_tools.py:116] Loading and preparing annotation results...\r\n",
      "INFO:tensorflow:DONE (t=0.00s)\r\n",
      "I1203 18:47:50.213347 140130296211264 coco_tools.py:138] DONE (t=0.00s)\r\n",
      "creating index...\r\n",
      "index created!\r\n",
      "Running per image evaluation...\r\n",
      "Evaluate annotation type *bbox*\r\n",
      "DONE (t=0.12s).\r\n",
      "Accumulating evaluation results...\r\n",
      "DONE (t=0.03s).\r\n",
      " Average Precision  (AP) @[ IoU=0.50:0.95 | area=   all | maxDets=100 ] = 0.390\r\n",
      " Average Precision  (AP) @[ IoU=0.50      | area=   all | maxDets=100 ] = 0.738\r\n",
      " Average Precision  (AP) @[ IoU=0.75      | area=   all | maxDets=100 ] = 0.482\r\n",
      " Average Precision  (AP) @[ IoU=0.50:0.95 | area= small | maxDets=100 ] = 0.117\r\n",
      " Average Precision  (AP) @[ IoU=0.50:0.95 | area=medium | maxDets=100 ] = 0.400\r\n",
      " Average Precision  (AP) @[ IoU=0.50:0.95 | area= large | maxDets=100 ] = 0.418\r\n",
      " Average Recall     (AR) @[ IoU=0.50:0.95 | area=   all | maxDets=  1 ] = 0.300\r\n",
      " Average Recall     (AR) @[ IoU=0.50:0.95 | area=   all | maxDets= 10 ] = 0.497\r\n",
      " Average Recall     (AR) @[ IoU=0.50:0.95 | area=   all | maxDets=100 ] = 0.543\r\n",
      " Average Recall     (AR) @[ IoU=0.50:0.95 | area= small | maxDets=100 ] = 0.300\r\n",
      " Average Recall     (AR) @[ IoU=0.50:0.95 | area=medium | maxDets=100 ] = 0.573\r\n",
      " Average Recall     (AR) @[ IoU=0.50:0.95 | area= large | maxDets=100 ] = 0.532\r\n",
      "INFO:tensorflow:Eval metrics at step 1000\r\n",
      "I1203 18:47:50.391627 140130296211264 model_lib_v2.py:1015] Eval metrics at step 1000\r\n",
      "INFO:tensorflow:\t+ DetectionBoxes_Precision/mAP: 0.390432\r\n",
      "I1203 18:47:50.397137 140130296211264 model_lib_v2.py:1018] \t+ DetectionBoxes_Precision/mAP: 0.390432\r\n",
      "INFO:tensorflow:\t+ DetectionBoxes_Precision/mAP@.50IOU: 0.737603\r\n",
      "I1203 18:47:50.398369 140130296211264 model_lib_v2.py:1018] \t+ DetectionBoxes_Precision/mAP@.50IOU: 0.737603\r\n",
      "INFO:tensorflow:\t+ DetectionBoxes_Precision/mAP@.75IOU: 0.481641\r\n",
      "I1203 18:47:50.399611 140130296211264 model_lib_v2.py:1018] \t+ DetectionBoxes_Precision/mAP@.75IOU: 0.481641\r\n",
      "INFO:tensorflow:\t+ DetectionBoxes_Precision/mAP (small): 0.116667\r\n",
      "I1203 18:47:50.400418 140130296211264 model_lib_v2.py:1018] \t+ DetectionBoxes_Precision/mAP (small): 0.116667\r\n",
      "INFO:tensorflow:\t+ DetectionBoxes_Precision/mAP (medium): 0.399858\r\n",
      "I1203 18:47:50.401061 140130296211264 model_lib_v2.py:1018] \t+ DetectionBoxes_Precision/mAP (medium): 0.399858\r\n",
      "INFO:tensorflow:\t+ DetectionBoxes_Precision/mAP (large): 0.417915\r\n",
      "I1203 18:47:50.401789 140130296211264 model_lib_v2.py:1018] \t+ DetectionBoxes_Precision/mAP (large): 0.417915\r\n",
      "INFO:tensorflow:\t+ DetectionBoxes_Recall/AR@1: 0.300000\r\n",
      "I1203 18:47:50.402830 140130296211264 model_lib_v2.py:1018] \t+ DetectionBoxes_Recall/AR@1: 0.300000\r\n",
      "INFO:tensorflow:\t+ DetectionBoxes_Recall/AR@10: 0.497143\r\n",
      "I1203 18:47:50.403986 140130296211264 model_lib_v2.py:1018] \t+ DetectionBoxes_Recall/AR@10: 0.497143\r\n",
      "INFO:tensorflow:\t+ DetectionBoxes_Recall/AR@100: 0.542857\r\n",
      "I1203 18:47:50.404901 140130296211264 model_lib_v2.py:1018] \t+ DetectionBoxes_Recall/AR@100: 0.542857\r\n",
      "INFO:tensorflow:\t+ DetectionBoxes_Recall/AR@100 (small): 0.300000\r\n",
      "I1203 18:47:50.405682 140130296211264 model_lib_v2.py:1018] \t+ DetectionBoxes_Recall/AR@100 (small): 0.300000\r\n",
      "INFO:tensorflow:\t+ DetectionBoxes_Recall/AR@100 (medium): 0.573333\r\n",
      "I1203 18:47:50.406570 140130296211264 model_lib_v2.py:1018] \t+ DetectionBoxes_Recall/AR@100 (medium): 0.573333\r\n",
      "INFO:tensorflow:\t+ DetectionBoxes_Recall/AR@100 (large): 0.531579\r\n",
      "I1203 18:47:50.407443 140130296211264 model_lib_v2.py:1018] \t+ DetectionBoxes_Recall/AR@100 (large): 0.531579\r\n",
      "INFO:tensorflow:\t+ Loss/localization_loss: 0.250977\r\n",
      "I1203 18:47:50.408094 140130296211264 model_lib_v2.py:1018] \t+ Loss/localization_loss: 0.250977\r\n",
      "INFO:tensorflow:\t+ Loss/classification_loss: 0.344149\r\n",
      "I1203 18:47:50.408578 140130296211264 model_lib_v2.py:1018] \t+ Loss/classification_loss: 0.344149\r\n",
      "INFO:tensorflow:\t+ Loss/regularization_loss: 0.159984\r\n",
      "I1203 18:47:50.409090 140130296211264 model_lib_v2.py:1018] \t+ Loss/regularization_loss: 0.159984\r\n",
      "INFO:tensorflow:\t+ Loss/total_loss: 0.755111\r\n",
      "I1203 18:47:50.409830 140130296211264 model_lib_v2.py:1018] \t+ Loss/total_loss: 0.755111\r\n",
      "^C\r\n",
      "Traceback (most recent call last):\r\n",
      "  File \"/home/hassen/project/models/models/research/object_detection/model_main_tf2.py\", line 114, in <module>\r\n",
      "    tf.compat.v1.app.run()\r\n",
      "  File \"/home/hassen/pycharm-download/project/lib/python3.8/site-packages/tensorflow/python/platform/app.py\", line 36, in run\r\n",
      "    _run(main=main, argv=argv, flags_parser=_parse_flags_tolerate_undef)\r\n",
      "  File \"/home/hassen/pycharm-download/project/lib/python3.8/site-packages/absl/app.py\", line 308, in run\r\n",
      "    _run_main(main, args)\r\n",
      "  File \"/home/hassen/pycharm-download/project/lib/python3.8/site-packages/absl/app.py\", line 254, in _run_main\r\n",
      "    sys.exit(main(argv))\r\n",
      "  File \"/home/hassen/project/models/models/research/object_detection/model_main_tf2.py\", line 81, in main\r\n",
      "    model_lib_v2.eval_continuously(\r\n",
      "  File \"/home/hassen/pycharm-download/project/lib/python3.8/site-packages/object_detection/model_lib_v2.py\", line 1135, in eval_continuously\r\n",
      "    for latest_checkpoint in tf.train.checkpoints_iterator(\r\n",
      "  File \"/home/hassen/pycharm-download/project/lib/python3.8/site-packages/tensorflow/python/training/checkpoint_utils.py\", line 216, in checkpoints_iterator\r\n",
      "    time.sleep(time_to_next_eval)\r\n",
      "KeyboardInterrupt\r\n"
     ]
    }
   ],
   "source": [
    "# Execute training command\n",
    "!{command}"
   ],
   "metadata": {
    "collapsed": false,
    "pycharm": {
     "name": "#%%\n"
    }
   }
  },
  {
   "cell_type": "code",
   "execution_count": 82,
   "outputs": [
    {
     "name": "stderr",
     "output_type": "stream",
     "text": [
      "/home/hassen/pycharm-download/project/lib/python3.8/site-packages/tensorflow_addons/utils/ensure_tf_install.py:53: UserWarning: Tensorflow Addons supports using Python ops for all Tensorflow versions above or equal to 2.8.0 and strictly below 2.11.0 (nightly versions are not supported). \n",
      " The versions of TensorFlow you are currently using is 2.11.0 and is not supported. \n",
      "Some things might work, some things might not.\n",
      "If you were to encounter a bug, do not file an issue.\n",
      "If you want to make sure you're using a tested and supported configuration, either change the TensorFlow version or the TensorFlow Addons's version. \n",
      "You can find the compatibility matrix in TensorFlow Addon's readme:\n",
      "https://github.com/tensorflow/addons\n",
      "  warnings.warn(\n"
     ]
    }
   ],
   "source": [
    "import os\n",
    "import tensorflow as tf\n",
    "from object_detection.utils import label_map_util\n",
    "from object_detection.utils import visualization_utils as viz_utils\n",
    "from object_detection.builders import model_builder\n",
    "from object_detection.utils import config_util"
   ],
   "metadata": {
    "collapsed": false,
    "pycharm": {
     "name": "#%%\n"
    }
   }
  },
  {
   "cell_type": "code",
   "execution_count": 103,
   "outputs": [],
   "source": [
    "# Load pipeline config and build a detection model\n",
    "configs = config_util.get_configs_from_pipeline_file('/home/hassen/project/models/models/checkpoint/pipeline.config')\n",
    "detection_model = model_builder.build(model_config=configs['model'], is_training=False)\n",
    "\n",
    "# Restore checkpoint\n",
    "ckpt = tf.compat.v2.train.Checkpoint(model=detection_model)\n",
    "ckpt.restore(os.path.join('/home/hassen/project/models/models/checkpoint', 'ckpt-3')).expect_partial()\n",
    "\n",
    "@tf.function\n",
    "def detect_fn(image):\n",
    "    \"\"\"Detect objects in image.\"\"\"\n",
    "\n",
    "    image, shapes = detection_model.preprocess(image)\n",
    "    prediction_dict = detection_model.predict(image, shapes)\n",
    "    detections = detection_model.postprocess(prediction_dict, shapes)\n",
    "\n",
    "    return detections"
   ],
   "metadata": {
    "collapsed": false,
    "pycharm": {
     "name": "#%%\n"
    }
   }
  },
  {
   "cell_type": "code",
   "execution_count": 104,
   "outputs": [],
   "source": [
    "import cv2\n",
    "import numpy as np\n",
    "from matplotlib import pyplot as plt\n",
    "%matplotlib inline\n"
   ],
   "metadata": {
    "collapsed": false,
    "pycharm": {
     "name": "#%%\n"
    }
   }
  },
  {
   "cell_type": "code",
   "execution_count": 105,
   "outputs": [],
   "source": [
    "category_index = label_map_util.create_category_index_from_labelmap('/home/hassen/project/models/models/annotations/label_map.pbtxt')"
   ],
   "metadata": {
    "collapsed": false,
    "pycharm": {
     "name": "#%%\n"
    }
   }
  },
  {
   "cell_type": "code",
   "execution_count": 106,
   "outputs": [],
   "source": [
    "image_path = os.path.join(os.getcwd(),'models', 'models' ,'images', 'test', '2_jpg.rf.6e8748f602337794fdb2a55436449ac5.jpg')"
   ],
   "metadata": {
    "collapsed": false,
    "pycharm": {
     "name": "#%%\n"
    }
   }
  },
  {
   "cell_type": "code",
   "execution_count": 107,
   "outputs": [
    {
     "data": {
      "text/plain": "<Figure size 640x480 with 1 Axes>",
      "image/png": "[encoded data removed]"
     },
     "metadata": {},
     "output_type": "display_data"
    }
   ],
   "source": [
    "img = cv2.imread(image_path)\n",
    "image_np = np.array(img)\n",
    "\n",
    "input_tensor = tf.convert_to_tensor(np.expand_dims(image_np, 0), dtype=tf.float32)\n",
    "detections= detect_fn(input_tensor)\n",
    "\n",
    "num_detections = int(detections.pop('num_detections'))\n",
    "detections = {key: value[0, :num_detections].numpy()\n",
    "               for key, value in detections.items()}\n",
    "detections['num_detections'] = num_detections\n",
    "\n",
    "# detection_classes should be ints.\n",
    "detections['detection_classes'] = detections['detection_classes'].astype(np.int64)\n",
    "\n",
    "label_id_offset = 1\n",
    "image_np_with_detections = image_np.copy()\n",
    "\n",
    "viz_utils.visualize_boxes_and_labels_on_image_array(\n",
    "          image_np_with_detections,\n",
    "          detections['detection_boxes'],\n",
    "          detections['detection_classes']+label_id_offset,\n",
    "          detections['detection_scores'],\n",
    "          category_index,\n",
    "          use_normalized_coordinates=True,\n",
    "          max_boxes_to_draw=200,\n",
    "          min_score_thresh=.30,\n",
    "          agnostic_mode=False)\n",
    "\n",
    "plt.imshow(cv2.cvtColor(image_np_with_detections, cv2.COLOR_BGR2RGB))\n",
    "plt.show()"
   ],
   "metadata": {
    "collapsed": false,
    "pycharm": {
     "name": "#%%\n"
    }
   }
  },
  {
   "cell_type": "code",
   "execution_count": null,
   "outputs": [],
   "source": [],
   "metadata": {
    "collapsed": false,
    "pycharm": {
     "name": "#%%\n"
    }
   }
  }
 ],
 "metadata": {
  "kernelspec": {
   "display_name": "Python 3",
   "language": "python",
   "name": "python3"
  },
  "language_info": {
   "codemirror_mode": {
    "name": "ipython",
    "version": 2
   },
   "file_extension": ".py",
   "mimetype": "text/x-python",
   "name": "python",
   "nbconvert_exporter": "python",
   "pygments_lexer": "ipython2",
   "version": "2.7.6"
  }
 },
 "nbformat": 4,
 "nbformat_minor": 0
}